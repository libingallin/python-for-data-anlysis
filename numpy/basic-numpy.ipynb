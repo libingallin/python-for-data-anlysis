{
 "cells": [
  {
   "cell_type": "markdown",
   "metadata": {},
   "source": [
    "NumPy在处理数据时，使用的时间更少。"
   ]
  },
  {
   "cell_type": "code",
   "execution_count": 1,
   "metadata": {
    "ExecuteTime": {
     "end_time": "2019-04-29T09:28:53.502526Z",
     "start_time": "2019-04-29T09:28:53.441659Z"
    }
   },
   "outputs": [],
   "source": [
    "import numpy as np\n",
    "np.random.seed(42)"
   ]
  },
  {
   "cell_type": "code",
   "execution_count": 2,
   "metadata": {
    "ExecuteTime": {
     "end_time": "2019-04-29T09:28:53.529423Z",
     "start_time": "2019-04-29T09:28:53.504491Z"
    }
   },
   "outputs": [],
   "source": [
    "my_arr = np.arange(1000000)     # numpy ndarry\n",
    "my_list = list(range(1000000))  # list"
   ]
  },
  {
   "cell_type": "code",
   "execution_count": 3,
   "metadata": {
    "ExecuteTime": {
     "end_time": "2019-04-29T09:28:53.569365Z",
     "start_time": "2019-04-29T09:28:53.530421Z"
    }
   },
   "outputs": [
    {
     "name": "stdout",
     "output_type": "stream",
     "text": [
      "Wall time: 25.9 ms\n"
     ]
    }
   ],
   "source": [
    "# 序列中每个元素乘2\n",
    "%time for _ in range(10): my_arr2 = my_arr * 2"
   ]
  },
  {
   "cell_type": "code",
   "execution_count": 4,
   "metadata": {
    "ExecuteTime": {
     "end_time": "2019-04-29T09:28:54.413482Z",
     "start_time": "2019-04-29T09:28:53.571312Z"
    }
   },
   "outputs": [
    {
     "name": "stdout",
     "output_type": "stream",
     "text": [
      "Wall time: 838 ms\n"
     ]
    }
   ],
   "source": [
    "%time for _ in range(10): my_list2 = [x * 2 for x in my_list]"
   ]
  },
  {
   "cell_type": "markdown",
   "metadata": {},
   "source": [
    "**NumPy-based算法通常比对应的pure Python快10-100倍，而且使用的内存更少。**"
   ]
  },
  {
   "cell_type": "markdown",
   "metadata": {},
   "source": [
    "# 1 NumPy ndarray——一个多维数组对象\n",
    "\n",
    "NumPy最重要的一个特性是N维数组对象（ndarray）——是Python快速，灵活的大数据集container。\n",
    "\n",
    "可以对整个数组中的元素进行数学操作，语法类似于标量元素。"
   ]
  },
  {
   "cell_type": "code",
   "execution_count": 5,
   "metadata": {
    "ExecuteTime": {
     "end_time": "2019-04-29T09:28:54.423929Z",
     "start_time": "2019-04-29T09:28:54.415456Z"
    }
   },
   "outputs": [
    {
     "data": {
      "text/plain": [
       "array([[ 0.49671415, -0.1382643 ,  0.64768854],\n",
       "       [ 1.52302986, -0.23415337, -0.23413696]])"
      ]
     },
     "execution_count": 5,
     "metadata": {},
     "output_type": "execute_result"
    }
   ],
   "source": [
    "data = np.random.randn(2, 3)\n",
    "data"
   ]
  },
  {
   "cell_type": "code",
   "execution_count": 6,
   "metadata": {
    "ExecuteTime": {
     "end_time": "2019-04-29T09:28:54.436875Z",
     "start_time": "2019-04-29T09:28:54.425905Z"
    }
   },
   "outputs": [
    {
     "data": {
      "text/plain": [
       "array([[ 4.96714153, -1.38264301,  6.47688538],\n",
       "       [15.23029856, -2.34153375, -2.34136957]])"
      ]
     },
     "execution_count": 6,
     "metadata": {},
     "output_type": "execute_result"
    }
   ],
   "source": [
    "data * 10"
   ]
  },
  {
   "cell_type": "code",
   "execution_count": 7,
   "metadata": {
    "ExecuteTime": {
     "end_time": "2019-04-29T09:28:54.448846Z",
     "start_time": "2019-04-29T09:28:54.439868Z"
    }
   },
   "outputs": [
    {
     "data": {
      "text/plain": [
       "array([[ 0.99342831, -0.2765286 ,  1.29537708],\n",
       "       [ 3.04605971, -0.46830675, -0.46827391]])"
      ]
     },
     "execution_count": 7,
     "metadata": {},
     "output_type": "execute_result"
    }
   ],
   "source": [
    "data + data"
   ]
  },
  {
   "cell_type": "markdown",
   "metadata": {},
   "source": [
    "ndarray是一个多维container，内部元素是同质的，即元素类型均相同。"
   ]
  },
  {
   "cell_type": "code",
   "execution_count": 8,
   "metadata": {
    "ExecuteTime": {
     "end_time": "2019-04-29T09:28:54.458820Z",
     "start_time": "2019-04-29T09:28:54.451842Z"
    }
   },
   "outputs": [
    {
     "data": {
      "text/plain": [
       "(2, 3)"
      ]
     },
     "execution_count": 8,
     "metadata": {},
     "output_type": "execute_result"
    }
   ],
   "source": [
    "data.shape  # 元组，表示ndarray每一维的size"
   ]
  },
  {
   "cell_type": "code",
   "execution_count": 9,
   "metadata": {
    "ExecuteTime": {
     "end_time": "2019-04-29T09:28:54.467797Z",
     "start_time": "2019-04-29T09:28:54.459819Z"
    }
   },
   "outputs": [
    {
     "data": {
      "text/plain": [
       "dtype('float64')"
      ]
     },
     "execution_count": 9,
     "metadata": {},
     "output_type": "execute_result"
    }
   ],
   "source": [
    "data.dtype  # ndarray内元素类型"
   ]
  },
  {
   "cell_type": "markdown",
   "metadata": {},
   "source": [
    "**精通面向数组的编程和思考方式是成为Python数分大师的关键。**"
   ]
  },
  {
   "cell_type": "markdown",
   "metadata": {},
   "source": [
    "## 1.1 创建ndarray\n",
    "\n",
    "![创建ndarry的方式](https://raw.githubusercontent.com/libingallin/python-for-data-anlysis/master/numpy/figs/ndarray-creation%20funcs.png)"
   ]
  },
  {
   "cell_type": "markdown",
   "metadata": {},
   "source": [
    "|函数|描述|\n",
    "| :-- | :-- |\n",
    "|`np.array`|将输入数据（列表，元组，数组或其他序列类型）转换成一个ndarray，指定数据类型或自己推断；默认复制输入数据|\n",
    "|`np.asarray`|转换输入数据，若输入数据是ndarray则不复制|\n",
    "|`np.arange`|类似于Python内建`range`，返回ndarray而不是list|\n",
    "|`np.ones`|根据给定的dtype和shape生成一个元素全为1的ndarray|\n",
    "|`np.ones_like`|根据其他ndarray的dtype和shape生成一个元素全为1的ndarray|\n",
    "|`np.zeros`|根据给定的dtype和shape生成一个元素全为0的ndarray|\n",
    "|`np.zeros_like`|根据其他ndarray的dtype和shape生成一个元素全为0的ndarray|\n",
    "|`np.empty`|通过分配新内存生成一个新ndarray，但不会有任何值|\n",
    "|`np.empty_like`|根据其他ndarray的dtype和shape，通过分配新内存生成一个新ndarray，但不会有任何值|\n",
    "|`np.full`|根据给定的dtype和shape生成一个元素值（通过参数指定）相同的ndarray|\n",
    "|`np.full_like`|根据其他ndarray的dtype和shape生成一个元素值（通过参数指定）相同的ndarray|\n",
    "|`np.eye`, `np.identity`|创建一个NxN的单位矩阵（ndarray）|"
   ]
  },
  {
   "cell_type": "markdown",
   "metadata": {
    "ExecuteTime": {
     "end_time": "2019-04-29T08:09:28.469308Z",
     "start_time": "2019-04-29T08:09:28.465318Z"
    }
   },
   "source": [
    "> 因为NumPy是用来做数值计算的，因此，数据类型若未指定，都是`float64`类型。"
   ]
  },
  {
   "cell_type": "markdown",
   "metadata": {},
   "source": [
    "**最简单创建ndarray的方式是使用`np.array`函数**，这个函数接收任何sequence-like对象（也可以是其他数组）。"
   ]
  },
  {
   "cell_type": "code",
   "execution_count": 10,
   "metadata": {
    "ExecuteTime": {
     "end_time": "2019-04-29T09:28:54.477774Z",
     "start_time": "2019-04-29T09:28:54.468794Z"
    }
   },
   "outputs": [],
   "source": [
    "data1 = [6, 7.5, 8, 0, 1]"
   ]
  },
  {
   "cell_type": "code",
   "execution_count": 11,
   "metadata": {
    "ExecuteTime": {
     "end_time": "2019-04-29T09:28:54.486750Z",
     "start_time": "2019-04-29T09:28:54.478771Z"
    }
   },
   "outputs": [
    {
     "data": {
      "text/plain": [
       "array([6. , 7.5, 8. , 0. , 1. ])"
      ]
     },
     "execution_count": 11,
     "metadata": {},
     "output_type": "execute_result"
    }
   ],
   "source": [
    "arr1 = np.array(data1)\n",
    "arr1"
   ]
  },
  {
   "cell_type": "markdown",
   "metadata": {},
   "source": [
    "嵌套序列将会被转换成一个多维数组："
   ]
  },
  {
   "cell_type": "code",
   "execution_count": 12,
   "metadata": {
    "ExecuteTime": {
     "end_time": "2019-04-29T09:28:54.507698Z",
     "start_time": "2019-04-29T09:28:54.487750Z"
    }
   },
   "outputs": [],
   "source": [
    "data2 = [[1, 2, 3, 4], [5, 6, 7, 8]]"
   ]
  },
  {
   "cell_type": "code",
   "execution_count": 13,
   "metadata": {
    "ExecuteTime": {
     "end_time": "2019-04-29T09:28:54.523555Z",
     "start_time": "2019-04-29T09:28:54.508696Z"
    }
   },
   "outputs": [
    {
     "data": {
      "text/plain": [
       "array([[1, 2, 3, 4],\n",
       "       [5, 6, 7, 8]])"
      ]
     },
     "execution_count": 13,
     "metadata": {},
     "output_type": "execute_result"
    }
   ],
   "source": [
    "arr2 = np.array(data2)\n",
    "arr2"
   ]
  },
  {
   "cell_type": "markdown",
   "metadata": {},
   "source": [
    "因为`arr2`是list of list，因此`arr2`有两个维度（从数据推断）。可以使用**自省属性**`ndarray.ndim`和`ndarray.shape`来验证。"
   ]
  },
  {
   "cell_type": "code",
   "execution_count": 14,
   "metadata": {
    "ExecuteTime": {
     "end_time": "2019-04-29T09:28:54.532548Z",
     "start_time": "2019-04-29T09:28:54.524545Z"
    }
   },
   "outputs": [
    {
     "data": {
      "text/plain": [
       "2"
      ]
     },
     "execution_count": 14,
     "metadata": {},
     "output_type": "execute_result"
    }
   ],
   "source": [
    "arr2.ndim"
   ]
  },
  {
   "cell_type": "code",
   "execution_count": 15,
   "metadata": {
    "ExecuteTime": {
     "end_time": "2019-04-29T09:28:54.540502Z",
     "start_time": "2019-04-29T09:28:54.533523Z"
    }
   },
   "outputs": [
    {
     "data": {
      "text/plain": [
       "(2, 4)"
      ]
     },
     "execution_count": 15,
     "metadata": {},
     "output_type": "execute_result"
    }
   ],
   "source": [
    "arr2.shape"
   ]
  },
  {
   "cell_type": "markdown",
   "metadata": {},
   "source": [
    "除非具体指定，`np.array`自动推断出一个合适的数据类型。ndarray数据类型存在`ndarray.dtype`对象中。"
   ]
  },
  {
   "cell_type": "code",
   "execution_count": 16,
   "metadata": {
    "ExecuteTime": {
     "end_time": "2019-04-29T09:28:54.549762Z",
     "start_time": "2019-04-29T09:28:54.541500Z"
    }
   },
   "outputs": [
    {
     "data": {
      "text/plain": [
       "dtype('float64')"
      ]
     },
     "execution_count": 16,
     "metadata": {},
     "output_type": "execute_result"
    }
   ],
   "source": [
    "arr1.dtype"
   ]
  },
  {
   "cell_type": "code",
   "execution_count": 17,
   "metadata": {
    "ExecuteTime": {
     "end_time": "2019-04-29T09:28:54.557996Z",
     "start_time": "2019-04-29T09:28:54.550760Z"
    }
   },
   "outputs": [
    {
     "data": {
      "text/plain": [
       "dtype('int32')"
      ]
     },
     "execution_count": 17,
     "metadata": {},
     "output_type": "execute_result"
    }
   ],
   "source": [
    "arr2.dtype"
   ]
  },
  {
   "cell_type": "markdown",
   "metadata": {},
   "source": [
    "**其他创建ndarray的方法。**"
   ]
  },
  {
   "cell_type": "markdown",
   "metadata": {},
   "source": [
    "+ 创建全是0的ndarray"
   ]
  },
  {
   "cell_type": "code",
   "execution_count": 18,
   "metadata": {
    "ExecuteTime": {
     "end_time": "2019-04-29T09:28:54.565974Z",
     "start_time": "2019-04-29T09:28:54.558993Z"
    }
   },
   "outputs": [
    {
     "data": {
      "text/plain": [
       "array([[0., 0., 0.],\n",
       "       [0., 0., 0.]])"
      ]
     },
     "execution_count": 18,
     "metadata": {},
     "output_type": "execute_result"
    }
   ],
   "source": [
    "np.zeros((2, 3))"
   ]
  },
  {
   "cell_type": "code",
   "execution_count": 19,
   "metadata": {
    "ExecuteTime": {
     "end_time": "2019-04-29T09:28:54.574950Z",
     "start_time": "2019-04-29T09:28:54.566972Z"
    }
   },
   "outputs": [
    {
     "data": {
      "text/plain": [
       "array([0, 0, 0])"
      ]
     },
     "execution_count": 19,
     "metadata": {},
     "output_type": "execute_result"
    }
   ],
   "source": [
    "np.zeros(3, dtype='int32')"
   ]
  },
  {
   "cell_type": "code",
   "execution_count": 20,
   "metadata": {
    "ExecuteTime": {
     "end_time": "2019-04-29T09:28:54.581957Z",
     "start_time": "2019-04-29T09:28:54.575948Z"
    }
   },
   "outputs": [
    {
     "data": {
      "text/plain": [
       "array([[0, 0, 0, 0],\n",
       "       [0, 0, 0, 0]])"
      ]
     },
     "execution_count": 20,
     "metadata": {},
     "output_type": "execute_result"
    }
   ],
   "source": [
    "np.zeros_like(arr2)"
   ]
  },
  {
   "cell_type": "code",
   "execution_count": 21,
   "metadata": {
    "ExecuteTime": {
     "end_time": "2019-04-29T09:28:54.591905Z",
     "start_time": "2019-04-29T09:28:54.584924Z"
    }
   },
   "outputs": [
    {
     "data": {
      "text/plain": [
       "array([0., 0., 0., 0., 0.])"
      ]
     },
     "execution_count": 21,
     "metadata": {},
     "output_type": "execute_result"
    }
   ],
   "source": [
    "np.zeros_like(arr1)"
   ]
  },
  {
   "cell_type": "markdown",
   "metadata": {},
   "source": [
    "> 继承了数据类型。"
   ]
  },
  {
   "cell_type": "markdown",
   "metadata": {},
   "source": [
    "+ 创建全是1的ndarray\n",
    "\n",
    "与上面类似。"
   ]
  },
  {
   "cell_type": "markdown",
   "metadata": {},
   "source": [
    "+ 创建空的ndarray"
   ]
  },
  {
   "cell_type": "code",
   "execution_count": 22,
   "metadata": {
    "ExecuteTime": {
     "end_time": "2019-04-29T09:28:54.600881Z",
     "start_time": "2019-04-29T09:28:54.592903Z"
    }
   },
   "outputs": [
    {
     "data": {
      "text/plain": [
       "array([            nan, 0.00000000e+000, 1.01572069e-311, 2.02369289e-320,\n",
       "       0.00000000e+000, 0.00000000e+000, 0.00000000e+000, 0.00000000e+000,\n",
       "       0.00000000e+000, 0.00000000e+000])"
      ]
     },
     "execution_count": 22,
     "metadata": {},
     "output_type": "execute_result"
    }
   ],
   "source": [
    "np.empty(10)"
   ]
  },
  {
   "cell_type": "markdown",
   "metadata": {},
   "source": [
    "> 认为`np.empty`返回全0ndarray的想法是不安全的。在某些情况下，它返回的都是尚未初始化的辣鸡值。"
   ]
  },
  {
   "cell_type": "markdown",
   "metadata": {},
   "source": [
    "`np.arange`类似于Python的`range`函数"
   ]
  },
  {
   "cell_type": "code",
   "execution_count": 23,
   "metadata": {
    "ExecuteTime": {
     "end_time": "2019-04-29T09:28:54.609858Z",
     "start_time": "2019-04-29T09:28:54.601879Z"
    }
   },
   "outputs": [
    {
     "data": {
      "text/plain": [
       "array([0, 1, 2, 3, 4, 5, 6, 7, 8, 9])"
      ]
     },
     "execution_count": 23,
     "metadata": {},
     "output_type": "execute_result"
    }
   ],
   "source": [
    "np.arange(10)"
   ]
  },
  {
   "cell_type": "markdown",
   "metadata": {},
   "source": [
    "+ 创建元素值相同的ndarray"
   ]
  },
  {
   "cell_type": "code",
   "execution_count": 24,
   "metadata": {
    "ExecuteTime": {
     "end_time": "2019-04-29T09:28:54.629816Z",
     "start_time": "2019-04-29T09:28:54.610855Z"
    }
   },
   "outputs": [
    {
     "data": {
      "text/plain": [
       "array([[100, 100, 100],\n",
       "       [100, 100, 100]])"
      ]
     },
     "execution_count": 24,
     "metadata": {},
     "output_type": "execute_result"
    }
   ],
   "source": [
    "np.full((2, 3,), 100)"
   ]
  },
  {
   "cell_type": "markdown",
   "metadata": {},
   "source": [
    "+ 创建一个单位矩阵（ndarray）"
   ]
  },
  {
   "cell_type": "code",
   "execution_count": 25,
   "metadata": {
    "ExecuteTime": {
     "end_time": "2019-04-29T09:28:54.637800Z",
     "start_time": "2019-04-29T09:28:54.630813Z"
    }
   },
   "outputs": [
    {
     "data": {
      "text/plain": [
       "array([[1., 0., 0.],\n",
       "       [0., 1., 0.],\n",
       "       [0., 0., 1.]])"
      ]
     },
     "execution_count": 25,
     "metadata": {},
     "output_type": "execute_result"
    }
   ],
   "source": [
    "np.eye(3)"
   ]
  },
  {
   "cell_type": "markdown",
   "metadata": {},
   "source": [
    "## 1.2 ndarray的数据类型"
   ]
  },
  {
   "cell_type": "markdown",
   "metadata": {},
   "source": [
    "`dtype`/数据类型是一个特殊对象，含有ndarray将一块内存解释为特定数据类型所需的信息："
   ]
  },
  {
   "cell_type": "code",
   "execution_count": 26,
   "metadata": {
    "ExecuteTime": {
     "end_time": "2019-04-29T09:28:54.645779Z",
     "start_time": "2019-04-29T09:28:54.639795Z"
    }
   },
   "outputs": [],
   "source": [
    "arr1 = np.array([1, 2, 3,], dtype=np.float64)\n",
    "arr2 = np.array([1, 2, 3], dtype=np.float32)"
   ]
  },
  {
   "cell_type": "code",
   "execution_count": 27,
   "metadata": {
    "ExecuteTime": {
     "end_time": "2019-04-29T09:28:54.656094Z",
     "start_time": "2019-04-29T09:28:54.646776Z"
    }
   },
   "outputs": [
    {
     "data": {
      "text/plain": [
       "dtype('float64')"
      ]
     },
     "execution_count": 27,
     "metadata": {},
     "output_type": "execute_result"
    }
   ],
   "source": [
    "arr1.dtype"
   ]
  },
  {
   "cell_type": "code",
   "execution_count": 28,
   "metadata": {
    "ExecuteTime": {
     "end_time": "2019-04-29T09:28:54.665070Z",
     "start_time": "2019-04-29T09:28:54.657091Z"
    }
   },
   "outputs": [
    {
     "data": {
      "text/plain": [
       "dtype('float32')"
      ]
     },
     "execution_count": 28,
     "metadata": {},
     "output_type": "execute_result"
    }
   ],
   "source": [
    "arr2.dtype"
   ]
  },
  {
   "cell_type": "markdown",
   "metadata": {
    "ExecuteTime": {
     "end_time": "2019-04-29T08:44:19.389098Z",
     "start_time": "2019-04-29T08:44:19.384113Z"
    }
   },
   "source": [
    "`dtype`是NumPy强大和灵活的原因之一。多数情况下，他们将直接映射到相应的机器表示，这使得“读写磁盘上的二进制数据流”以及“集成低级语言(如，C、Fortran)”等工作变得简单。\n",
    "**`dtype`由一个类型名+表各元素位长的数字组成。**标准的双精度浮点型（Python float）需要占用8字节或64位。\n",
    "\n",
    "|类型|类型代码（Type code）|说明|\n",
    "| :---| :--: | :--: |\n",
    "|int8, uint8|i1, u1|有符号和无符号的8位（1字节）整型\n",
    "|int16, uint16|i2, u2|有符号和无符号的16位（2字节）整型\n",
    "|int32, uint32|i4, u4|有符号和无符号的32位（4字节）整型\n",
    "|float16|f2|半精度（half-precision）浮点数|\n",
    "|float32|f4 or f|标准的单精度浮点数；与C的float兼容|\n",
    "|float64|f8 or d|标准的双精度浮点数；与C的double和Python的float兼容|\n",
    "|float128|f16 or g|扩展的精度浮点数|\n",
    "|complex64|c8|两个32位表示的浮点数|\n",
    "|complex128|c16|两个64位表示的浮点数|\n",
    "|complex264|c32|两个128位表示的浮点数|\n",
    "|bool|?|Bolearn型，`True` or `Fasle`|\n",
    "|object|O|Python object类型；可以是任何Python对象的值|\n",
    "|string_|S|固定长度的ASCII字符串类型（每个字符character1字节），如创建一个长度为10的字符串，使用'S10'|\n",
    "|unicode_|U|固定长度的Unicode类型（字节数由平台决定），如`U10'|"
   ]
  },
  {
   "cell_type": "markdown",
   "metadata": {},
   "source": [
    "> 记不住没关系，记住大概就行了。当需要控制数据在内存和磁盘中的存储方式时（尤其是对大数据集），就得了解如何控制存储类型。"
   ]
  },
  {
   "cell_type": "markdown",
   "metadata": {},
   "source": [
    "**可以通过`ndarray.astype`显示地转换ndarray.dtype。**\n",
    "\n",
    "+ 第一种，指定数据类型："
   ]
  },
  {
   "cell_type": "code",
   "execution_count": 29,
   "metadata": {
    "ExecuteTime": {
     "end_time": "2019-04-29T09:28:54.754862Z",
     "start_time": "2019-04-29T09:28:54.750904Z"
    }
   },
   "outputs": [
    {
     "data": {
      "text/plain": [
       "dtype('int32')"
      ]
     },
     "execution_count": 29,
     "metadata": {},
     "output_type": "execute_result"
    }
   ],
   "source": [
    "arr = np.array([1, 2, 3, 4, 5])\n",
    "arr.dtype"
   ]
  },
  {
   "cell_type": "code",
   "execution_count": 30,
   "metadata": {
    "ExecuteTime": {
     "end_time": "2019-04-29T09:28:54.775807Z",
     "start_time": "2019-04-29T09:28:54.771818Z"
    }
   },
   "outputs": [
    {
     "data": {
      "text/plain": [
       "dtype('float64')"
      ]
     },
     "execution_count": 30,
     "metadata": {},
     "output_type": "execute_result"
    }
   ],
   "source": [
    "float_arr = arr.astype(np.float64)\n",
    "float_arr.dtype"
   ]
  },
  {
   "cell_type": "markdown",
   "metadata": {},
   "source": [
    "将浮点型转成整型，小数部分被丢弃，没有四舍五入。"
   ]
  },
  {
   "cell_type": "code",
   "execution_count": 31,
   "metadata": {
    "ExecuteTime": {
     "end_time": "2019-04-29T09:28:54.824649Z",
     "start_time": "2019-04-29T09:28:54.819662Z"
    }
   },
   "outputs": [
    {
     "data": {
      "text/plain": [
       "array([ 3.7, -1.2, -2.6,  0.5, 12.9, 10.1])"
      ]
     },
     "execution_count": 31,
     "metadata": {},
     "output_type": "execute_result"
    }
   ],
   "source": [
    "arr = np.array([3.7, -1.2, -2.6, 0.5, 12.9, 10.1])\n",
    "arr"
   ]
  },
  {
   "cell_type": "code",
   "execution_count": 32,
   "metadata": {
    "ExecuteTime": {
     "end_time": "2019-04-29T09:28:54.845603Z",
     "start_time": "2019-04-29T09:28:54.841608Z"
    }
   },
   "outputs": [
    {
     "data": {
      "text/plain": [
       "array([ 3, -1, -2,  0, 12, 10])"
      ]
     },
     "execution_count": 32,
     "metadata": {},
     "output_type": "execute_result"
    }
   ],
   "source": [
    "arr.astype(np.int32)"
   ]
  },
  {
   "cell_type": "markdown",
   "metadata": {},
   "source": [
    "将字符串型转成浮点型。"
   ]
  },
  {
   "cell_type": "code",
   "execution_count": 33,
   "metadata": {
    "ExecuteTime": {
     "end_time": "2019-04-29T09:30:06.303423Z",
     "start_time": "2019-04-29T09:30:06.298436Z"
    }
   },
   "outputs": [
    {
     "data": {
      "text/plain": [
       "array([b'1.25', b'-9.7', b'42'], dtype='|S4')"
      ]
     },
     "execution_count": 33,
     "metadata": {},
     "output_type": "execute_result"
    }
   ],
   "source": [
    "numeric_strings = np.array(['1.25', '-9.7', '42'], dtype=np.string_)\n",
    "numeric_strings"
   ]
  },
  {
   "cell_type": "code",
   "execution_count": 34,
   "metadata": {
    "ExecuteTime": {
     "end_time": "2019-04-29T09:30:22.293779Z",
     "start_time": "2019-04-29T09:30:22.289822Z"
    }
   },
   "outputs": [
    {
     "data": {
      "text/plain": [
       "array([ 1.25, -9.7 , 42.  ])"
      ]
     },
     "execution_count": 34,
     "metadata": {},
     "output_type": "execute_result"
    }
   ],
   "source": [
    "numeric_strings.astype(float)"
   ]
  },
  {
   "cell_type": "markdown",
   "metadata": {},
   "source": [
    "> 当使用`np.string_`时要小心，因为在NumPy中字符串数据大小被固定，而且可能会在没有警告的情况下截断数据。pandas对non-numeric数据有更直观的开箱即用行为。"
   ]
  },
  {
   "cell_type": "markdown",
   "metadata": {
    "ExecuteTime": {
     "end_time": "2019-04-29T09:37:00.618730Z",
     "start_time": "2019-04-29T09:37:00.614740Z"
    }
   },
   "source": [
    "+ 第二种：根据其他ndarray的数据类型来转换："
   ]
  },
  {
   "cell_type": "code",
   "execution_count": 38,
   "metadata": {
    "ExecuteTime": {
     "end_time": "2019-04-29T09:39:01.670601Z",
     "start_time": "2019-04-29T09:39:01.666649Z"
    }
   },
   "outputs": [],
   "source": [
    "int_array = np.arange(10)\n",
    "calibers = np.array([.22, .270, .357, .380, .44, .50], dtype=np.float64)"
   ]
  },
  {
   "cell_type": "code",
   "execution_count": 39,
   "metadata": {
    "ExecuteTime": {
     "end_time": "2019-04-29T09:39:14.165676Z",
     "start_time": "2019-04-29T09:39:14.161678Z"
    }
   },
   "outputs": [
    {
     "data": {
      "text/plain": [
       "array([0., 1., 2., 3., 4., 5., 6., 7., 8., 9.])"
      ]
     },
     "execution_count": 39,
     "metadata": {},
     "output_type": "execute_result"
    }
   ],
   "source": [
    "int_array.astype(calibers.dtype)"
   ]
  },
  {
   "cell_type": "markdown",
   "metadata": {},
   "source": [
    "可以用简单的代码类型来表示数据类型。"
   ]
  },
  {
   "cell_type": "code",
   "execution_count": 40,
   "metadata": {
    "ExecuteTime": {
     "end_time": "2019-04-29T09:41:13.538048Z",
     "start_time": "2019-04-29T09:41:13.533062Z"
    }
   },
   "outputs": [
    {
     "data": {
      "text/plain": [
       "array([2835280424,        478, 1661424176, 1988385690, 1324770695,\n",
       "            12290,          0,    7929968], dtype=uint32)"
      ]
     },
     "execution_count": 40,
     "metadata": {},
     "output_type": "execute_result"
    }
   ],
   "source": [
    "empty_unit32 = np.empty(8, dtype='u4')\n",
    "empty_unit32"
   ]
  },
  {
   "cell_type": "markdown",
   "metadata": {},
   "source": [
    "**使用`np.astype`总会创建一个新的ndarray（复制数据），即使数据类型相同。**"
   ]
  },
  {
   "cell_type": "markdown",
   "metadata": {},
   "source": [
    "## 1.3 ndarray算术运算"
   ]
  },
  {
   "cell_type": "markdown",
   "metadata": {
    "ExecuteTime": {
     "end_time": "2019-04-29T09:45:08.946205Z",
     "start_time": "2019-04-29T09:45:08.942184Z"
    }
   },
   "source": [
    "不用循环就可以对数据进行批运算，这叫**矢量化（vectorization）**。**大小相同的ndarray之间的任何算术运算都会将运算应用到元素级。**"
   ]
  },
  {
   "cell_type": "code",
   "execution_count": 43,
   "metadata": {
    "ExecuteTime": {
     "end_time": "2019-04-29T09:46:33.712310Z",
     "start_time": "2019-04-29T09:46:33.708321Z"
    }
   },
   "outputs": [
    {
     "data": {
      "text/plain": [
       "array([[1., 2., 3.],\n",
       "       [4., 5., 6.]])"
      ]
     },
     "execution_count": 43,
     "metadata": {},
     "output_type": "execute_result"
    }
   ],
   "source": [
    "arr = np.array([[1., 2., 3.], [4., 5, 6]])\n",
    "arr"
   ]
  },
  {
   "cell_type": "code",
   "execution_count": 44,
   "metadata": {
    "ExecuteTime": {
     "end_time": "2019-04-29T09:46:38.556097Z",
     "start_time": "2019-04-29T09:46:38.552108Z"
    }
   },
   "outputs": [
    {
     "data": {
      "text/plain": [
       "array([[ 1.,  4.,  9.],\n",
       "       [16., 25., 36.]])"
      ]
     },
     "execution_count": 44,
     "metadata": {},
     "output_type": "execute_result"
    }
   ],
   "source": [
    "arr * arr"
   ]
  },
  {
   "cell_type": "code",
   "execution_count": 45,
   "metadata": {
    "ExecuteTime": {
     "end_time": "2019-04-29T09:46:43.282310Z",
     "start_time": "2019-04-29T09:46:43.279317Z"
    }
   },
   "outputs": [
    {
     "data": {
      "text/plain": [
       "array([[0., 0., 0.],\n",
       "       [0., 0., 0.]])"
      ]
     },
     "execution_count": 45,
     "metadata": {},
     "output_type": "execute_result"
    }
   ],
   "source": [
    "arr - arr"
   ]
  },
  {
   "cell_type": "markdown",
   "metadata": {},
   "source": [
    "数组和标量值之间的运算也会将标量值传播到各个元素："
   ]
  },
  {
   "cell_type": "code",
   "execution_count": 46,
   "metadata": {
    "ExecuteTime": {
     "end_time": "2019-04-29T09:47:34.163523Z",
     "start_time": "2019-04-29T09:47:34.158570Z"
    }
   },
   "outputs": [
    {
     "data": {
      "text/plain": [
       "array([[1.        , 0.5       , 0.33333333],\n",
       "       [0.25      , 0.2       , 0.16666667]])"
      ]
     },
     "execution_count": 46,
     "metadata": {},
     "output_type": "execute_result"
    }
   ],
   "source": [
    "1 / arr"
   ]
  },
  {
   "cell_type": "code",
   "execution_count": 47,
   "metadata": {
    "ExecuteTime": {
     "end_time": "2019-04-29T09:47:41.993997Z",
     "start_time": "2019-04-29T09:47:41.989013Z"
    }
   },
   "outputs": [
    {
     "data": {
      "text/plain": [
       "array([[1.        , 1.41421356, 1.73205081],\n",
       "       [2.        , 2.23606798, 2.44948974]])"
      ]
     },
     "execution_count": 47,
     "metadata": {},
     "output_type": "execute_result"
    }
   ],
   "source": [
    "arr ** 0.5"
   ]
  },
  {
   "cell_type": "markdown",
   "metadata": {},
   "source": [
    "比较两个数组将会产生一个同大小的布尔型数组："
   ]
  },
  {
   "cell_type": "code",
   "execution_count": 48,
   "metadata": {
    "ExecuteTime": {
     "end_time": "2019-04-29T09:48:43.915211Z",
     "start_time": "2019-04-29T09:48:43.911189Z"
    }
   },
   "outputs": [
    {
     "data": {
      "text/plain": [
       "array([[ 0.,  4.,  1.],\n",
       "       [ 7.,  2., 12.]])"
      ]
     },
     "execution_count": 48,
     "metadata": {},
     "output_type": "execute_result"
    }
   ],
   "source": [
    "arr2 = np.array([[0., 4., 1.], [7, 2., 12.]])\n",
    "arr2"
   ]
  },
  {
   "cell_type": "code",
   "execution_count": 49,
   "metadata": {
    "ExecuteTime": {
     "end_time": "2019-04-29T09:48:48.399547Z",
     "start_time": "2019-04-29T09:48:48.395560Z"
    }
   },
   "outputs": [
    {
     "data": {
      "text/plain": [
       "array([[False,  True, False],\n",
       "       [ True, False,  True]])"
      ]
     },
     "execution_count": 49,
     "metadata": {},
     "output_type": "execute_result"
    }
   ],
   "source": [
    "arr2 > arr1"
   ]
  },
  {
   "cell_type": "markdown",
   "metadata": {},
   "source": [
    "shape不同数组之间的操作叫做**广播（broadcasting）**。详细见高阶部分。"
   ]
  },
  {
   "cell_type": "markdown",
   "metadata": {},
   "source": [
    "## 1.4 基本的索引(indexing)和切片(slicing)\n",
    "### 1.4.1 索引（indexing）"
   ]
  },
  {
   "cell_type": "markdown",
   "metadata": {},
   "source": [
    "这块内容丰富，选择数组子集和单个元素的方法有很多。"
   ]
  },
  {
   "cell_type": "markdown",
   "metadata": {},
   "source": [
    "+ 一维数组（和list类似）"
   ]
  },
  {
   "cell_type": "code",
   "execution_count": 50,
   "metadata": {
    "ExecuteTime": {
     "end_time": "2019-04-29T09:52:35.260604Z",
     "start_time": "2019-04-29T09:52:35.255618Z"
    }
   },
   "outputs": [
    {
     "data": {
      "text/plain": [
       "array([0, 1, 2, 3, 4, 5, 6, 7, 8, 9])"
      ]
     },
     "execution_count": 50,
     "metadata": {},
     "output_type": "execute_result"
    }
   ],
   "source": [
    "arr = np.arange(10)\n",
    "arr"
   ]
  },
  {
   "cell_type": "code",
   "execution_count": 52,
   "metadata": {
    "ExecuteTime": {
     "end_time": "2019-04-29T09:52:50.409278Z",
     "start_time": "2019-04-29T09:52:50.405317Z"
    }
   },
   "outputs": [
    {
     "data": {
      "text/plain": [
       "5"
      ]
     },
     "execution_count": 52,
     "metadata": {},
     "output_type": "execute_result"
    }
   ],
   "source": [
    "arr[5]  # 获取单个元素"
   ]
  },
  {
   "cell_type": "code",
   "execution_count": 53,
   "metadata": {
    "ExecuteTime": {
     "end_time": "2019-04-29T09:53:03.909530Z",
     "start_time": "2019-04-29T09:53:03.905564Z"
    }
   },
   "outputs": [
    {
     "data": {
      "text/plain": [
       "array([5, 6, 7])"
      ]
     },
     "execution_count": 53,
     "metadata": {},
     "output_type": "execute_result"
    }
   ],
   "source": [
    "arr[5:8]   # 切片"
   ]
  },
  {
   "cell_type": "code",
   "execution_count": 56,
   "metadata": {
    "ExecuteTime": {
     "end_time": "2019-04-29T09:53:26.121294Z",
     "start_time": "2019-04-29T09:53:26.117268Z"
    }
   },
   "outputs": [
    {
     "data": {
      "text/plain": [
       "array([ 0,  1,  2,  3,  4, 12, 12, 12,  8,  9])"
      ]
     },
     "execution_count": 56,
     "metadata": {},
     "output_type": "execute_result"
    }
   ],
   "source": [
    "arr[5:8] = 12\n",
    "\n",
    "arr"
   ]
  },
  {
   "cell_type": "markdown",
   "metadata": {},
   "source": [
    "> 将单个值赋给一个切片，值会被传播到整个被选择的部分。"
   ]
  },
  {
   "cell_type": "markdown",
   "metadata": {},
   "source": [
    "**数组切片和list切片最重要的区别是，数组切片是原始数组的视图。这意味着数据不会被复制，视图上的任何修改都会直接反映到源数组上。**因为NumPy是用来处理非常大的数组的，因此每次复制数据将会出现性能和内存问题。"
   ]
  },
  {
   "cell_type": "code",
   "execution_count": 57,
   "metadata": {
    "ExecuteTime": {
     "end_time": "2019-04-29T10:16:19.603503Z",
     "start_time": "2019-04-29T10:16:19.599497Z"
    }
   },
   "outputs": [
    {
     "data": {
      "text/plain": [
       "array([12, 12, 12])"
      ]
     },
     "execution_count": 57,
     "metadata": {},
     "output_type": "execute_result"
    }
   ],
   "source": [
    "arr_slice = arr[5:8]\n",
    "arr_slice"
   ]
  },
  {
   "cell_type": "code",
   "execution_count": 58,
   "metadata": {
    "ExecuteTime": {
     "end_time": "2019-04-29T10:16:34.905535Z",
     "start_time": "2019-04-29T10:16:34.902543Z"
    }
   },
   "outputs": [],
   "source": [
    "arr_slice[1] = 10000"
   ]
  },
  {
   "cell_type": "code",
   "execution_count": 59,
   "metadata": {
    "ExecuteTime": {
     "end_time": "2019-04-29T10:16:35.848944Z",
     "start_time": "2019-04-29T10:16:35.844955Z"
    }
   },
   "outputs": [
    {
     "data": {
      "text/plain": [
       "array([    0,     1,     2,     3,     4,    12, 10000,    12,     8,\n",
       "           9])"
      ]
     },
     "execution_count": 59,
     "metadata": {},
     "output_type": "execute_result"
    }
   ],
   "source": [
    "arr"
   ]
  },
  {
   "cell_type": "markdown",
   "metadata": {},
   "source": [
    "> 对切片的操作将会反映到源数组中。"
   ]
  },
  {
   "cell_type": "code",
   "execution_count": 60,
   "metadata": {
    "ExecuteTime": {
     "end_time": "2019-04-29T10:17:17.431064Z",
     "start_time": "2019-04-29T10:17:17.427078Z"
    }
   },
   "outputs": [
    {
     "data": {
      "text/plain": [
       "[0, 1, 2, 3, 4, 5, 6, 7, 8, 9]"
      ]
     },
     "execution_count": 60,
     "metadata": {},
     "output_type": "execute_result"
    }
   ],
   "source": [
    "list1 = list(range(10))\n",
    "list1"
   ]
  },
  {
   "cell_type": "code",
   "execution_count": 61,
   "metadata": {
    "ExecuteTime": {
     "end_time": "2019-04-29T10:17:37.588628Z",
     "start_time": "2019-04-29T10:17:37.584639Z"
    }
   },
   "outputs": [],
   "source": [
    "list_slice = list1[3:5]\n",
    "list_slice[1] = 100000"
   ]
  },
  {
   "cell_type": "code",
   "execution_count": 63,
   "metadata": {
    "ExecuteTime": {
     "end_time": "2019-04-29T10:17:55.018524Z",
     "start_time": "2019-04-29T10:17:55.014535Z"
    }
   },
   "outputs": [
    {
     "data": {
      "text/plain": [
       "[3, 100000]"
      ]
     },
     "execution_count": 63,
     "metadata": {},
     "output_type": "execute_result"
    }
   ],
   "source": [
    "list_slice"
   ]
  },
  {
   "cell_type": "code",
   "execution_count": 64,
   "metadata": {
    "ExecuteTime": {
     "end_time": "2019-04-29T10:18:01.394303Z",
     "start_time": "2019-04-29T10:18:01.390314Z"
    }
   },
   "outputs": [
    {
     "data": {
      "text/plain": [
       "[0, 1, 2, 3, 4, 5, 6, 7, 8, 9]"
      ]
     },
     "execution_count": 64,
     "metadata": {},
     "output_type": "execute_result"
    }
   ],
   "source": [
    "list1"
   ]
  },
  {
   "cell_type": "markdown",
   "metadata": {},
   "source": [
    "要想数组切片达到同样的效果，可以使用明显地复制数据，如，`arr[5:8].copy()`。"
   ]
  },
  {
   "cell_type": "markdown",
   "metadata": {},
   "source": [
    "+ 二维数组"
   ]
  },
  {
   "cell_type": "markdown",
   "metadata": {},
   "source": [
    "多维数组有更多的选择。"
   ]
  },
  {
   "cell_type": "code",
   "execution_count": 65,
   "metadata": {
    "ExecuteTime": {
     "end_time": "2019-04-29T10:23:08.358511Z",
     "start_time": "2019-04-29T10:23:08.354520Z"
    }
   },
   "outputs": [
    {
     "data": {
      "text/plain": [
       "array([7, 8, 9])"
      ]
     },
     "execution_count": 65,
     "metadata": {},
     "output_type": "execute_result"
    }
   ],
   "source": [
    "arr2d = np.array([[1, 2, 3], [4, 5, 6], [7, 8, 9]])\n",
    "arr2d[2]   # 二维数组的单个索引"
   ]
  },
  {
   "cell_type": "code",
   "execution_count": 66,
   "metadata": {
    "ExecuteTime": {
     "end_time": "2019-04-29T10:23:36.857428Z",
     "start_time": "2019-04-29T10:23:36.853439Z"
    }
   },
   "outputs": [
    {
     "data": {
      "text/plain": [
       "3"
      ]
     },
     "execution_count": 66,
     "metadata": {},
     "output_type": "execute_result"
    }
   ],
   "source": [
    "arr2d[0][2]   # 获取二维数组的单个值"
   ]
  },
  {
   "cell_type": "code",
   "execution_count": 68,
   "metadata": {
    "ExecuteTime": {
     "end_time": "2019-04-29T10:23:48.212549Z",
     "start_time": "2019-04-29T10:23:48.207565Z"
    }
   },
   "outputs": [
    {
     "data": {
      "text/plain": [
       "3"
      ]
     },
     "execution_count": 68,
     "metadata": {},
     "output_type": "execute_result"
    }
   ],
   "source": [
    "arr2d[0, 2]  # 获取二维数组的单个值"
   ]
  },
  {
   "cell_type": "markdown",
   "metadata": {
    "ExecuteTime": {
     "end_time": "2019-04-29T10:26:59.672572Z",
     "start_time": "2019-04-29T10:26:59.667586Z"
    }
   },
   "source": [
    "二维数组的索引如图所示。\n",
    "\n",
    "![ndarray的索引](https://raw.githubusercontent.com/libingallin/python-for-data-anlysis/master/numpy/figs/indexing-elements-in-a-numpy-array.png)\n",
    "\n",
    "> `axis=0`表示行，`axis=1`表示列。"
   ]
  },
  {
   "cell_type": "markdown",
   "metadata": {},
   "source": [
    "+ 多维数组\n",
    "\n",
    "如果省略后面的索引，则会产生一个低维的数组。"
   ]
  },
  {
   "cell_type": "code",
   "execution_count": 70,
   "metadata": {
    "ExecuteTime": {
     "end_time": "2019-04-29T10:30:51.543801Z",
     "start_time": "2019-04-29T10:30:51.539807Z"
    }
   },
   "outputs": [
    {
     "data": {
      "text/plain": [
       "array([[[ 1,  2,  3],\n",
       "        [ 4,  5,  6]],\n",
       "\n",
       "       [[ 7,  8,  9],\n",
       "        [10, 11, 12]]])"
      ]
     },
     "execution_count": 70,
     "metadata": {},
     "output_type": "execute_result"
    }
   ],
   "source": [
    "arr3d = np.array([[[1, 2, 3], [4, 5, 6]], [[7, 8, 9], [10, 11, 12]]])\n",
    "arr3d"
   ]
  },
  {
   "cell_type": "code",
   "execution_count": 71,
   "metadata": {
    "ExecuteTime": {
     "end_time": "2019-04-29T10:30:57.139510Z",
     "start_time": "2019-04-29T10:30:57.134569Z"
    }
   },
   "outputs": [
    {
     "data": {
      "text/plain": [
       "array([[1, 2, 3],\n",
       "       [4, 5, 6]])"
      ]
     },
     "execution_count": 71,
     "metadata": {},
     "output_type": "execute_result"
    }
   ],
   "source": [
    "arr3d[0]"
   ]
  },
  {
   "cell_type": "markdown",
   "metadata": {},
   "source": [
    "单个值和数组都可以被赋给`arr3d[0]`:"
   ]
  },
  {
   "cell_type": "code",
   "execution_count": 72,
   "metadata": {
    "ExecuteTime": {
     "end_time": "2019-04-29T10:31:39.590055Z",
     "start_time": "2019-04-29T10:31:39.585102Z"
    }
   },
   "outputs": [
    {
     "data": {
      "text/plain": [
       "array([[1, 2, 3],\n",
       "       [4, 5, 6]])"
      ]
     },
     "execution_count": 72,
     "metadata": {},
     "output_type": "execute_result"
    }
   ],
   "source": [
    "old_values = arr3d[0].copy()\n",
    "old_values"
   ]
  },
  {
   "cell_type": "code",
   "execution_count": 74,
   "metadata": {
    "ExecuteTime": {
     "end_time": "2019-04-29T10:32:26.342313Z",
     "start_time": "2019-04-29T10:32:26.339319Z"
    }
   },
   "outputs": [
    {
     "data": {
      "text/plain": [
       "array([[[42, 42, 42],\n",
       "        [42, 42, 42]],\n",
       "\n",
       "       [[ 7,  8,  9],\n",
       "        [10, 11, 12]]])"
      ]
     },
     "execution_count": 74,
     "metadata": {},
     "output_type": "execute_result"
    }
   ],
   "source": [
    "arr3d[0] = 42\n",
    "arr3d"
   ]
  },
  {
   "cell_type": "code",
   "execution_count": 75,
   "metadata": {
    "ExecuteTime": {
     "end_time": "2019-04-29T10:35:05.732086Z",
     "start_time": "2019-04-29T10:35:05.728098Z"
    }
   },
   "outputs": [],
   "source": [
    "arr3d[0] = np.zeros((2, 3))"
   ]
  },
  {
   "cell_type": "code",
   "execution_count": 76,
   "metadata": {
    "ExecuteTime": {
     "end_time": "2019-04-29T10:35:08.899740Z",
     "start_time": "2019-04-29T10:35:08.896748Z"
    }
   },
   "outputs": [
    {
     "data": {
      "text/plain": [
       "array([[[ 0,  0,  0],\n",
       "        [ 0,  0,  0]],\n",
       "\n",
       "       [[ 7,  8,  9],\n",
       "        [10, 11, 12]]])"
      ]
     },
     "execution_count": 76,
     "metadata": {},
     "output_type": "execute_result"
    }
   ],
   "source": [
    "arr3d"
   ]
  },
  {
   "cell_type": "code",
   "execution_count": 77,
   "metadata": {
    "ExecuteTime": {
     "end_time": "2019-04-29T10:35:52.173123Z",
     "start_time": "2019-04-29T10:35:52.169135Z"
    }
   },
   "outputs": [
    {
     "data": {
      "text/plain": [
       "array([7, 8, 9])"
      ]
     },
     "execution_count": 77,
     "metadata": {},
     "output_type": "execute_result"
    }
   ],
   "source": [
    "arr3d[1, 0]"
   ]
  },
  {
   "cell_type": "markdown",
   "metadata": {},
   "source": [
    "> **注意：**上面所有这些选取数组子集的例子中，返回的都是视图。"
   ]
  },
  {
   "cell_type": "markdown",
   "metadata": {},
   "source": [
    "### 1.4.2 切片索引（Indexing with slices）"
   ]
  },
  {
   "cell_type": "code",
   "execution_count": 78,
   "metadata": {
    "ExecuteTime": {
     "end_time": "2019-04-29T10:38:18.453784Z",
     "start_time": "2019-04-29T10:38:18.448766Z"
    }
   },
   "outputs": [
    {
     "data": {
      "text/plain": [
       "array([    0,     1,     2,     3,     4,    12, 10000,    12,     8,\n",
       "           9])"
      ]
     },
     "execution_count": 78,
     "metadata": {},
     "output_type": "execute_result"
    }
   ],
   "source": [
    "arr"
   ]
  },
  {
   "cell_type": "code",
   "execution_count": 79,
   "metadata": {
    "ExecuteTime": {
     "end_time": "2019-04-29T10:38:27.093229Z",
     "start_time": "2019-04-29T10:38:27.089234Z"
    }
   },
   "outputs": [
    {
     "data": {
      "text/plain": [
       "array([1, 2, 3, 4])"
      ]
     },
     "execution_count": 79,
     "metadata": {},
     "output_type": "execute_result"
    }
   ],
   "source": [
    "arr[1:5]"
   ]
  },
  {
   "cell_type": "code",
   "execution_count": 80,
   "metadata": {
    "ExecuteTime": {
     "end_time": "2019-04-29T10:38:35.074340Z",
     "start_time": "2019-04-29T10:38:35.070317Z"
    }
   },
   "outputs": [
    {
     "data": {
      "text/plain": [
       "array([[1, 2, 3],\n",
       "       [4, 5, 6],\n",
       "       [7, 8, 9]])"
      ]
     },
     "execution_count": 80,
     "metadata": {},
     "output_type": "execute_result"
    }
   ],
   "source": [
    "arr2d"
   ]
  },
  {
   "cell_type": "code",
   "execution_count": 81,
   "metadata": {
    "ExecuteTime": {
     "end_time": "2019-04-29T10:38:41.573856Z",
     "start_time": "2019-04-29T10:38:41.568870Z"
    }
   },
   "outputs": [
    {
     "data": {
      "text/plain": [
       "array([[1, 2, 3],\n",
       "       [4, 5, 6]])"
      ]
     },
     "execution_count": 81,
     "metadata": {},
     "output_type": "execute_result"
    }
   ],
   "source": [
    "arr2d[:2]"
   ]
  },
  {
   "cell_type": "markdown",
   "metadata": {},
   "source": [
    "> 沿轴0（第一个轴）切片。"
   ]
  },
  {
   "cell_type": "code",
   "execution_count": 82,
   "metadata": {
    "ExecuteTime": {
     "end_time": "2019-04-29T10:40:08.916039Z",
     "start_time": "2019-04-29T10:40:08.912051Z"
    }
   },
   "outputs": [
    {
     "data": {
      "text/plain": [
       "array([[2, 3],\n",
       "       [5, 6]])"
      ]
     },
     "execution_count": 82,
     "metadata": {},
     "output_type": "execute_result"
    }
   ],
   "source": [
    "arr2d[:2, 1:]"
   ]
  },
  {
   "cell_type": "markdown",
   "metadata": {},
   "source": [
    "整数索引和切片混合："
   ]
  },
  {
   "cell_type": "code",
   "execution_count": 83,
   "metadata": {
    "ExecuteTime": {
     "end_time": "2019-04-29T10:40:54.200974Z",
     "start_time": "2019-04-29T10:40:54.196984Z"
    }
   },
   "outputs": [
    {
     "data": {
      "text/plain": [
       "array([4, 5])"
      ]
     },
     "execution_count": 83,
     "metadata": {},
     "output_type": "execute_result"
    }
   ],
   "source": [
    "arr2d[1, :2]"
   ]
  },
  {
   "cell_type": "code",
   "execution_count": 84,
   "metadata": {
    "ExecuteTime": {
     "end_time": "2019-04-29T10:41:04.849130Z",
     "start_time": "2019-04-29T10:41:04.844112Z"
    }
   },
   "outputs": [
    {
     "data": {
      "text/plain": [
       "array([6, 9])"
      ]
     },
     "execution_count": 84,
     "metadata": {},
     "output_type": "execute_result"
    }
   ],
   "source": [
    "arr2d[1:, 2]"
   ]
  },
  {
   "cell_type": "markdown",
   "metadata": {},
   "source": [
    "仅仅`:`表示该轴全选。"
   ]
  },
  {
   "cell_type": "code",
   "execution_count": 85,
   "metadata": {
    "ExecuteTime": {
     "end_time": "2019-04-29T10:42:21.156616Z",
     "start_time": "2019-04-29T10:42:21.152658Z"
    }
   },
   "outputs": [
    {
     "data": {
      "text/plain": [
       "array([[1],\n",
       "       [4],\n",
       "       [7]])"
      ]
     },
     "execution_count": 85,
     "metadata": {},
     "output_type": "execute_result"
    }
   ],
   "source": [
    "arr2d[:, :1]"
   ]
  },
  {
   "cell_type": "markdown",
   "metadata": {},
   "source": [
    "对切片赋值，将会反映到源数组中："
   ]
  },
  {
   "cell_type": "code",
   "execution_count": 87,
   "metadata": {
    "ExecuteTime": {
     "end_time": "2019-04-29T10:43:37.265821Z",
     "start_time": "2019-04-29T10:43:37.262829Z"
    }
   },
   "outputs": [],
   "source": [
    "arr2d[:2, 1:] = 0"
   ]
  },
  {
   "cell_type": "code",
   "execution_count": 88,
   "metadata": {
    "ExecuteTime": {
     "end_time": "2019-04-29T10:43:41.242641Z",
     "start_time": "2019-04-29T10:43:41.238651Z"
    }
   },
   "outputs": [
    {
     "data": {
      "text/plain": [
       "array([[1, 0, 0],\n",
       "       [4, 0, 0],\n",
       "       [7, 8, 9]])"
      ]
     },
     "execution_count": 88,
     "metadata": {},
     "output_type": "execute_result"
    }
   ],
   "source": [
    "arr2d"
   ]
  },
  {
   "cell_type": "markdown",
   "metadata": {},
   "source": [
    "**二维数组的切片：**\n",
    "![二维数组的切片](https://raw.githubusercontent.com/libingallin/python-for-data-anlysis/master/numpy/figs/two-dimensional-array-slicing.png)"
   ]
  },
  {
   "cell_type": "markdown",
   "metadata": {},
   "source": [
    "## 1.5 布尔型索引（Boolean Indexing）"
   ]
  },
  {
   "cell_type": "code",
   "execution_count": 1,
   "metadata": {
    "ExecuteTime": {
     "end_time": "2019-04-29T15:08:28.885071Z",
     "start_time": "2019-04-29T15:08:28.881489Z"
    }
   },
   "outputs": [],
   "source": [
    "import numpy as np\n",
    "np.random.seed(42)"
   ]
  },
  {
   "cell_type": "code",
   "execution_count": 2,
   "metadata": {
    "ExecuteTime": {
     "end_time": "2019-04-29T15:08:29.396995Z",
     "start_time": "2019-04-29T15:08:29.377817Z"
    }
   },
   "outputs": [
    {
     "data": {
      "text/plain": [
       "array(['Bob', 'Joe', 'Will', 'Bob', 'Will', 'Joe', 'Joe'], dtype='<U4')"
      ]
     },
     "execution_count": 2,
     "metadata": {},
     "output_type": "execute_result"
    }
   ],
   "source": [
    "names = np.array(['Bob', 'Joe', 'Will', 'Bob', 'Will', 'Joe', 'Joe'])\n",
    "names"
   ]
  },
  {
   "cell_type": "code",
   "execution_count": 3,
   "metadata": {
    "ExecuteTime": {
     "end_time": "2019-04-29T15:08:29.826705Z",
     "start_time": "2019-04-29T15:08:29.817847Z"
    }
   },
   "outputs": [
    {
     "data": {
      "text/plain": [
       "array([[ 0.49671415, -0.1382643 ,  0.64768854,  1.52302986],\n",
       "       [-0.23415337, -0.23413696,  1.57921282,  0.76743473],\n",
       "       [-0.46947439,  0.54256004, -0.46341769, -0.46572975],\n",
       "       [ 0.24196227, -1.91328024, -1.72491783, -0.56228753],\n",
       "       [-1.01283112,  0.31424733, -0.90802408, -1.4123037 ],\n",
       "       [ 1.46564877, -0.2257763 ,  0.0675282 , -1.42474819],\n",
       "       [-0.54438272,  0.11092259, -1.15099358,  0.37569802]])"
      ]
     },
     "execution_count": 3,
     "metadata": {},
     "output_type": "execute_result"
    }
   ],
   "source": [
    "data = np.random.randn(7, 4)\n",
    "data"
   ]
  },
  {
   "cell_type": "markdown",
   "metadata": {},
   "source": [
    "假设每个名字对应一行数据。现选择Bob对应的数据，**和算术运算一样，数组之间的比较运算（如`==`）同样可以向量化**。"
   ]
  },
  {
   "cell_type": "code",
   "execution_count": 4,
   "metadata": {
    "ExecuteTime": {
     "end_time": "2019-04-29T15:08:30.659408Z",
     "start_time": "2019-04-29T15:08:30.649801Z"
    }
   },
   "outputs": [
    {
     "data": {
      "text/plain": [
       "array([ True, False, False,  True, False, False, False])"
      ]
     },
     "execution_count": 4,
     "metadata": {},
     "output_type": "execute_result"
    }
   ],
   "source": [
    "names == 'Bob'"
   ]
  },
  {
   "cell_type": "markdown",
   "metadata": {},
   "source": [
    "数组索引时可以传入布尔型数组："
   ]
  },
  {
   "cell_type": "code",
   "execution_count": 5,
   "metadata": {
    "ExecuteTime": {
     "end_time": "2019-04-29T15:08:31.354348Z",
     "start_time": "2019-04-29T15:08:31.348642Z"
    }
   },
   "outputs": [
    {
     "data": {
      "text/plain": [
       "array([[ 0.49671415, -0.1382643 ,  0.64768854,  1.52302986],\n",
       "       [ 0.24196227, -1.91328024, -1.72491783, -0.56228753]])"
      ]
     },
     "execution_count": 5,
     "metadata": {},
     "output_type": "execute_result"
    }
   ],
   "source": [
    "data[names == 'Bob']"
   ]
  },
  {
   "cell_type": "markdown",
   "metadata": {},
   "source": [
    "布尔型数组的长度必须和被索引的轴的长度一致。此外还可以将布尔型数组和切片或者和整数（整数序列等）混合使用。"
   ]
  },
  {
   "cell_type": "code",
   "execution_count": 6,
   "metadata": {
    "ExecuteTime": {
     "end_time": "2019-04-29T15:08:32.106626Z",
     "start_time": "2019-04-29T15:08:32.101890Z"
    }
   },
   "outputs": [
    {
     "data": {
      "text/plain": [
       "array([[ 0.64768854,  1.52302986],\n",
       "       [-1.72491783, -0.56228753]])"
      ]
     },
     "execution_count": 6,
     "metadata": {},
     "output_type": "execute_result"
    }
   ],
   "source": [
    "data[names == 'Bob', 2:]"
   ]
  },
  {
   "cell_type": "code",
   "execution_count": 7,
   "metadata": {
    "ExecuteTime": {
     "end_time": "2019-04-29T15:08:32.537088Z",
     "start_time": "2019-04-29T15:08:32.529483Z"
    }
   },
   "outputs": [
    {
     "data": {
      "text/plain": [
       "array([ 1.52302986, -0.56228753])"
      ]
     },
     "execution_count": 7,
     "metadata": {},
     "output_type": "execute_result"
    }
   ],
   "source": [
    "data[names == 'Bob', 3]"
   ]
  },
  {
   "cell_type": "markdown",
   "metadata": {},
   "source": [
    "选择不等于Bob的数据：\n",
    "1. 使用`!=`\n",
    "2. 使用`~`"
   ]
  },
  {
   "cell_type": "code",
   "execution_count": 8,
   "metadata": {
    "ExecuteTime": {
     "end_time": "2019-04-29T15:08:33.540842Z",
     "start_time": "2019-04-29T15:08:33.534957Z"
    }
   },
   "outputs": [
    {
     "data": {
      "text/plain": [
       "array([False,  True,  True, False,  True,  True,  True])"
      ]
     },
     "execution_count": 8,
     "metadata": {},
     "output_type": "execute_result"
    }
   ],
   "source": [
    "names != 'Bob'"
   ]
  },
  {
   "cell_type": "code",
   "execution_count": 9,
   "metadata": {
    "ExecuteTime": {
     "end_time": "2019-04-29T15:08:33.964038Z",
     "start_time": "2019-04-29T15:08:33.956689Z"
    }
   },
   "outputs": [
    {
     "data": {
      "text/plain": [
       "array([[-0.23415337, -0.23413696,  1.57921282,  0.76743473],\n",
       "       [-0.46947439,  0.54256004, -0.46341769, -0.46572975],\n",
       "       [-1.01283112,  0.31424733, -0.90802408, -1.4123037 ],\n",
       "       [ 1.46564877, -0.2257763 ,  0.0675282 , -1.42474819],\n",
       "       [-0.54438272,  0.11092259, -1.15099358,  0.37569802]])"
      ]
     },
     "execution_count": 9,
     "metadata": {},
     "output_type": "execute_result"
    }
   ],
   "source": [
    "data[~(names == 'Bob')]"
   ]
  },
  {
   "cell_type": "code",
   "execution_count": 10,
   "metadata": {
    "ExecuteTime": {
     "end_time": "2019-04-29T15:08:34.498117Z",
     "start_time": "2019-04-29T15:08:34.491943Z"
    }
   },
   "outputs": [
    {
     "data": {
      "text/plain": [
       "array([[-0.23415337, -0.23413696,  1.57921282,  0.76743473],\n",
       "       [-0.46947439,  0.54256004, -0.46341769, -0.46572975],\n",
       "       [-1.01283112,  0.31424733, -0.90802408, -1.4123037 ],\n",
       "       [ 1.46564877, -0.2257763 ,  0.0675282 , -1.42474819],\n",
       "       [-0.54438272,  0.11092259, -1.15099358,  0.37569802]])"
      ]
     },
     "execution_count": 10,
     "metadata": {},
     "output_type": "execute_result"
    }
   ],
   "source": [
    "data[names != 'Bob']"
   ]
  },
  {
   "cell_type": "markdown",
   "metadata": {},
   "source": [
    "使用布尔型运算符：`&`(对应`and`)和`|`(对应`or`)"
   ]
  },
  {
   "cell_type": "code",
   "execution_count": 11,
   "metadata": {
    "ExecuteTime": {
     "end_time": "2019-04-29T15:08:35.396054Z",
     "start_time": "2019-04-29T15:08:35.390171Z"
    }
   },
   "outputs": [
    {
     "data": {
      "text/plain": [
       "array([ True, False,  True,  True,  True, False, False])"
      ]
     },
     "execution_count": 11,
     "metadata": {},
     "output_type": "execute_result"
    }
   ],
   "source": [
    "mask = (names == 'Bob') | (names == 'Will')\n",
    "mask"
   ]
  },
  {
   "cell_type": "code",
   "execution_count": 12,
   "metadata": {
    "ExecuteTime": {
     "end_time": "2019-04-29T15:08:35.750281Z",
     "start_time": "2019-04-29T15:08:35.743747Z"
    }
   },
   "outputs": [
    {
     "data": {
      "text/plain": [
       "array([[ 0.49671415, -0.1382643 ,  0.64768854,  1.52302986],\n",
       "       [-0.46947439,  0.54256004, -0.46341769, -0.46572975],\n",
       "       [ 0.24196227, -1.91328024, -1.72491783, -0.56228753],\n",
       "       [-1.01283112,  0.31424733, -0.90802408, -1.4123037 ]])"
      ]
     },
     "execution_count": 12,
     "metadata": {},
     "output_type": "execute_result"
    }
   ],
   "source": [
    "data[mask]"
   ]
  },
  {
   "cell_type": "markdown",
   "metadata": {},
   "source": [
    "> Python关键词`and`和`or`在布尔型数组中无效。"
   ]
  },
  {
   "cell_type": "markdown",
   "metadata": {},
   "source": [
    "通过布尔型数组设定值是一种通用的手段。"
   ]
  },
  {
   "cell_type": "code",
   "execution_count": 13,
   "metadata": {
    "ExecuteTime": {
     "end_time": "2019-04-29T15:08:36.976873Z",
     "start_time": "2019-04-29T15:08:36.972939Z"
    }
   },
   "outputs": [],
   "source": [
    "# 将小于0的值设为0\n",
    "data[data < 0] = 0"
   ]
  },
  {
   "cell_type": "code",
   "execution_count": 14,
   "metadata": {
    "ExecuteTime": {
     "end_time": "2019-04-29T15:08:37.352955Z",
     "start_time": "2019-04-29T15:08:37.346485Z"
    }
   },
   "outputs": [
    {
     "data": {
      "text/plain": [
       "array([[0.49671415, 0.        , 0.64768854, 1.52302986],\n",
       "       [0.        , 0.        , 1.57921282, 0.76743473],\n",
       "       [0.        , 0.54256004, 0.        , 0.        ],\n",
       "       [0.24196227, 0.        , 0.        , 0.        ],\n",
       "       [0.        , 0.31424733, 0.        , 0.        ],\n",
       "       [1.46564877, 0.        , 0.0675282 , 0.        ],\n",
       "       [0.        , 0.11092259, 0.        , 0.37569802]])"
      ]
     },
     "execution_count": 14,
     "metadata": {},
     "output_type": "execute_result"
    }
   ],
   "source": [
    "data"
   ]
  },
  {
   "cell_type": "markdown",
   "metadata": {},
   "source": [
    "通过一维布尔型数组给整行/列设定值："
   ]
  },
  {
   "cell_type": "code",
   "execution_count": 15,
   "metadata": {
    "ExecuteTime": {
     "end_time": "2019-04-29T15:08:38.106494Z",
     "start_time": "2019-04-29T15:08:38.098799Z"
    }
   },
   "outputs": [],
   "source": [
    "data[names != 'Bob'] = 10"
   ]
  },
  {
   "cell_type": "code",
   "execution_count": 16,
   "metadata": {
    "ExecuteTime": {
     "end_time": "2019-04-29T15:08:38.533643Z",
     "start_time": "2019-04-29T15:08:38.526084Z"
    }
   },
   "outputs": [
    {
     "data": {
      "text/plain": [
       "array([[ 0.49671415,  0.        ,  0.64768854,  1.52302986],\n",
       "       [10.        , 10.        , 10.        , 10.        ],\n",
       "       [10.        , 10.        , 10.        , 10.        ],\n",
       "       [ 0.24196227,  0.        ,  0.        ,  0.        ],\n",
       "       [10.        , 10.        , 10.        , 10.        ],\n",
       "       [10.        , 10.        , 10.        , 10.        ],\n",
       "       [10.        , 10.        , 10.        , 10.        ]])"
      ]
     },
     "execution_count": 16,
     "metadata": {},
     "output_type": "execute_result"
    }
   ],
   "source": [
    "data"
   ]
  },
  {
   "cell_type": "markdown",
   "metadata": {},
   "source": [
    "## 1.6 花式索引（Fancy indexing）\n",
    "花式索引是指利用整数来进行索引。"
   ]
  },
  {
   "cell_type": "code",
   "execution_count": 17,
   "metadata": {
    "ExecuteTime": {
     "end_time": "2019-04-29T15:08:39.267446Z",
     "start_time": "2019-04-29T15:08:39.250551Z"
    }
   },
   "outputs": [
    {
     "data": {
      "text/plain": [
       "array([[0., 0., 0., 0.],\n",
       "       [1., 1., 1., 1.],\n",
       "       [2., 2., 2., 2.],\n",
       "       [3., 3., 3., 3.],\n",
       "       [4., 4., 4., 4.],\n",
       "       [5., 5., 5., 5.],\n",
       "       [6., 6., 6., 6.],\n",
       "       [7., 7., 7., 7.]])"
      ]
     },
     "execution_count": 17,
     "metadata": {},
     "output_type": "execute_result"
    }
   ],
   "source": [
    "arr = np.empty((8, 4))\n",
    "for i in range(8):\n",
    "    arr[i] = i\n",
    "\n",
    "arr"
   ]
  },
  {
   "cell_type": "markdown",
   "metadata": {},
   "source": [
    "以特定顺序选择行子集，只需传入一个list或整数ndarray来指定顺序："
   ]
  },
  {
   "cell_type": "code",
   "execution_count": 18,
   "metadata": {
    "ExecuteTime": {
     "end_time": "2019-04-29T15:08:39.765864Z",
     "start_time": "2019-04-29T15:08:39.760770Z"
    }
   },
   "outputs": [
    {
     "data": {
      "text/plain": [
       "array([[4., 4., 4., 4.],\n",
       "       [3., 3., 3., 3.],\n",
       "       [0., 0., 0., 0.],\n",
       "       [6., 6., 6., 6.]])"
      ]
     },
     "execution_count": 18,
     "metadata": {},
     "output_type": "execute_result"
    }
   ],
   "source": [
    "arr[[4, 3, 0, 6]]"
   ]
  },
  {
   "cell_type": "markdown",
   "metadata": {},
   "source": [
    "使用负号索引将从末尾开始选取行子集："
   ]
  },
  {
   "cell_type": "code",
   "execution_count": 19,
   "metadata": {
    "ExecuteTime": {
     "end_time": "2019-04-29T15:08:40.334600Z",
     "start_time": "2019-04-29T15:08:40.323850Z"
    }
   },
   "outputs": [
    {
     "data": {
      "text/plain": [
       "array([[5., 5., 5., 5.],\n",
       "       [4., 4., 4., 4.],\n",
       "       [6., 6., 6., 6.]])"
      ]
     },
     "execution_count": 19,
     "metadata": {},
     "output_type": "execute_result"
    }
   ],
   "source": [
    "arr[[-3, -4, -2]]"
   ]
  },
  {
   "cell_type": "markdown",
   "metadata": {},
   "source": [
    "一次传入多个索引数组会有一点特别。它返回的是一个一维数组，其中的元素对应各个索引元组："
   ]
  },
  {
   "cell_type": "code",
   "execution_count": 20,
   "metadata": {
    "ExecuteTime": {
     "end_time": "2019-04-29T15:08:40.884913Z",
     "start_time": "2019-04-29T15:08:40.875987Z"
    }
   },
   "outputs": [
    {
     "data": {
      "text/plain": [
       "array([[ 0,  1,  2,  3],\n",
       "       [ 4,  5,  6,  7],\n",
       "       [ 8,  9, 10, 11],\n",
       "       [12, 13, 14, 15],\n",
       "       [16, 17, 18, 19],\n",
       "       [20, 21, 22, 23],\n",
       "       [24, 25, 26, 27],\n",
       "       [28, 29, 30, 31]])"
      ]
     },
     "execution_count": 20,
     "metadata": {},
     "output_type": "execute_result"
    }
   ],
   "source": [
    "arr = np.arange(32).reshape(8, 4)\n",
    "arr"
   ]
  },
  {
   "cell_type": "code",
   "execution_count": 21,
   "metadata": {
    "ExecuteTime": {
     "end_time": "2019-04-29T15:08:41.320630Z",
     "start_time": "2019-04-29T15:08:41.314535Z"
    }
   },
   "outputs": [
    {
     "data": {
      "text/plain": [
       "array([ 4, 23, 29, 10])"
      ]
     },
     "execution_count": 21,
     "metadata": {},
     "output_type": "execute_result"
    }
   ],
   "source": [
    "arr[[1, 5, 7, 2], [0, 3, 1, 2]]"
   ]
  },
  {
   "cell_type": "markdown",
   "metadata": {},
   "source": [
    "> 选择的元素是(1, 0)，(5, 3)，(7, 1)，(2, 2)。"
   ]
  },
  {
   "cell_type": "markdown",
   "metadata": {},
   "source": [
    "**无论传入的索引数组多少维，花式索引结果总是一维的。**"
   ]
  },
  {
   "cell_type": "code",
   "execution_count": 22,
   "metadata": {
    "ExecuteTime": {
     "end_time": "2019-04-29T15:08:42.673844Z",
     "start_time": "2019-04-29T15:08:42.667772Z"
    }
   },
   "outputs": [
    {
     "data": {
      "text/plain": [
       "array([[ 4,  7,  5,  6],\n",
       "       [20, 23, 21, 22],\n",
       "       [28, 31, 29, 30],\n",
       "       [ 8, 11,  9, 10]])"
      ]
     },
     "execution_count": 22,
     "metadata": {},
     "output_type": "execute_result"
    }
   ],
   "source": [
    "arr[[1, 5, 7, 2]][:, [0, 3, 1, 2]]"
   ]
  },
  {
   "cell_type": "markdown",
   "metadata": {},
   "source": [
    "**和切片不一样，花式索引总是将数据复制到新数组中。**"
   ]
  },
  {
   "cell_type": "markdown",
   "metadata": {},
   "source": [
    "## 1.6 数组转置和轴兑换"
   ]
  },
  {
   "cell_type": "markdown",
   "metadata": {
    "ExecuteTime": {
     "end_time": "2019-04-29T15:25:40.551005Z",
     "start_time": "2019-04-29T15:25:40.547388Z"
    }
   },
   "source": [
    "+ **转置**"
   ]
  },
  {
   "cell_type": "markdown",
   "metadata": {},
   "source": [
    "转置（Transpose）是重塑（reshape）的一种特殊形式，转置返回的是数据的视图（没有复制数据）。数组不仅有`transpose`方法还有特殊的`T`属性。"
   ]
  },
  {
   "cell_type": "code",
   "execution_count": 24,
   "metadata": {
    "ExecuteTime": {
     "end_time": "2019-04-29T15:13:40.383831Z",
     "start_time": "2019-04-29T15:13:40.379253Z"
    }
   },
   "outputs": [
    {
     "data": {
      "text/plain": [
       "array([[ 0,  1,  2,  3,  4],\n",
       "       [ 5,  6,  7,  8,  9],\n",
       "       [10, 11, 12, 13, 14]])"
      ]
     },
     "execution_count": 24,
     "metadata": {},
     "output_type": "execute_result"
    }
   ],
   "source": [
    "arr = np.arange(15).reshape(3, 5)\n",
    "arr"
   ]
  },
  {
   "cell_type": "code",
   "execution_count": 25,
   "metadata": {
    "ExecuteTime": {
     "end_time": "2019-04-29T15:13:40.393917Z",
     "start_time": "2019-04-29T15:13:40.389881Z"
    }
   },
   "outputs": [
    {
     "data": {
      "text/plain": [
       "array([[ 0,  5, 10],\n",
       "       [ 1,  6, 11],\n",
       "       [ 2,  7, 12],\n",
       "       [ 3,  8, 13],\n",
       "       [ 4,  9, 14]])"
      ]
     },
     "execution_count": 25,
     "metadata": {},
     "output_type": "execute_result"
    }
   ],
   "source": [
    "arr.T"
   ]
  },
  {
   "cell_type": "code",
   "execution_count": 26,
   "metadata": {
    "ExecuteTime": {
     "end_time": "2019-04-29T15:13:55.133339Z",
     "start_time": "2019-04-29T15:13:55.127466Z"
    }
   },
   "outputs": [
    {
     "data": {
      "text/plain": [
       "array([[ 0,  5, 10],\n",
       "       [ 1,  6, 11],\n",
       "       [ 2,  7, 12],\n",
       "       [ 3,  8, 13],\n",
       "       [ 4,  9, 14]])"
      ]
     },
     "execution_count": 26,
     "metadata": {},
     "output_type": "execute_result"
    }
   ],
   "source": [
    "arr.transpose()"
   ]
  },
  {
   "cell_type": "markdown",
   "metadata": {},
   "source": [
    "在进行矩阵运算时，会经常用到该操作，如矩阵内积（`np.dot`）："
   ]
  },
  {
   "cell_type": "code",
   "execution_count": 27,
   "metadata": {
    "ExecuteTime": {
     "end_time": "2019-04-29T15:15:18.407138Z",
     "start_time": "2019-04-29T15:15:18.400011Z"
    }
   },
   "outputs": [
    {
     "data": {
      "text/plain": [
       "array([[-0.60063869, -0.29169375, -0.60170661],\n",
       "       [ 1.85227818, -0.01349722, -1.05771093],\n",
       "       [ 0.82254491, -1.22084365,  0.2088636 ],\n",
       "       [-1.95967012, -1.32818605,  0.19686124],\n",
       "       [ 0.73846658,  0.17136828, -0.11564828],\n",
       "       [-0.3011037 , -1.47852199, -0.71984421]])"
      ]
     },
     "execution_count": 27,
     "metadata": {},
     "output_type": "execute_result"
    }
   ],
   "source": [
    "arr = np.random.randn(6, 3)\n",
    "arr"
   ]
  },
  {
   "cell_type": "code",
   "execution_count": 28,
   "metadata": {
    "ExecuteTime": {
     "end_time": "2019-04-29T15:15:30.499652Z",
     "start_time": "2019-04-29T15:15:30.487098Z"
    }
   },
   "outputs": [
    {
     "data": {
      "text/plain": [
       "array([[ 8.94458476,  2.32054791, -1.68040464],\n",
       "       [ 2.32054791,  5.55519918,  0.71781912],\n",
       "       [-1.68040464,  0.71781912,  2.09473181]])"
      ]
     },
     "execution_count": 28,
     "metadata": {},
     "output_type": "execute_result"
    }
   ],
   "source": [
    "np.dot(arr.T, arr)"
   ]
  },
  {
   "cell_type": "markdown",
   "metadata": {},
   "source": [
    "对于高维数组，`transpose`将会接收轴号组成的元组才能对这些轴进行转置："
   ]
  },
  {
   "cell_type": "code",
   "execution_count": 29,
   "metadata": {
    "ExecuteTime": {
     "end_time": "2019-04-29T15:17:32.895923Z",
     "start_time": "2019-04-29T15:17:32.891218Z"
    }
   },
   "outputs": [
    {
     "data": {
      "text/plain": [
       "array([[[ 0,  1,  2,  3],\n",
       "        [ 4,  5,  6,  7]],\n",
       "\n",
       "       [[ 8,  9, 10, 11],\n",
       "        [12, 13, 14, 15]]])"
      ]
     },
     "execution_count": 29,
     "metadata": {},
     "output_type": "execute_result"
    }
   ],
   "source": [
    "arr = np.arange(16).reshape((2, 2, 4))\n",
    "arr"
   ]
  },
  {
   "cell_type": "code",
   "execution_count": 30,
   "metadata": {
    "ExecuteTime": {
     "end_time": "2019-04-29T15:17:55.411115Z",
     "start_time": "2019-04-29T15:17:55.405079Z"
    }
   },
   "outputs": [
    {
     "data": {
      "text/plain": [
       "array([[[ 0,  1,  2,  3],\n",
       "        [ 8,  9, 10, 11]],\n",
       "\n",
       "       [[ 4,  5,  6,  7],\n",
       "        [12, 13, 14, 15]]])"
      ]
     },
     "execution_count": 30,
     "metadata": {},
     "output_type": "execute_result"
    }
   ],
   "source": [
    "arr.transpose((1, 0, 2))"
   ]
  },
  {
   "cell_type": "markdown",
   "metadata": {},
   "source": [
    "> 转置将原来的shape从(2, 2, 4)（对应的是(0, 1, 2)）变成了(2, 2, 4)（对应于(1, 0, 2)），其实是将第一个轴和第二个轴元素对换，最后一个轴保持不变。如元素8的位置是(0, 1, 0)，转置后的位置(1, 0, 0)。"
   ]
  },
  {
   "cell_type": "markdown",
   "metadata": {},
   "source": [
    "+ **轴对换（swap axes）**\n",
    "\n",
    "`ndarray.T`是轴对换的一种特殊例子。`ndarray.swapaxes`接收一对轴编号（a pair of axis number），然后转换来重塑数据："
   ]
  },
  {
   "cell_type": "code",
   "execution_count": 32,
   "metadata": {
    "ExecuteTime": {
     "end_time": "2019-04-29T15:30:50.349309Z",
     "start_time": "2019-04-29T15:30:50.340287Z"
    }
   },
   "outputs": [
    {
     "data": {
      "text/plain": [
       "array([[[ 0,  1,  2,  3],\n",
       "        [ 4,  5,  6,  7]],\n",
       "\n",
       "       [[ 8,  9, 10, 11],\n",
       "        [12, 13, 14, 15]]])"
      ]
     },
     "execution_count": 32,
     "metadata": {},
     "output_type": "execute_result"
    }
   ],
   "source": [
    "arr"
   ]
  },
  {
   "cell_type": "code",
   "execution_count": 33,
   "metadata": {
    "ExecuteTime": {
     "end_time": "2019-04-29T15:31:01.045833Z",
     "start_time": "2019-04-29T15:31:01.041458Z"
    }
   },
   "outputs": [
    {
     "data": {
      "text/plain": [
       "array([[[ 0,  4],\n",
       "        [ 1,  5],\n",
       "        [ 2,  6],\n",
       "        [ 3,  7]],\n",
       "\n",
       "       [[ 8, 12],\n",
       "        [ 9, 13],\n",
       "        [10, 14],\n",
       "        [11, 15]]])"
      ]
     },
     "execution_count": 33,
     "metadata": {},
     "output_type": "execute_result"
    }
   ],
   "source": [
    "arr.swapaxes(1, 2)"
   ]
  },
  {
   "cell_type": "markdown",
   "metadata": {},
   "source": [
    "> 将第2个轴和第三个轴对换。"
   ]
  },
  {
   "cell_type": "markdown",
   "metadata": {},
   "source": [
    "# 2 通用函数——快速的元素级数组函数"
   ]
  },
  {
   "cell_type": "markdown",
   "metadata": {},
   "source": [
    "**通用函数（universal function, or ufunc）**是一个对ndarray中数据执行元素级操作的函数。可以将它们看做是对简单函数（输入是一个或多个标量值，输出是一个或多个标量值）的快速矢量化包装。\n",
    "\n",
    "许多ufuncs都是简单对元素进行转换，如："
   ]
  },
  {
   "cell_type": "code",
   "execution_count": 34,
   "metadata": {
    "ExecuteTime": {
     "end_time": "2019-04-29T15:36:24.876962Z",
     "start_time": "2019-04-29T15:36:24.864687Z"
    }
   },
   "outputs": [
    {
     "data": {
      "text/plain": [
       "array([0, 1, 2, 3, 4, 5, 6, 7, 8, 9])"
      ]
     },
     "execution_count": 34,
     "metadata": {},
     "output_type": "execute_result"
    }
   ],
   "source": [
    "arr = np.arange(10)\n",
    "arr"
   ]
  },
  {
   "cell_type": "code",
   "execution_count": 35,
   "metadata": {
    "ExecuteTime": {
     "end_time": "2019-04-29T15:36:32.829479Z",
     "start_time": "2019-04-29T15:36:32.823119Z"
    }
   },
   "outputs": [
    {
     "data": {
      "text/plain": [
       "array([0.        , 1.        , 1.41421356, 1.73205081, 2.        ,\n",
       "       2.23606798, 2.44948974, 2.64575131, 2.82842712, 3.        ])"
      ]
     },
     "execution_count": 35,
     "metadata": {},
     "output_type": "execute_result"
    }
   ],
   "source": [
    "np.sqrt(arr)"
   ]
  },
  {
   "cell_type": "code",
   "execution_count": 37,
   "metadata": {
    "ExecuteTime": {
     "end_time": "2019-04-29T15:36:49.138386Z",
     "start_time": "2019-04-29T15:36:49.132770Z"
    }
   },
   "outputs": [
    {
     "data": {
      "text/plain": [
       "array([1.00000000e+00, 2.71828183e+00, 7.38905610e+00, 2.00855369e+01,\n",
       "       5.45981500e+01, 1.48413159e+02, 4.03428793e+02, 1.09663316e+03,\n",
       "       2.98095799e+03, 8.10308393e+03])"
      ]
     },
     "execution_count": 37,
     "metadata": {},
     "output_type": "execute_result"
    }
   ],
   "source": [
    "np.exp(arr)"
   ]
  },
  {
   "cell_type": "markdown",
   "metadata": {},
   "source": [
    "这些都是一元的ufuncs（unary ufuncs）。其他，如`add`，`maximum`等接收两个数组（称为二元ufuncs，binary ufuncs），返回单个数组作为结果。"
   ]
  },
  {
   "cell_type": "code",
   "execution_count": 38,
   "metadata": {
    "ExecuteTime": {
     "end_time": "2019-04-29T15:41:11.207766Z",
     "start_time": "2019-04-29T15:41:11.199062Z"
    }
   },
   "outputs": [],
   "source": [
    "x = np.arange(5)\n",
    "y = np.arange(6, 11)"
   ]
  },
  {
   "cell_type": "code",
   "execution_count": 39,
   "metadata": {
    "ExecuteTime": {
     "end_time": "2019-04-29T15:41:28.359050Z",
     "start_time": "2019-04-29T15:41:28.355038Z"
    }
   },
   "outputs": [
    {
     "data": {
      "text/plain": [
       "array([ 6,  7,  8,  9, 10])"
      ]
     },
     "execution_count": 39,
     "metadata": {},
     "output_type": "execute_result"
    }
   ],
   "source": [
    "np.maximum(x, y)"
   ]
  },
  {
   "cell_type": "markdown",
   "metadata": {},
   "source": [
    "尽管不常见，ufunc可以返回多个数组。`np.modf`是Python内建`divmod`的矢量化版本——它返回整数部分和小数部分的浮点数数组："
   ]
  },
  {
   "cell_type": "code",
   "execution_count": 40,
   "metadata": {
    "ExecuteTime": {
     "end_time": "2019-04-29T15:45:29.357751Z",
     "start_time": "2019-04-29T15:45:29.352518Z"
    }
   },
   "outputs": [
    {
     "data": {
      "text/plain": [
       "array([-2.30319385,  5.28561113,  1.71809145, -8.81520078,  1.62041985,\n",
       "       -1.9254114 , -3.38461   ])"
      ]
     },
     "execution_count": 40,
     "metadata": {},
     "output_type": "execute_result"
    }
   ],
   "source": [
    "arr = np.random.randn(7) * 5\n",
    "arr"
   ]
  },
  {
   "cell_type": "code",
   "execution_count": 42,
   "metadata": {
    "ExecuteTime": {
     "end_time": "2019-04-29T15:46:07.073552Z",
     "start_time": "2019-04-29T15:46:07.070620Z"
    }
   },
   "outputs": [],
   "source": [
    "remainder, whole_part = np.modf(arr)"
   ]
  },
  {
   "cell_type": "code",
   "execution_count": 43,
   "metadata": {
    "ExecuteTime": {
     "end_time": "2019-04-29T15:46:15.575344Z",
     "start_time": "2019-04-29T15:46:15.571358Z"
    }
   },
   "outputs": [
    {
     "data": {
      "text/plain": [
       "array([-0.30319385,  0.28561113,  0.71809145, -0.81520078,  0.62041985,\n",
       "       -0.9254114 , -0.38461   ])"
      ]
     },
     "execution_count": 43,
     "metadata": {},
     "output_type": "execute_result"
    }
   ],
   "source": [
    "remainder"
   ]
  },
  {
   "cell_type": "code",
   "execution_count": 44,
   "metadata": {
    "ExecuteTime": {
     "end_time": "2019-04-29T15:46:18.715545Z",
     "start_time": "2019-04-29T15:46:18.711288Z"
    }
   },
   "outputs": [
    {
     "data": {
      "text/plain": [
       "array([-2.,  5.,  1., -8.,  1., -1., -3.])"
      ]
     },
     "execution_count": 44,
     "metadata": {},
     "output_type": "execute_result"
    }
   ],
   "source": [
    "whole_part"
   ]
  },
  {
   "cell_type": "markdown",
   "metadata": {},
   "source": [
    "ufunc有一个`out`可选参数，可以对数据进行原地操作："
   ]
  },
  {
   "cell_type": "code",
   "execution_count": 45,
   "metadata": {
    "ExecuteTime": {
     "end_time": "2019-04-29T15:47:30.603980Z",
     "start_time": "2019-04-29T15:47:30.598173Z"
    }
   },
   "outputs": [
    {
     "data": {
      "text/plain": [
       "array([-2.30319385,  5.28561113,  1.71809145, -8.81520078,  1.62041985,\n",
       "       -1.9254114 , -3.38461   ])"
      ]
     },
     "execution_count": 45,
     "metadata": {},
     "output_type": "execute_result"
    }
   ],
   "source": [
    "arr"
   ]
  },
  {
   "cell_type": "code",
   "execution_count": 46,
   "metadata": {
    "ExecuteTime": {
     "end_time": "2019-04-29T15:47:37.892543Z",
     "start_time": "2019-04-29T15:47:37.878980Z"
    }
   },
   "outputs": [
    {
     "name": "stderr",
     "output_type": "stream",
     "text": [
      "/home/bingli/anaconda3/envs/tf/lib/python3.6/site-packages/ipykernel_launcher.py:1: RuntimeWarning: invalid value encountered in sqrt\n",
      "  \"\"\"Entry point for launching an IPython kernel.\n"
     ]
    },
    {
     "data": {
      "text/plain": [
       "array([       nan, 2.2990457 , 1.31075987,        nan, 1.27295713,\n",
       "              nan,        nan])"
      ]
     },
     "execution_count": 46,
     "metadata": {},
     "output_type": "execute_result"
    }
   ],
   "source": [
    "np.sqrt(arr)"
   ]
  },
  {
   "cell_type": "code",
   "execution_count": 47,
   "metadata": {
    "ExecuteTime": {
     "end_time": "2019-04-29T15:47:50.878709Z",
     "start_time": "2019-04-29T15:47:50.867158Z"
    }
   },
   "outputs": [
    {
     "name": "stderr",
     "output_type": "stream",
     "text": [
      "/home/bingli/anaconda3/envs/tf/lib/python3.6/site-packages/ipykernel_launcher.py:1: RuntimeWarning: invalid value encountered in sqrt\n",
      "  \"\"\"Entry point for launching an IPython kernel.\n"
     ]
    },
    {
     "data": {
      "text/plain": [
       "array([       nan, 2.2990457 , 1.31075987,        nan, 1.27295713,\n",
       "              nan,        nan])"
      ]
     },
     "execution_count": 47,
     "metadata": {},
     "output_type": "execute_result"
    }
   ],
   "source": [
    "np.sqrt(arr, arr)"
   ]
  },
  {
   "cell_type": "code",
   "execution_count": 48,
   "metadata": {
    "ExecuteTime": {
     "end_time": "2019-04-29T15:47:53.852853Z",
     "start_time": "2019-04-29T15:47:53.848235Z"
    }
   },
   "outputs": [
    {
     "data": {
      "text/plain": [
       "array([       nan, 2.2990457 , 1.31075987,        nan, 1.27295713,\n",
       "              nan,        nan])"
      ]
     },
     "execution_count": 48,
     "metadata": {},
     "output_type": "execute_result"
    }
   ],
   "source": [
    "arr"
   ]
  },
  {
   "cell_type": "markdown",
   "metadata": {},
   "source": [
    "**一元ufuncs**\n",
    "\n",
    "|函数|描述|\n",
    "| :-- | :--: |\n",
    "|`np.abs`, `np.fabs`|计算整数、浮点数、复数的绝对值（逐元素）。对于非复数值，可以用更快的`np.fabs`|\n",
    "|`np.sqrt`|计算每个元素的平方根（等价于`arr ** 0.5`）|\n",
    "|`np.square`|计算每个元素的平方（等价于`arr ** 2`）|\n",
    "|`np.exp`|逐元素$e^x$|\n",
    "|`np.log`, `np.log10`|逐元素取对数，以e、10为底|\n",
    "|`np.log2`, `np.log1p`|逐元素取以2为底的对数，$log(1+x)$|\n",
    "|`np.sign`|符号函数：1（正数）、0（0），-1（负数）|\n",
    "|`np.ceil`|逐元素的ceiling值，即大于等于该值的最小整数|\n",
    "|`np.floor`|计算逐元素的floor值，即小于等于该值的最大整数|\n",
    "|`np.rint`|四舍五入取整，保留dtype|\n",
    "|`np.modf`|将数组元素的小数和整数部分分开成两个数组|\n",
    "|`np.isnan`|返回一个表示哪些元素是NaN（不是一个数）的布尔型数组|\n",
    "|`np.isfinite`, `np.isinf`|分别返回一个表示哪些元素是又穷的（非inf、非NaN）、哪些元素是无穷的布尔型数组|\n",
    "|`np.cos`, `np.cosh`, `np.sin`|普通型和双曲线三角函数|\n",
    "|`np.sinh`, `np.tan`, `np.tanh`||\n",
    "|`np.arccos`, `np.arccosh`||\n",
    "|`np.acrsin`, `np.arcsinh`||\n",
    "|`np.arctan`, `np.arctanh`||\n",
    "|`np.logical_not`|计算各元素的not x真值（`~arr`）|\n",
    "\n",
    "\n",
    "\n",
    "**二元ufuncs**\n",
    "\n",
    "|函数|描述|\n",
    "| :-- | :--: |\n",
    "|`np.add`|两个数组中对应元素相加|\n",
    "|`np.subtract`|第一个数组中的元素减去第二个数组中的元素|\n",
    "|`np.multiply`|两个数组中元素对应相乘|\n",
    "|`np.divide`, `np.floor_divide`|除法，去除小数|\n",
    "|`np.power(A, B)`|幂运算$A^B$|\n",
    "|`np.maximum`, `np.fmax`|对应元素最大值；`np.fmax`忽略`NaN`|\n",
    "|`np.minimum`, `np.fmin`|对应元素最小值；`np.fmim`忽略`NaN`|\n",
    "|`np.mod`|元素值取模操作|\n",
    "|`np.copysign`|将第二个数组中值的符号复制给第一数组中的元素|\n",
    "|`np.greater`, `np.greater_equal`|元素级比较`>`, `>=`, `<`, `<=`, `==`, `!=`|\n",
    "|`np.less`, `np.less_equal`||\n",
    "|`np.equal`, `np.equal_equal`||\n",
    "|`np.logical_and`, `np.logical_or`, `np.logical_xor`|元素级真值操作（`&`, `|`, `^`）|"
   ]
  },
  {
   "cell_type": "markdown",
   "metadata": {},
   "source": [
    "# 3 利用数据进行面向数组的编程\n",
    "NumPy数组允许将许多数据处理任务表述为简单的数组表达式（否则需要写循环），用数组表达式代替循环的操作称为**矢量化vectorization**。**通常矢量化数组操作比等价的纯Python方式快上一到两个（或更多）数量级，尤其是各种数值计算。**在高阶部分，广播（broadcasting）是一种针对矢量化的强大手段。\n",
    "\n",
    "现在要在网格中计算$\\sqrt{x^2+y^2}$。"
   ]
  },
  {
   "cell_type": "code",
   "execution_count": 2,
   "metadata": {
    "ExecuteTime": {
     "end_time": "2019-04-30T02:06:52.491345Z",
     "start_time": "2019-04-30T02:06:52.488361Z"
    }
   },
   "outputs": [],
   "source": [
    "points = np.arange(-5, 5, 0.01)   # 1000个等间距点"
   ]
  },
  {
   "cell_type": "code",
   "execution_count": 3,
   "metadata": {
    "ExecuteTime": {
     "end_time": "2019-04-30T02:07:04.903435Z",
     "start_time": "2019-04-30T02:07:04.893464Z"
    }
   },
   "outputs": [],
   "source": [
    "xs, ys = np.meshgrid(points, points)"
   ]
  },
  {
   "cell_type": "markdown",
   "metadata": {},
   "source": [
    "![`np.meshgrid`](https://raw.githubusercontent.com/libingallin/python-for-data-anlysis/master/numpy/figs/meshgrid.jpg)"
   ]
  },
  {
   "cell_type": "code",
   "execution_count": 4,
   "metadata": {
    "ExecuteTime": {
     "end_time": "2019-04-30T02:10:33.405539Z",
     "start_time": "2019-04-30T02:10:33.368612Z"
    }
   },
   "outputs": [
    {
     "data": {
      "text/plain": [
       "array([[7.07106781, 7.06400028, 7.05693985, ..., 7.04988652, 7.05693985,\n",
       "        7.06400028],\n",
       "       [7.06400028, 7.05692568, 7.04985815, ..., 7.04279774, 7.04985815,\n",
       "        7.05692568],\n",
       "       [7.05693985, 7.04985815, 7.04278354, ..., 7.03571603, 7.04278354,\n",
       "        7.04985815],\n",
       "       ...,\n",
       "       [7.04988652, 7.04279774, 7.03571603, ..., 7.0286414 , 7.03571603,\n",
       "        7.04279774],\n",
       "       [7.05693985, 7.04985815, 7.04278354, ..., 7.03571603, 7.04278354,\n",
       "        7.04985815],\n",
       "       [7.06400028, 7.05692568, 7.04985815, ..., 7.04279774, 7.04985815,\n",
       "        7.05692568]])"
      ]
     },
     "execution_count": 4,
     "metadata": {},
     "output_type": "execute_result"
    }
   ],
   "source": [
    "np.sqrt(xs ** 2 + ys ** 2)"
   ]
  },
  {
   "cell_type": "markdown",
   "metadata": {},
   "source": [
    "## 3.1 将条件逻辑表述为数组运算\n",
    "\n",
    "`np.where`是三元表达式`x if condition else y`的矢量化版本。"
   ]
  },
  {
   "cell_type": "code",
   "execution_count": 5,
   "metadata": {
    "ExecuteTime": {
     "end_time": "2019-04-30T02:12:59.456522Z",
     "start_time": "2019-04-30T02:12:59.451535Z"
    }
   },
   "outputs": [],
   "source": [
    "xarr = np.array([1.1, 1.2, 1.3, 1.4, 1.5])\n",
    "yarr = np.array([2.1, 2.2, 2.3, 2.4, 2.5])\n",
    "cond = np.array([True, False, True, True, False])"
   ]
  },
  {
   "cell_type": "markdown",
   "metadata": {},
   "source": [
    "当条件为真，选`xarr`中的元素，否则选择`yarr`中的元素。"
   ]
  },
  {
   "cell_type": "code",
   "execution_count": 7,
   "metadata": {
    "ExecuteTime": {
     "end_time": "2019-04-30T02:15:00.879594Z",
     "start_time": "2019-04-30T02:15:00.874638Z"
    }
   },
   "outputs": [
    {
     "data": {
      "text/plain": [
       "[1.1, 2.2, 1.3, 1.4, 2.5]"
      ]
     },
     "execution_count": 7,
     "metadata": {},
     "output_type": "execute_result"
    }
   ],
   "source": [
    "# 列表推导式\n",
    "result = [(x if c else y) for x, y, c in zip(xarr, yarr, cond)]\n",
    "result"
   ]
  },
  {
   "cell_type": "markdown",
   "metadata": {},
   "source": [
    "> 1. 对大数组来说，不够快，因为是用纯Python完成的；\n",
    "> 2. 对多维数组无效。"
   ]
  },
  {
   "cell_type": "code",
   "execution_count": 8,
   "metadata": {
    "ExecuteTime": {
     "end_time": "2019-04-30T02:16:30.715114Z",
     "start_time": "2019-04-30T02:16:30.711072Z"
    }
   },
   "outputs": [
    {
     "data": {
      "text/plain": [
       "array([1.1, 2.2, 1.3, 1.4, 2.5])"
      ]
     },
     "execution_count": 8,
     "metadata": {},
     "output_type": "execute_result"
    }
   ],
   "source": [
    "np.where(cond, xarr, yarr)"
   ]
  },
  {
   "cell_type": "markdown",
   "metadata": {},
   "source": [
    "在`np.where`中，第二个和第三个参数可以不是数组，而是标量值。在数据分析中，通常用于根据一个数组产生一个新的数组。\n",
    "\n",
    "现：将数组中大于0的元素替换为2，其他值替换为0。"
   ]
  },
  {
   "cell_type": "code",
   "execution_count": 9,
   "metadata": {
    "ExecuteTime": {
     "end_time": "2019-04-30T02:19:49.889202Z",
     "start_time": "2019-04-30T02:19:49.882222Z"
    }
   },
   "outputs": [
    {
     "data": {
      "text/plain": [
       "array([[ 1.24186815, -0.21812796,  2.00830792,  1.59748927],\n",
       "       [-1.14259079, -1.7585347 , -0.62974076, -0.50431256],\n",
       "       [ 0.8341356 , -0.7187342 ,  1.30031649,  0.32001963],\n",
       "       [-0.33770858,  0.03946813, -0.25501239,  2.01117153]])"
      ]
     },
     "execution_count": 9,
     "metadata": {},
     "output_type": "execute_result"
    }
   ],
   "source": [
    "arr = np.random.randn(4, 4)\n",
    "arr"
   ]
  },
  {
   "cell_type": "code",
   "execution_count": 11,
   "metadata": {
    "ExecuteTime": {
     "end_time": "2019-04-30T02:20:09.594891Z",
     "start_time": "2019-04-30T02:20:09.589905Z"
    }
   },
   "outputs": [
    {
     "data": {
      "text/plain": [
       "array([[ 2, -2,  2,  2],\n",
       "       [-2, -2, -2, -2],\n",
       "       [ 2, -2,  2,  2],\n",
       "       [-2,  2, -2,  2]])"
      ]
     },
     "execution_count": 11,
     "metadata": {},
     "output_type": "execute_result"
    }
   ],
   "source": [
    "np.where(arr > 0, 2, -2)"
   ]
  },
  {
   "cell_type": "markdown",
   "metadata": {},
   "source": [
    "可以把标量值和数组结合起来："
   ]
  },
  {
   "cell_type": "code",
   "execution_count": 12,
   "metadata": {
    "ExecuteTime": {
     "end_time": "2019-04-30T02:27:02.788366Z",
     "start_time": "2019-04-30T02:27:02.783411Z"
    }
   },
   "outputs": [
    {
     "data": {
      "text/plain": [
       "array([[ 2.        , -0.21812796,  2.        ,  2.        ],\n",
       "       [-1.14259079, -1.7585347 , -0.62974076, -0.50431256],\n",
       "       [ 2.        , -0.7187342 ,  2.        ,  2.        ],\n",
       "       [-0.33770858,  2.        , -0.25501239,  2.        ]])"
      ]
     },
     "execution_count": 12,
     "metadata": {},
     "output_type": "execute_result"
    }
   ],
   "source": [
    "np.where(arr > 0, 2, arr)"
   ]
  },
  {
   "cell_type": "markdown",
   "metadata": {},
   "source": [
    "传给`np.where`的数组大小可以不相等，甚至是标量值。"
   ]
  },
  {
   "cell_type": "markdown",
   "metadata": {},
   "source": [
    "## 3.2 数学和统计方法\n",
    "\n",
    "可以对整个数组数据/沿某轴的数据进行统计计算。聚合aggregations（也叫reductions），如`sum`，`mean`和`std`既可以调用实例方法（`ndarray.sum()`），也可以使用顶级的NumPy函数（`np.sum(ndarray)`）。"
   ]
  },
  {
   "cell_type": "code",
   "execution_count": 13,
   "metadata": {
    "ExecuteTime": {
     "end_time": "2019-04-30T02:38:06.692060Z",
     "start_time": "2019-04-30T02:38:06.687105Z"
    }
   },
   "outputs": [
    {
     "data": {
      "text/plain": [
       "array([[ 2.08811298, -0.70366286,  0.1262446 ,  1.65554186],\n",
       "       [-0.50680114,  0.16848553, -1.02280482,  0.32719329],\n",
       "       [-1.27775237, -2.56735703,  0.75198671, -1.70663612],\n",
       "       [-0.93328796, -0.862742  , -0.34062411,  0.95033707],\n",
       "       [ 0.35258184, -0.56465253, -0.42867029,  0.69724462]])"
      ]
     },
     "execution_count": 13,
     "metadata": {},
     "output_type": "execute_result"
    }
   ],
   "source": [
    "arr = np.random.randn(5, 4)\n",
    "arr"
   ]
  },
  {
   "cell_type": "markdown",
   "metadata": {},
   "source": [
    "+ 对整个数据进行取平均"
   ]
  },
  {
   "cell_type": "code",
   "execution_count": 14,
   "metadata": {
    "ExecuteTime": {
     "end_time": "2019-04-30T02:38:13.998277Z",
     "start_time": "2019-04-30T02:38:13.992293Z"
    }
   },
   "outputs": [
    {
     "data": {
      "text/plain": [
       "-0.18986313567246021"
      ]
     },
     "execution_count": 14,
     "metadata": {},
     "output_type": "execute_result"
    }
   ],
   "source": [
    "arr.mean()"
   ]
  },
  {
   "cell_type": "code",
   "execution_count": 16,
   "metadata": {
    "ExecuteTime": {
     "end_time": "2019-04-30T02:38:22.575595Z",
     "start_time": "2019-04-30T02:38:22.571603Z"
    }
   },
   "outputs": [
    {
     "data": {
      "text/plain": [
       "-0.18986313567246021"
      ]
     },
     "execution_count": 16,
     "metadata": {},
     "output_type": "execute_result"
    }
   ],
   "source": [
    "np.mean(arr)"
   ]
  },
  {
   "cell_type": "markdown",
   "metadata": {},
   "source": [
    "+ 沿轴0方向（第一个轴），对每个列统计"
   ]
  },
  {
   "cell_type": "code",
   "execution_count": 17,
   "metadata": {
    "ExecuteTime": {
     "end_time": "2019-04-30T02:38:39.423271Z",
     "start_time": "2019-04-30T02:38:39.418284Z"
    }
   },
   "outputs": [
    {
     "data": {
      "text/plain": [
       "array([-0.05542933, -0.90598578, -0.18277358,  0.38473614])"
      ]
     },
     "execution_count": 17,
     "metadata": {},
     "output_type": "execute_result"
    }
   ],
   "source": [
    "arr.mean(axis=0)"
   ]
  },
  {
   "cell_type": "code",
   "execution_count": 18,
   "metadata": {
    "ExecuteTime": {
     "end_time": "2019-04-30T02:38:47.730295Z",
     "start_time": "2019-04-30T02:38:47.726307Z"
    }
   },
   "outputs": [
    {
     "data": {
      "text/plain": [
       "array([-0.05542933, -0.90598578, -0.18277358,  0.38473614])"
      ]
     },
     "execution_count": 18,
     "metadata": {},
     "output_type": "execute_result"
    }
   ],
   "source": [
    "np.mean(arr, axis=0)"
   ]
  },
  {
   "cell_type": "markdown",
   "metadata": {},
   "source": [
    "+ 沿轴1方向（第二个轴），对每一行做统计"
   ]
  },
  {
   "cell_type": "code",
   "execution_count": 19,
   "metadata": {
    "ExecuteTime": {
     "end_time": "2019-04-30T02:39:37.696290Z",
     "start_time": "2019-04-30T02:39:37.692327Z"
    }
   },
   "outputs": [
    {
     "data": {
      "text/plain": [
       "array([ 0.79155915, -0.25848178, -1.1999397 , -0.29657925,  0.01412591])"
      ]
     },
     "execution_count": 19,
     "metadata": {},
     "output_type": "execute_result"
    }
   ],
   "source": [
    "arr.mean(axis=1)"
   ]
  },
  {
   "cell_type": "code",
   "execution_count": 20,
   "metadata": {
    "ExecuteTime": {
     "end_time": "2019-04-30T02:39:43.923598Z",
     "start_time": "2019-04-30T02:39:43.918612Z"
    }
   },
   "outputs": [
    {
     "data": {
      "text/plain": [
       "array([ 0.79155915, -0.25848178, -1.1999397 , -0.29657925,  0.01412591])"
      ]
     },
     "execution_count": 20,
     "metadata": {},
     "output_type": "execute_result"
    }
   ],
   "source": [
    "np.mean(arr, axis=1)"
   ]
  },
  {
   "cell_type": "markdown",
   "metadata": {},
   "source": [
    "其他方法，如`cumsum`和`cumprod`不产生聚合，而是产生一个中间结果的数组："
   ]
  },
  {
   "cell_type": "code",
   "execution_count": 21,
   "metadata": {
    "ExecuteTime": {
     "end_time": "2019-04-30T02:42:44.598255Z",
     "start_time": "2019-04-30T02:42:44.593268Z"
    }
   },
   "outputs": [
    {
     "data": {
      "text/plain": [
       "array([0, 1, 2, 3, 4, 5, 6])"
      ]
     },
     "execution_count": 21,
     "metadata": {},
     "output_type": "execute_result"
    }
   ],
   "source": [
    "arr = np.arange(7)\n",
    "arr"
   ]
  },
  {
   "cell_type": "markdown",
   "metadata": {
    "ExecuteTime": {
     "end_time": "2019-04-30T02:43:48.018215Z",
     "start_time": "2019-04-30T02:43:48.011270Z"
    }
   },
   "source": [
    "+ 累加和"
   ]
  },
  {
   "cell_type": "code",
   "execution_count": 22,
   "metadata": {
    "ExecuteTime": {
     "end_time": "2019-04-30T02:42:49.417223Z",
     "start_time": "2019-04-30T02:42:49.412237Z"
    }
   },
   "outputs": [
    {
     "data": {
      "text/plain": [
       "array([ 0,  1,  3,  6, 10, 15, 21], dtype=int32)"
      ]
     },
     "execution_count": 22,
     "metadata": {},
     "output_type": "execute_result"
    }
   ],
   "source": [
    "arr.cumsum()"
   ]
  },
  {
   "cell_type": "code",
   "execution_count": 24,
   "metadata": {
    "ExecuteTime": {
     "end_time": "2019-04-30T02:42:58.620839Z",
     "start_time": "2019-04-30T02:42:58.616817Z"
    }
   },
   "outputs": [
    {
     "data": {
      "text/plain": [
       "array([ 0,  1,  3,  6, 10, 15, 21], dtype=int32)"
      ]
     },
     "execution_count": 24,
     "metadata": {},
     "output_type": "execute_result"
    }
   ],
   "source": [
    "np.cumsum(arr)"
   ]
  },
  {
   "cell_type": "markdown",
   "metadata": {},
   "source": [
    "+ 累计积"
   ]
  },
  {
   "cell_type": "code",
   "execution_count": 25,
   "metadata": {
    "ExecuteTime": {
     "end_time": "2019-04-30T02:43:16.996858Z",
     "start_time": "2019-04-30T02:43:16.992890Z"
    }
   },
   "outputs": [
    {
     "data": {
      "text/plain": [
       "array([1, 2, 3, 4, 5, 6])"
      ]
     },
     "execution_count": 25,
     "metadata": {},
     "output_type": "execute_result"
    }
   ],
   "source": [
    "arr = np.arange(1, 7)\n",
    "arr"
   ]
  },
  {
   "cell_type": "code",
   "execution_count": 26,
   "metadata": {
    "ExecuteTime": {
     "end_time": "2019-04-30T02:43:24.526586Z",
     "start_time": "2019-04-30T02:43:24.522572Z"
    }
   },
   "outputs": [
    {
     "data": {
      "text/plain": [
       "array([  1,   2,   6,  24, 120, 720], dtype=int32)"
      ]
     },
     "execution_count": 26,
     "metadata": {},
     "output_type": "execute_result"
    }
   ],
   "source": [
    "arr.cumprod()"
   ]
  },
  {
   "cell_type": "markdown",
   "metadata": {},
   "source": [
    "在多维数组中，累加函数（如`cumsum`）返回大小相同的数组："
   ]
  },
  {
   "cell_type": "code",
   "execution_count": 28,
   "metadata": {
    "ExecuteTime": {
     "end_time": "2019-04-30T02:46:10.741620Z",
     "start_time": "2019-04-30T02:46:10.737631Z"
    }
   },
   "outputs": [
    {
     "data": {
      "text/plain": [
       "array([[0, 1, 2],\n",
       "       [3, 4, 5],\n",
       "       [6, 7, 8]])"
      ]
     },
     "execution_count": 28,
     "metadata": {},
     "output_type": "execute_result"
    }
   ],
   "source": [
    "arr = np.arange(9).reshape(3, 3)\n",
    "arr"
   ]
  },
  {
   "cell_type": "code",
   "execution_count": 29,
   "metadata": {
    "ExecuteTime": {
     "end_time": "2019-04-30T02:46:14.537536Z",
     "start_time": "2019-04-30T02:46:14.531583Z"
    }
   },
   "outputs": [
    {
     "data": {
      "text/plain": [
       "36"
      ]
     },
     "execution_count": 29,
     "metadata": {},
     "output_type": "execute_result"
    }
   ],
   "source": [
    "arr.sum()"
   ]
  },
  {
   "cell_type": "code",
   "execution_count": 30,
   "metadata": {
    "ExecuteTime": {
     "end_time": "2019-04-30T02:46:25.894543Z",
     "start_time": "2019-04-30T02:46:25.889608Z"
    }
   },
   "outputs": [
    {
     "data": {
      "text/plain": [
       "array([ 0,  1,  3,  6, 10, 15, 21, 28, 36], dtype=int32)"
      ]
     },
     "execution_count": 30,
     "metadata": {},
     "output_type": "execute_result"
    }
   ],
   "source": [
    "arr.cumsum()"
   ]
  },
  {
   "cell_type": "code",
   "execution_count": 31,
   "metadata": {
    "ExecuteTime": {
     "end_time": "2019-04-30T02:46:36.722142Z",
     "start_time": "2019-04-30T02:46:36.718121Z"
    }
   },
   "outputs": [
    {
     "data": {
      "text/plain": [
       "array([[ 0,  1,  2],\n",
       "       [ 3,  5,  7],\n",
       "       [ 9, 12, 15]], dtype=int32)"
      ]
     },
     "execution_count": 31,
     "metadata": {},
     "output_type": "execute_result"
    }
   ],
   "source": [
    "arr.cumsum(axis=0)"
   ]
  },
  {
   "cell_type": "code",
   "execution_count": 32,
   "metadata": {
    "ExecuteTime": {
     "end_time": "2019-04-30T02:46:43.322679Z",
     "start_time": "2019-04-30T02:46:43.318666Z"
    }
   },
   "outputs": [
    {
     "data": {
      "text/plain": [
       "array([[ 0,  1,  3],\n",
       "       [ 3,  7, 12],\n",
       "       [ 6, 13, 21]], dtype=int32)"
      ]
     },
     "execution_count": 32,
     "metadata": {},
     "output_type": "execute_result"
    }
   ],
   "source": [
    "arr.cumsum(axis=1)"
   ]
  },
  {
   "cell_type": "code",
   "execution_count": 33,
   "metadata": {
    "ExecuteTime": {
     "end_time": "2019-04-30T02:46:49.295720Z",
     "start_time": "2019-04-30T02:46:49.290733Z"
    }
   },
   "outputs": [
    {
     "data": {
      "text/plain": [
       "array([0, 0, 0, 0, 0, 0, 0, 0, 0], dtype=int32)"
      ]
     },
     "execution_count": 33,
     "metadata": {},
     "output_type": "execute_result"
    }
   ],
   "source": [
    "arr.cumprod()"
   ]
  },
  {
   "cell_type": "code",
   "execution_count": 34,
   "metadata": {
    "ExecuteTime": {
     "end_time": "2019-04-30T02:46:55.639023Z",
     "start_time": "2019-04-30T02:46:55.634068Z"
    }
   },
   "outputs": [
    {
     "data": {
      "text/plain": [
       "array([[ 0,  1,  2],\n",
       "       [ 0,  4, 10],\n",
       "       [ 0, 28, 80]], dtype=int32)"
      ]
     },
     "execution_count": 34,
     "metadata": {},
     "output_type": "execute_result"
    }
   ],
   "source": [
    "arr.cumprod(axis=0)"
   ]
  },
  {
   "cell_type": "code",
   "execution_count": 35,
   "metadata": {
    "ExecuteTime": {
     "end_time": "2019-04-30T02:47:00.707581Z",
     "start_time": "2019-04-30T02:47:00.702594Z"
    }
   },
   "outputs": [
    {
     "data": {
      "text/plain": [
       "array([[  0,   0,   0],\n",
       "       [  3,  12,  60],\n",
       "       [  6,  42, 336]], dtype=int32)"
      ]
     },
     "execution_count": 35,
     "metadata": {},
     "output_type": "execute_result"
    }
   ],
   "source": [
    "arr.cumprod(axis=1)"
   ]
  },
  {
   "cell_type": "markdown",
   "metadata": {},
   "source": [
    "**基本的数组统计方法**\n",
    "\n",
    "|方法|描述|\n",
    "| :-- | :--: |\n",
    "|`sum`|求和（整个数组或沿某个轴），长度为0的数组和为0|\n",
    "|`mean`|算术平均数（整个数组或沿某个轴），长度为0的数组平均值为NaN|\n",
    "|`std`, `var`|标准差，方差，自由度可调（默认为0）|\n",
    "|`min`, `max`|最小值，最大值|\n",
    "|`argmin`, `argmax`|最小值，最大值的位置|\n",
    "|`cumsum`, `cumprod`|累计和，累计积|"
   ]
  },
  {
   "cell_type": "markdown",
   "metadata": {},
   "source": [
    "## 3.3 布尔型数组的方法\n",
    "\n",
    "在上面这些方法中，布尔值会被强制转换为1(`True`)和0(`False`)。因此，`sum`经常用来统计布尔型数组中`True`的个数。"
   ]
  },
  {
   "cell_type": "code",
   "execution_count": 36,
   "metadata": {
    "ExecuteTime": {
     "end_time": "2019-04-30T02:57:17.332375Z",
     "start_time": "2019-04-30T02:57:17.327420Z"
    }
   },
   "outputs": [
    {
     "data": {
      "text/plain": [
       "array([ True,  True, False, False, False,  True, False, False, False,\n",
       "        True, False,  True,  True,  True, False,  True,  True,  True,\n",
       "       False,  True, False, False,  True,  True, False, False,  True,\n",
       "       False, False,  True,  True,  True, False, False,  True, False,\n",
       "       False,  True, False,  True,  True,  True,  True,  True,  True,\n",
       "       False, False, False,  True, False,  True, False,  True, False,\n",
       "       False,  True, False, False, False, False,  True, False,  True,\n",
       "       False,  True,  True,  True,  True,  True,  True,  True,  True,\n",
       "        True,  True,  True,  True,  True, False, False, False,  True,\n",
       "        True,  True, False,  True,  True, False, False, False, False,\n",
       "        True, False, False, False,  True,  True,  True, False,  True,\n",
       "        True])"
      ]
     },
     "execution_count": 36,
     "metadata": {},
     "output_type": "execute_result"
    }
   ],
   "source": [
    "arr = np.random.randn(100)\n",
    "arr > 0"
   ]
  },
  {
   "cell_type": "code",
   "execution_count": 37,
   "metadata": {
    "ExecuteTime": {
     "end_time": "2019-04-30T02:57:30.352002Z",
     "start_time": "2019-04-30T02:57:30.346021Z"
    }
   },
   "outputs": [
    {
     "data": {
      "text/plain": [
       "55"
      ]
     },
     "execution_count": 37,
     "metadata": {},
     "output_type": "execute_result"
    }
   ],
   "source": [
    "(arr > 0).sum()"
   ]
  },
  {
   "cell_type": "markdown",
   "metadata": {},
   "source": [
    "`any`用来表示数组中是否有`True`值，`all`数组中值是否都为`True`。"
   ]
  },
  {
   "cell_type": "code",
   "execution_count": 40,
   "metadata": {
    "ExecuteTime": {
     "end_time": "2019-04-30T02:59:38.858310Z",
     "start_time": "2019-04-30T02:59:38.853316Z"
    }
   },
   "outputs": [
    {
     "data": {
      "text/plain": [
       "array([[ 0.21379718, -0.44916554, -2.37941605],\n",
       "       [ 0.03691912,  1.51462168, -0.17930039]])"
      ]
     },
     "execution_count": 40,
     "metadata": {},
     "output_type": "execute_result"
    }
   ],
   "source": [
    "arr = np.random.randn(2, 3)\n",
    "arr"
   ]
  },
  {
   "cell_type": "code",
   "execution_count": 42,
   "metadata": {
    "ExecuteTime": {
     "end_time": "2019-04-30T03:00:02.392795Z",
     "start_time": "2019-04-30T03:00:02.388807Z"
    }
   },
   "outputs": [
    {
     "data": {
      "text/plain": [
       "array([[ True, False, False],\n",
       "       [ True,  True, False]])"
      ]
     },
     "execution_count": 42,
     "metadata": {},
     "output_type": "execute_result"
    }
   ],
   "source": [
    "boolean_arr = arr > 0\n",
    "boolean_arr"
   ]
  },
  {
   "cell_type": "code",
   "execution_count": 43,
   "metadata": {
    "ExecuteTime": {
     "end_time": "2019-04-30T03:00:10.071055Z",
     "start_time": "2019-04-30T03:00:10.067068Z"
    },
    "scrolled": true
   },
   "outputs": [
    {
     "data": {
      "text/plain": [
       "False"
      ]
     },
     "execution_count": 43,
     "metadata": {},
     "output_type": "execute_result"
    }
   ],
   "source": [
    "np.all(boolean_arr)"
   ]
  },
  {
   "cell_type": "code",
   "execution_count": 44,
   "metadata": {
    "ExecuteTime": {
     "end_time": "2019-04-30T03:00:23.315618Z",
     "start_time": "2019-04-30T03:00:23.311659Z"
    }
   },
   "outputs": [
    {
     "data": {
      "text/plain": [
       "array([ True, False, False])"
      ]
     },
     "execution_count": 44,
     "metadata": {},
     "output_type": "execute_result"
    }
   ],
   "source": [
    "np.all(boolean_arr, axis=0)"
   ]
  },
  {
   "cell_type": "code",
   "execution_count": 45,
   "metadata": {
    "ExecuteTime": {
     "end_time": "2019-04-30T03:00:39.666896Z",
     "start_time": "2019-04-30T03:00:39.663903Z"
    }
   },
   "outputs": [
    {
     "data": {
      "text/plain": [
       "False"
      ]
     },
     "execution_count": 45,
     "metadata": {},
     "output_type": "execute_result"
    }
   ],
   "source": [
    "boolean_arr.all()"
   ]
  },
  {
   "cell_type": "code",
   "execution_count": 46,
   "metadata": {
    "ExecuteTime": {
     "end_time": "2019-04-30T03:00:49.130649Z",
     "start_time": "2019-04-30T03:00:49.125663Z"
    }
   },
   "outputs": [
    {
     "data": {
      "text/plain": [
       "True"
      ]
     },
     "execution_count": 46,
     "metadata": {},
     "output_type": "execute_result"
    }
   ],
   "source": [
    "np.any(boolean_arr)"
   ]
  },
  {
   "cell_type": "code",
   "execution_count": 47,
   "metadata": {
    "ExecuteTime": {
     "end_time": "2019-04-30T03:01:11.602356Z",
     "start_time": "2019-04-30T03:01:11.598336Z"
    }
   },
   "outputs": [
    {
     "data": {
      "text/plain": [
       "array([ True,  True])"
      ]
     },
     "execution_count": 47,
     "metadata": {},
     "output_type": "execute_result"
    }
   ],
   "source": [
    "np.any(boolean_arr, axis=1)"
   ]
  },
  {
   "cell_type": "markdown",
   "metadata": {},
   "source": [
    "## 3.4 排序\n",
    "\n",
    "NumPy数组可以使用`sort`方法来原地排序。"
   ]
  },
  {
   "cell_type": "code",
   "execution_count": 48,
   "metadata": {
    "ExecuteTime": {
     "end_time": "2019-04-30T03:02:08.181316Z",
     "start_time": "2019-04-30T03:02:08.177327Z"
    }
   },
   "outputs": [
    {
     "data": {
      "text/plain": [
       "array([-1.40055998, -0.57787126,  0.74588762,  0.38398781,  0.21964548])"
      ]
     },
     "execution_count": 48,
     "metadata": {},
     "output_type": "execute_result"
    }
   ],
   "source": [
    "arr = np.random.randn(5)\n",
    "arr"
   ]
  },
  {
   "cell_type": "code",
   "execution_count": 49,
   "metadata": {
    "ExecuteTime": {
     "end_time": "2019-04-30T03:02:14.068759Z",
     "start_time": "2019-04-30T03:02:14.064771Z"
    }
   },
   "outputs": [],
   "source": [
    "arr.sort()"
   ]
  },
  {
   "cell_type": "code",
   "execution_count": 50,
   "metadata": {
    "ExecuteTime": {
     "end_time": "2019-04-30T03:02:15.473225Z",
     "start_time": "2019-04-30T03:02:15.468269Z"
    }
   },
   "outputs": [
    {
     "data": {
      "text/plain": [
       "array([-1.40055998, -0.57787126,  0.21964548,  0.38398781,  0.74588762])"
      ]
     },
     "execution_count": 50,
     "metadata": {},
     "output_type": "execute_result"
    }
   ],
   "source": [
    "arr"
   ]
  },
  {
   "cell_type": "markdown",
   "metadata": {},
   "source": [
    "可以对多维数组中某一维进行排序："
   ]
  },
  {
   "cell_type": "code",
   "execution_count": 51,
   "metadata": {
    "ExecuteTime": {
     "end_time": "2019-04-30T03:02:54.249180Z",
     "start_time": "2019-04-30T03:02:54.244193Z"
    }
   },
   "outputs": [
    {
     "data": {
      "text/plain": [
       "array([[-1.51437499, -0.19220216,  1.330906  ],\n",
       "       [-1.82771669,  2.2285614 , -1.11942366],\n",
       "       [-1.42214619,  0.48270104,  0.06781517],\n",
       "       [-1.59884795, -0.47596887, -1.56312386],\n",
       "       [-0.65859644,  0.28090675,  0.92604116]])"
      ]
     },
     "execution_count": 51,
     "metadata": {},
     "output_type": "execute_result"
    }
   ],
   "source": [
    "arr = np.random.randn(5, 3)\n",
    "arr"
   ]
  },
  {
   "cell_type": "code",
   "execution_count": 52,
   "metadata": {
    "ExecuteTime": {
     "end_time": "2019-04-30T03:03:01.625499Z",
     "start_time": "2019-04-30T03:03:01.621540Z"
    }
   },
   "outputs": [],
   "source": [
    "arr.sort(1)"
   ]
  },
  {
   "cell_type": "code",
   "execution_count": 53,
   "metadata": {
    "ExecuteTime": {
     "end_time": "2019-04-30T03:03:04.148684Z",
     "start_time": "2019-04-30T03:03:04.144695Z"
    }
   },
   "outputs": [
    {
     "data": {
      "text/plain": [
       "array([[-1.51437499, -0.19220216,  1.330906  ],\n",
       "       [-1.82771669, -1.11942366,  2.2285614 ],\n",
       "       [-1.42214619,  0.06781517,  0.48270104],\n",
       "       [-1.59884795, -1.56312386, -0.47596887],\n",
       "       [-0.65859644,  0.28090675,  0.92604116]])"
      ]
     },
     "execution_count": 53,
     "metadata": {},
     "output_type": "execute_result"
    }
   ],
   "source": [
    "arr"
   ]
  },
  {
   "cell_type": "markdown",
   "metadata": {},
   "source": [
    "顶级方法`np.sort()`返回的是一个排好序的新数组，而不是原地修改。"
   ]
  },
  {
   "cell_type": "code",
   "execution_count": 54,
   "metadata": {
    "ExecuteTime": {
     "end_time": "2019-04-30T03:05:49.643364Z",
     "start_time": "2019-04-30T03:05:49.639376Z"
    }
   },
   "outputs": [
    {
     "data": {
      "text/plain": [
       "array([[-0.62645687, -1.01440095, -0.96691589],\n",
       "       [-1.43834736,  1.58451784,  0.51665313],\n",
       "       [ 0.9018824 , -0.87470314,  1.29539305],\n",
       "       [ 0.10782105, -0.21258461,  0.01153506],\n",
       "       [ 0.96665491, -0.14106333, -0.0278047 ]])"
      ]
     },
     "execution_count": 54,
     "metadata": {},
     "output_type": "execute_result"
    }
   ],
   "source": [
    "arr = np.random.randn(5, 3)\n",
    "arr"
   ]
  },
  {
   "cell_type": "code",
   "execution_count": 55,
   "metadata": {
    "ExecuteTime": {
     "end_time": "2019-04-30T03:05:57.323485Z",
     "start_time": "2019-04-30T03:05:57.318462Z"
    }
   },
   "outputs": [
    {
     "data": {
      "text/plain": [
       "array([[-1.01440095, -0.96691589, -0.62645687],\n",
       "       [-1.43834736,  0.51665313,  1.58451784],\n",
       "       [-0.87470314,  0.9018824 ,  1.29539305],\n",
       "       [-0.21258461,  0.01153506,  0.10782105],\n",
       "       [-0.14106333, -0.0278047 ,  0.96665491]])"
      ]
     },
     "execution_count": 55,
     "metadata": {},
     "output_type": "execute_result"
    }
   ],
   "source": [
    "np.sort(arr, axis=1)"
   ]
  },
  {
   "cell_type": "markdown",
   "metadata": {},
   "source": [
    "**可以快速地进行分位数计算：**\n",
    "\n",
    "1. 先排序\n",
    "2. 再选择"
   ]
  },
  {
   "cell_type": "code",
   "execution_count": 56,
   "metadata": {
    "ExecuteTime": {
     "end_time": "2019-04-30T03:07:29.872769Z",
     "start_time": "2019-04-30T03:07:29.868781Z"
    }
   },
   "outputs": [],
   "source": [
    "large_arr = np.random.randn(100)\n",
    "large_arr.sort()"
   ]
  },
  {
   "cell_type": "code",
   "execution_count": 57,
   "metadata": {
    "ExecuteTime": {
     "end_time": "2019-04-30T03:08:11.975096Z",
     "start_time": "2019-04-30T03:08:11.971103Z"
    }
   },
   "outputs": [
    {
     "data": {
      "text/plain": [
       "-1.7390595970605125"
      ]
     },
     "execution_count": 57,
     "metadata": {},
     "output_type": "execute_result"
    }
   ],
   "source": [
    "large_arr[int(0.05 * len(large_arr))]  # 5% quantile"
   ]
  },
  {
   "cell_type": "markdown",
   "metadata": {},
   "source": [
    "更多排序方法见高阶部分。"
   ]
  },
  {
   "cell_type": "markdown",
   "metadata": {},
   "source": [
    "## 3.5 唯一值和集合逻辑"
   ]
  },
  {
   "cell_type": "markdown",
   "metadata": {},
   "source": [
    "针对一维数组，NumPy提供了一些基本的集合操作。最常用的是**`np.unique`**，返回一个**排好序**的**唯一值**组成的数组。"
   ]
  },
  {
   "cell_type": "code",
   "execution_count": 1,
   "metadata": {
    "ExecuteTime": {
     "end_time": "2019-04-30T06:03:59.171324Z",
     "start_time": "2019-04-30T06:03:59.168367Z"
    }
   },
   "outputs": [],
   "source": [
    "import numpy as np\n",
    "np.random.seed(42)"
   ]
  },
  {
   "cell_type": "code",
   "execution_count": 2,
   "metadata": {
    "ExecuteTime": {
     "end_time": "2019-04-30T06:04:06.097386Z",
     "start_time": "2019-04-30T06:04:06.093429Z"
    }
   },
   "outputs": [],
   "source": [
    "names = np.array(['Bob', 'Joe', 'Will', 'Bob', 'Will', 'Joe', 'Joe'])"
   ]
  },
  {
   "cell_type": "code",
   "execution_count": 3,
   "metadata": {
    "ExecuteTime": {
     "end_time": "2019-04-30T06:04:12.626768Z",
     "start_time": "2019-04-30T06:04:12.617769Z"
    }
   },
   "outputs": [
    {
     "data": {
      "text/plain": [
       "array(['Bob', 'Joe', 'Will'], dtype='<U4')"
      ]
     },
     "execution_count": 3,
     "metadata": {},
     "output_type": "execute_result"
    }
   ],
   "source": [
    "np.unique(names)"
   ]
  },
  {
   "cell_type": "code",
   "execution_count": 4,
   "metadata": {
    "ExecuteTime": {
     "end_time": "2019-04-30T06:07:37.146376Z",
     "start_time": "2019-04-30T06:07:37.142429Z"
    }
   },
   "outputs": [],
   "source": [
    "ints = np.array([3, 3, 3, 2, 2, 1, 1, 4, 4])"
   ]
  },
  {
   "cell_type": "code",
   "execution_count": 5,
   "metadata": {
    "ExecuteTime": {
     "end_time": "2019-04-30T06:07:44.024573Z",
     "start_time": "2019-04-30T06:07:44.019597Z"
    }
   },
   "outputs": [
    {
     "data": {
      "text/plain": [
       "array([1, 2, 3, 4])"
      ]
     },
     "execution_count": 5,
     "metadata": {},
     "output_type": "execute_result"
    }
   ],
   "source": [
    "np.unique(ints)"
   ]
  },
  {
   "cell_type": "markdown",
   "metadata": {},
   "source": [
    "可以使用纯Python达到这种效果："
   ]
  },
  {
   "cell_type": "code",
   "execution_count": 6,
   "metadata": {
    "ExecuteTime": {
     "end_time": "2019-04-30T06:08:25.659737Z",
     "start_time": "2019-04-30T06:08:25.654750Z"
    }
   },
   "outputs": [
    {
     "data": {
      "text/plain": [
       "[1, 2, 3, 4]"
      ]
     },
     "execution_count": 6,
     "metadata": {},
     "output_type": "execute_result"
    }
   ],
   "source": [
    "sorted(set(ints))"
   ]
  },
  {
   "cell_type": "markdown",
   "metadata": {},
   "source": [
    "**`np.in1d`**测试一个数组中的元素是否再另一个数组里，结果是一个布尔数组："
   ]
  },
  {
   "cell_type": "code",
   "execution_count": 7,
   "metadata": {
    "ExecuteTime": {
     "end_time": "2019-04-30T06:11:34.378037Z",
     "start_time": "2019-04-30T06:11:34.374048Z"
    }
   },
   "outputs": [],
   "source": [
    "values = np.array([6, 0, 0, 3, 2, 5, 6])"
   ]
  },
  {
   "cell_type": "code",
   "execution_count": 8,
   "metadata": {
    "ExecuteTime": {
     "end_time": "2019-04-30T06:11:45.291502Z",
     "start_time": "2019-04-30T06:11:45.288510Z"
    }
   },
   "outputs": [
    {
     "data": {
      "text/plain": [
       "array([ True, False, False,  True,  True, False,  True])"
      ]
     },
     "execution_count": 8,
     "metadata": {},
     "output_type": "execute_result"
    }
   ],
   "source": [
    "np.in1d(values, [2, 3, 6])"
   ]
  },
  {
   "cell_type": "markdown",
   "metadata": {},
   "source": [
    "**数组集合函数**\n",
    "\n",
    "|函数|描述|\n",
    "| :-- | :---: |\n",
    "|`np.unique(x)`|返回x中的唯一值，结果排好序|\n",
    "|`np.intersect(x, y)`|返回x和y交集，结果排好序|\n",
    "|`np.union(x, y)`|返回x和y并集，结果排好序|\n",
    "|`np.in1d(x, y)`|返回一个布尔型数组，表示x中的每一个元素是否在y中|\n",
    "|`np.setdiff1d(x, y)`|x和y的差集，元素在x中，但不在y中|\n",
    "|`np.setxor1d(x, y)`|x和y的对称差，在某个数组，但不同时存在两个数组中|"
   ]
  },
  {
   "cell_type": "markdown",
   "metadata": {},
   "source": [
    "# 4 用于数组的文件输入和输出"
   ]
  },
  {
   "cell_type": "markdown",
   "metadata": {},
   "source": [
    "NumPy is able to save and load data to and from disk either in text or binary format.（我举得这局英文不错）\n",
    "\n",
    "这里仅仅套路NumPy内建的二进制格式，因为对于文本和表格型数据，似乎更喜欢用pandas和其他工具。\n",
    "\n",
    "**`np.save`和`np.load`**是读写磁盘磁盘数组数据的两个主要函数。默认情况下，数组是以未压缩的原始二进制格式保存在扩展名为`.npy`的文件中。"
   ]
  },
  {
   "cell_type": "code",
   "execution_count": 9,
   "metadata": {
    "ExecuteTime": {
     "end_time": "2019-04-30T06:33:45.599493Z",
     "start_time": "2019-04-30T06:33:45.594532Z"
    }
   },
   "outputs": [
    {
     "data": {
      "text/plain": [
       "array([0, 1, 2, 3, 4, 5, 6, 7, 8, 9])"
      ]
     },
     "execution_count": 9,
     "metadata": {},
     "output_type": "execute_result"
    }
   ],
   "source": [
    "arrr = np.arange(10)\n",
    "arrr"
   ]
  },
  {
   "cell_type": "code",
   "execution_count": 10,
   "metadata": {
    "ExecuteTime": {
     "end_time": "2019-04-30T06:34:15.423577Z",
     "start_time": "2019-04-30T06:34:15.415632Z"
    }
   },
   "outputs": [],
   "source": [
    "np.save('examples_for_np_save', arrr)"
   ]
  },
  {
   "cell_type": "markdown",
   "metadata": {},
   "source": [
    "如果文件末尾没有扩展名`.npy`，则该扩展名会被自动加上。然后可以通过`np.load`读取磁盘上的数组："
   ]
  },
  {
   "cell_type": "code",
   "execution_count": 11,
   "metadata": {
    "ExecuteTime": {
     "end_time": "2019-04-30T06:35:12.376443Z",
     "start_time": "2019-04-30T06:35:12.370477Z"
    }
   },
   "outputs": [
    {
     "data": {
      "text/plain": [
       "array([0, 1, 2, 3, 4, 5, 6, 7, 8, 9])"
      ]
     },
     "execution_count": 11,
     "metadata": {},
     "output_type": "execute_result"
    }
   ],
   "source": [
    "np.load('examples_for_np_save.npy')"
   ]
  },
  {
   "cell_type": "markdown",
   "metadata": {},
   "source": [
    "通过**`np.savez`**可以将多个数组保存到一个压缩文件中，将数组以关键字形式传入即可："
   ]
  },
  {
   "cell_type": "code",
   "execution_count": 13,
   "metadata": {
    "ExecuteTime": {
     "end_time": "2019-04-30T06:36:44.814471Z",
     "start_time": "2019-04-30T06:36:44.799497Z"
    }
   },
   "outputs": [],
   "source": [
    "np.savez('example_for_np_savez.npz', a=arrr, b=arrr)"
   ]
  },
  {
   "cell_type": "markdown",
   "metadata": {},
   "source": [
    "加载`.npz`时，会得到一个类似字典的对象，该对象会对各个数组进行延迟加载："
   ]
  },
  {
   "cell_type": "code",
   "execution_count": 14,
   "metadata": {
    "ExecuteTime": {
     "end_time": "2019-04-30T06:37:29.539658Z",
     "start_time": "2019-04-30T06:37:29.530683Z"
    }
   },
   "outputs": [],
   "source": [
    "arch = np.load('example_for_np_savez.npz')"
   ]
  },
  {
   "cell_type": "code",
   "execution_count": 15,
   "metadata": {
    "ExecuteTime": {
     "end_time": "2019-04-30T06:37:33.643542Z",
     "start_time": "2019-04-30T06:37:33.639564Z"
    }
   },
   "outputs": [
    {
     "data": {
      "text/plain": [
       "array([0, 1, 2, 3, 4, 5, 6, 7, 8, 9])"
      ]
     },
     "execution_count": 15,
     "metadata": {},
     "output_type": "execute_result"
    }
   ],
   "source": [
    "arch['a']"
   ]
  },
  {
   "cell_type": "code",
   "execution_count": 16,
   "metadata": {
    "ExecuteTime": {
     "end_time": "2019-04-30T06:37:40.486918Z",
     "start_time": "2019-04-30T06:37:40.481953Z"
    }
   },
   "outputs": [
    {
     "data": {
      "text/plain": [
       "array([0, 1, 2, 3, 4, 5, 6, 7, 8, 9])"
      ]
     },
     "execution_count": 16,
     "metadata": {},
     "output_type": "execute_result"
    }
   ],
   "source": [
    "arch['b']"
   ]
  },
  {
   "cell_type": "markdown",
   "metadata": {},
   "source": [
    "加载文本主要使用`pd.read_csv`和`pd.read_table`函数。有时，需要用`np.loadtext`或更加专门化的`np.genfromtext`将数据加载到普通的NumPy数组中。"
   ]
  },
  {
   "cell_type": "markdown",
   "metadata": {},
   "source": [
    "# 5 线性代数（Linear Algebra）"
   ]
  },
  {
   "cell_type": "markdown",
   "metadata": {},
   "source": [
    "矩阵乘法："
   ]
  },
  {
   "cell_type": "code",
   "execution_count": 17,
   "metadata": {
    "ExecuteTime": {
     "end_time": "2019-04-30T06:43:23.520955Z",
     "start_time": "2019-04-30T06:43:23.516963Z"
    }
   },
   "outputs": [
    {
     "data": {
      "text/plain": [
       "array([[1., 2., 3.],\n",
       "       [4., 5., 6.]])"
      ]
     },
     "execution_count": 17,
     "metadata": {},
     "output_type": "execute_result"
    }
   ],
   "source": [
    "x = np.array([[1., 2., 3.], [4, 5., 6.]])\n",
    "x"
   ]
  },
  {
   "cell_type": "code",
   "execution_count": 18,
   "metadata": {
    "ExecuteTime": {
     "end_time": "2019-04-30T06:43:25.532161Z",
     "start_time": "2019-04-30T06:43:25.526188Z"
    }
   },
   "outputs": [
    {
     "data": {
      "text/plain": [
       "array([[ 6., 23.],\n",
       "       [-1.,  7.],\n",
       "       [ 8.,  9.]])"
      ]
     },
     "execution_count": 18,
     "metadata": {},
     "output_type": "execute_result"
    }
   ],
   "source": [
    "y = np.array([[6, 23.], [-1, 7], [8, 9]])\n",
    "y"
   ]
  },
  {
   "cell_type": "code",
   "execution_count": 19,
   "metadata": {
    "ExecuteTime": {
     "end_time": "2019-04-30T06:43:39.196269Z",
     "start_time": "2019-04-30T06:43:39.186297Z"
    }
   },
   "outputs": [
    {
     "data": {
      "text/plain": [
       "array([[ 28.,  64.],\n",
       "       [ 67., 181.]])"
      ]
     },
     "execution_count": 19,
     "metadata": {},
     "output_type": "execute_result"
    }
   ],
   "source": [
    "x.dot(y)   # method"
   ]
  },
  {
   "cell_type": "code",
   "execution_count": 20,
   "metadata": {
    "ExecuteTime": {
     "end_time": "2019-04-30T06:43:47.823861Z",
     "start_time": "2019-04-30T06:43:47.817878Z"
    }
   },
   "outputs": [
    {
     "data": {
      "text/plain": [
       "array([[ 28.,  64.],\n",
       "       [ 67., 181.]])"
      ]
     },
     "execution_count": 20,
     "metadata": {},
     "output_type": "execute_result"
    }
   ],
   "source": [
    "np.dot(x, y)  # method"
   ]
  },
  {
   "cell_type": "code",
   "execution_count": 23,
   "metadata": {
    "ExecuteTime": {
     "end_time": "2019-04-30T06:44:54.845686Z",
     "start_time": "2019-04-30T06:44:54.839703Z"
    }
   },
   "outputs": [
    {
     "data": {
      "text/plain": [
       "array([ 6., 15.])"
      ]
     },
     "execution_count": 23,
     "metadata": {},
     "output_type": "execute_result"
    }
   ],
   "source": [
    "np.dot(x, np.ones(3))"
   ]
  },
  {
   "cell_type": "markdown",
   "metadata": {},
   "source": [
    "`@`符号——Python中缀运算，也可以进行矩阵运算："
   ]
  },
  {
   "cell_type": "code",
   "execution_count": 24,
   "metadata": {
    "ExecuteTime": {
     "end_time": "2019-04-30T07:40:47.556883Z",
     "start_time": "2019-04-30T07:40:47.544942Z"
    }
   },
   "outputs": [
    {
     "data": {
      "text/plain": [
       "array([ 6., 15.])"
      ]
     },
     "execution_count": 24,
     "metadata": {},
     "output_type": "execute_result"
    }
   ],
   "source": [
    "x @ np.ones(3)"
   ]
  },
  {
   "cell_type": "markdown",
   "metadata": {},
   "source": [
    "`np.linalg`有一套标准的矩阵分解和诸如求逆、行列式之类的东西。它们跟MATLAB和R等语言所使用的是相同的行业标准线性代数库，如BLAS、LAPACK、Intel MKL（Math Kernel Library，可能有，取决于你的NumPy版本）等："
   ]
  },
  {
   "cell_type": "code",
   "execution_count": 26,
   "metadata": {
    "ExecuteTime": {
     "end_time": "2019-04-30T07:44:49.231107Z",
     "start_time": "2019-04-30T07:44:49.228082Z"
    }
   },
   "outputs": [],
   "source": [
    "from numpy.linalg import inv, qr"
   ]
  },
  {
   "cell_type": "code",
   "execution_count": 27,
   "metadata": {
    "ExecuteTime": {
     "end_time": "2019-04-30T07:44:59.117256Z",
     "start_time": "2019-04-30T07:44:59.112277Z"
    }
   },
   "outputs": [],
   "source": [
    "X = np.random.randn(5, 5)"
   ]
  },
  {
   "cell_type": "code",
   "execution_count": 28,
   "metadata": {
    "ExecuteTime": {
     "end_time": "2019-04-30T07:45:09.301303Z",
     "start_time": "2019-04-30T07:45:09.297312Z"
    }
   },
   "outputs": [],
   "source": [
    "mat = X.T.dot(X)"
   ]
  },
  {
   "cell_type": "code",
   "execution_count": 29,
   "metadata": {
    "ExecuteTime": {
     "end_time": "2019-04-30T07:45:17.476412Z",
     "start_time": "2019-04-30T07:45:17.472424Z"
    }
   },
   "outputs": [
    {
     "data": {
      "text/plain": [
       "array([[ 2.9805946 ,  0.01599104, -0.04782309,  0.17546989,  0.55226368],\n",
       "       [ 0.01599104,  3.80673615,  0.67617578,  1.18044033,  3.24587224],\n",
       "       [-0.04782309,  0.67617578,  1.17031369, -0.21833843, -0.63321793],\n",
       "       [ 0.17546989,  1.18044033, -0.21833843,  9.05508255,  4.74692465],\n",
       "       [ 0.55226368,  3.24587224, -0.63321793,  4.74692465,  5.61549503]])"
      ]
     },
     "execution_count": 29,
     "metadata": {},
     "output_type": "execute_result"
    }
   ],
   "source": [
    "mat"
   ]
  },
  {
   "cell_type": "code",
   "execution_count": 30,
   "metadata": {
    "ExecuteTime": {
     "end_time": "2019-04-30T07:45:21.893104Z",
     "start_time": "2019-04-30T07:45:21.884160Z"
    }
   },
   "outputs": [
    {
     "data": {
      "text/plain": [
       "array([[ 0.46603249,  0.83005941, -0.8914962 ,  0.34032244, -0.91383502],\n",
       "       [ 0.83005941,  5.63797815, -5.98435482,  2.17215259, -5.85149016],\n",
       "       [-0.8914962 , -5.98435482,  7.27912183, -2.36447819,  6.3663243 ],\n",
       "       [ 0.34032244,  2.17215259, -2.36447819,  1.04007417, -2.43484522],\n",
       "       [-0.91383502, -5.85149016,  6.3663243 , -2.43484522,  6.42635506]])"
      ]
     },
     "execution_count": 30,
     "metadata": {},
     "output_type": "execute_result"
    }
   ],
   "source": [
    "inv(mat)"
   ]
  },
  {
   "cell_type": "code",
   "execution_count": 31,
   "metadata": {
    "ExecuteTime": {
     "end_time": "2019-04-30T07:45:37.203268Z",
     "start_time": "2019-04-30T07:45:37.198282Z"
    }
   },
   "outputs": [
    {
     "data": {
      "text/plain": [
       "array([[ 1.00000000e+00,  2.03918127e-16, -5.27578570e-17,\n",
       "        -6.16352044e-17,  9.30937217e-17],\n",
       "       [ 6.73757918e-16,  1.00000000e+00, -6.49198505e-15,\n",
       "         7.17732226e-16, -1.25404966e-15],\n",
       "       [ 3.68740164e-16, -1.71363662e-15,  1.00000000e+00,\n",
       "         2.47020547e-16, -4.16039523e-17],\n",
       "       [ 2.06048699e-16, -1.57629676e-15, -5.82631999e-15,\n",
       "         1.00000000e+00, -1.26496239e-15],\n",
       "       [-6.07879270e-16, -3.23140123e-15, -3.00744422e-15,\n",
       "         1.02763069e-15,  1.00000000e+00]])"
      ]
     },
     "execution_count": 31,
     "metadata": {},
     "output_type": "execute_result"
    }
   ],
   "source": [
    "mat.dot(inv(mat))"
   ]
  },
  {
   "cell_type": "code",
   "execution_count": 33,
   "metadata": {
    "ExecuteTime": {
     "end_time": "2019-04-30T07:46:05.530116Z",
     "start_time": "2019-04-30T07:46:05.518119Z"
    }
   },
   "outputs": [
    {
     "data": {
      "text/plain": [
       "array([[-3.03681936, -0.68357993,  0.18957716, -1.56834194, -1.86459486],\n",
       "       [ 0.        , -5.13911996, -0.2298267 , -5.71568758, -6.71182716],\n",
       "       [ 0.        ,  0.        , -1.4795309 ,  3.69369571,  2.94284836],\n",
       "       [ 0.        ,  0.        ,  0.        , -7.56488899, -2.84866447],\n",
       "       [ 0.        ,  0.        ,  0.        ,  0.        ,  0.09022874]])"
      ]
     },
     "execution_count": 33,
     "metadata": {},
     "output_type": "execute_result"
    }
   ],
   "source": [
    "q, r = qr(mat)   # QR分解\n",
    "r"
   ]
  },
  {
   "cell_type": "markdown",
   "metadata": {},
   "source": [
    "**通用的`np.linalg`函数：**\n",
    "\n",
    "|函数|描述|\n",
    "| :-- | :---: |\n",
    "|diag|以一维数组的形式返回方阵的对角线元素（或非对角线元素），或将一维数组转换为方阵（非对角线元素为0）|\n",
    "|dot|矩阵乘法|\n",
    "|trace|对角线元素和|\n",
    "|det|计算行列式|\n",
    "|eig|计算仿真的本征值和本征向量|\n",
    "|inv|方阵的逆|\n",
    "|pinv|计算矩阵的Moore-Penrose伪逆|\n",
    "|qr|QR分解|\n",
    "|svd|奇异值分解（SVD）|\n",
    "|solve|解线性方程组$Ax=b$，其中A为一个方阵|\n",
    "|lstsq|计算$Ax=b$的最小二乘解|"
   ]
  },
  {
   "cell_type": "markdown",
   "metadata": {},
   "source": [
    "# 6 伪随机数生成"
   ]
  },
  {
   "cell_type": "markdown",
   "metadata": {},
   "source": [
    "`np.random`模块对Python内置的`random`进行了补充，可以更加有效地从多个分布中产生数组值。\n",
    "\n",
    "产生一个值服从标准正态分布的(4x4)数组："
   ]
  },
  {
   "cell_type": "code",
   "execution_count": 1,
   "metadata": {
    "ExecuteTime": {
     "end_time": "2019-04-30T09:20:02.265896Z",
     "start_time": "2019-04-30T09:20:02.262938Z"
    }
   },
   "outputs": [],
   "source": [
    "import numpy as np\n",
    "np.random.seed(42)"
   ]
  },
  {
   "cell_type": "code",
   "execution_count": 2,
   "metadata": {
    "ExecuteTime": {
     "end_time": "2019-04-30T09:20:05.346225Z",
     "start_time": "2019-04-30T09:20:05.336287Z"
    }
   },
   "outputs": [
    {
     "data": {
      "text/plain": [
       "array([[ 0.49671415, -0.1382643 ,  0.64768854,  1.52302986],\n",
       "       [-0.23415337, -0.23413696,  1.57921282,  0.76743473],\n",
       "       [-0.46947439,  0.54256004, -0.46341769, -0.46572975],\n",
       "       [ 0.24196227, -1.91328024, -1.72491783, -0.56228753]])"
      ]
     },
     "execution_count": 2,
     "metadata": {},
     "output_type": "execute_result"
    }
   ],
   "source": [
    "samples = np.random.normal(size=(4, 4))\n",
    "samples"
   ]
  },
  {
   "cell_type": "markdown",
   "metadata": {},
   "source": [
    "相反地，Python内置`random`模块一次只能生成一个值。如果要生成大规模的值，`np.random`快了不止一个数量级。"
   ]
  },
  {
   "cell_type": "code",
   "execution_count": 4,
   "metadata": {
    "ExecuteTime": {
     "end_time": "2019-04-30T09:20:56.625666Z",
     "start_time": "2019-04-30T09:20:56.621723Z"
    }
   },
   "outputs": [],
   "source": [
    "from random import normalvariate"
   ]
  },
  {
   "cell_type": "code",
   "execution_count": 5,
   "metadata": {
    "ExecuteTime": {
     "end_time": "2019-04-30T09:21:03.406461Z",
     "start_time": "2019-04-30T09:21:03.402472Z"
    }
   },
   "outputs": [],
   "source": [
    "N = 1000000"
   ]
  },
  {
   "cell_type": "code",
   "execution_count": 6,
   "metadata": {
    "ExecuteTime": {
     "end_time": "2019-04-30T09:21:33.572051Z",
     "start_time": "2019-04-30T09:21:28.361646Z"
    }
   },
   "outputs": [
    {
     "name": "stdout",
     "output_type": "stream",
     "text": [
      "637 ms ± 6.07 ms per loop (mean ± std. dev. of 7 runs, 1 loop each)\n"
     ]
    }
   ],
   "source": [
    "%timeit samples = [normalvariate(0, 1) for _ in range(N)]"
   ]
  },
  {
   "cell_type": "code",
   "execution_count": 7,
   "metadata": {
    "ExecuteTime": {
     "end_time": "2019-04-30T09:21:54.766230Z",
     "start_time": "2019-04-30T09:21:52.638957Z"
    }
   },
   "outputs": [
    {
     "name": "stdout",
     "output_type": "stream",
     "text": [
      "26.1 ms ± 169 µs per loop (mean ± std. dev. of 7 runs, 10 loops each)\n"
     ]
    }
   ],
   "source": [
    "%timeit np.random.normal(size=N)"
   ]
  },
  {
   "cell_type": "markdown",
   "metadata": {},
   "source": [
    "都是**伪随机数**，是因为它们都是通过算法基于随机数生成器种子，在确定性的条件下生成的。可以用NumPy的`np.random.seed(N)`更改随机数生成种子。\n",
    "\n",
    "`np.random`生成数函数使用全局的随机种子。如果要避免全局状态，可以使用`np.random.RandomState`来创造一个与其他隔离的随机数生成器。"
   ]
  },
  {
   "cell_type": "code",
   "execution_count": 8,
   "metadata": {
    "ExecuteTime": {
     "end_time": "2019-04-30T09:26:35.639680Z",
     "start_time": "2019-04-30T09:26:35.636719Z"
    }
   },
   "outputs": [],
   "source": [
    "rng = np.random.RandomState(1234)"
   ]
  },
  {
   "cell_type": "code",
   "execution_count": 9,
   "metadata": {
    "ExecuteTime": {
     "end_time": "2019-04-30T09:26:41.957279Z",
     "start_time": "2019-04-30T09:26:41.952325Z"
    }
   },
   "outputs": [
    {
     "data": {
      "text/plain": [
       "array([ 0.47143516, -1.19097569,  1.43270697, -0.3126519 , -0.72058873,\n",
       "        0.88716294,  0.85958841, -0.6365235 ,  0.01569637, -2.24268495])"
      ]
     },
     "execution_count": 9,
     "metadata": {},
     "output_type": "execute_result"
    }
   ],
   "source": [
    "rng.randn(10)"
   ]
  },
  {
   "cell_type": "code",
   "execution_count": 12,
   "metadata": {
    "ExecuteTime": {
     "end_time": "2019-04-30T09:27:15.690990Z",
     "start_time": "2019-04-30T09:27:15.686003Z"
    }
   },
   "outputs": [
    {
     "data": {
      "text/plain": [
       "array([-0.781669  ,  0.35956456,  0.44807407,  0.98373785,  1.5621861 ,\n",
       "        1.00609641,  0.79752244,  0.81511666, -0.4031253 ,  0.99753251])"
      ]
     },
     "execution_count": 12,
     "metadata": {},
     "output_type": "execute_result"
    }
   ],
   "source": [
    "np.random.randn(10)  # 全局随机数生成器"
   ]
  },
  {
   "cell_type": "markdown",
   "metadata": {},
   "source": [
    "**`np.random`部分函数**\n",
    "\n",
    "|函数|描述|\n",
    "| :--- | :---: |\n",
    "|`seed`|确定随机数生成器的种子|\n",
    "|`permutation`|返回一个序列的随机排列，或者返回一个随机排列的范围|\n",
    "|`shuflle`|对一个序列原地随机排列|\n",
    "|`rand`|从均匀分布中产生样本值|\n",
    "|`randint`|从一个给定范围内生成随机整数|\n",
    "|`randn`|从0-1正态分布中抽样|\n",
    "|`binomial`|从二项分布中抽样|\n",
    "|`normal`|从高斯（正态）分布中抽样|\n",
    "|`beta`|从beta分布中抽样|\n",
    "|`chisquare`|从卡方（chi-square）分布中抽样|\n",
    "|`gamma`|从gamma分布中抽样|\n",
    "|`uniform`|从均匀分布中[0, 1)抽样|"
   ]
  }
 ],
 "metadata": {
  "hide_input": false,
  "kernelspec": {
   "display_name": "Python 3",
   "language": "python",
   "name": "python3"
  },
  "language_info": {
   "codemirror_mode": {
    "name": "ipython",
    "version": 3
   },
   "file_extension": ".py",
   "mimetype": "text/x-python",
   "name": "python",
   "nbconvert_exporter": "python",
   "pygments_lexer": "ipython3",
   "version": "3.6.8"
  },
  "latex_envs": {
   "LaTeX_envs_menu_present": true,
   "autoclose": false,
   "autocomplete": true,
   "bibliofile": "biblio.bib",
   "cite_by": "apalike",
   "current_citInitial": 1,
   "eqLabelWithNumbers": true,
   "eqNumInitial": 1,
   "hotkeys": {
    "equation": "Ctrl-E",
    "itemize": "Ctrl-I"
   },
   "labels_anchors": false,
   "latex_user_defs": false,
   "report_style_numbering": false,
   "user_envs_cfg": false
  },
  "nbTranslate": {
   "displayLangs": [
    "*"
   ],
   "hotkey": "alt-t",
   "langInMainMenu": true,
   "sourceLang": "en",
   "targetLang": "fr",
   "useGoogleTranslate": true
  },
  "toc": {
   "base_numbering": 1,
   "nav_menu": {},
   "number_sections": true,
   "sideBar": true,
   "skip_h1_title": false,
   "title_cell": "Table of Contents",
   "title_sidebar": "Contents",
   "toc_cell": false,
   "toc_position": {},
   "toc_section_display": true,
   "toc_window_display": true
  },
  "varInspector": {
   "cols": {
    "lenName": 16,
    "lenType": 16,
    "lenVar": 40
   },
   "kernels_config": {
    "python": {
     "delete_cmd_postfix": "",
     "delete_cmd_prefix": "del ",
     "library": "var_list.py",
     "varRefreshCmd": "print(var_dic_list())"
    },
    "r": {
     "delete_cmd_postfix": ") ",
     "delete_cmd_prefix": "rm(",
     "library": "var_list.r",
     "varRefreshCmd": "cat(var_dic_list()) "
    }
   },
   "types_to_exclude": [
    "module",
    "function",
    "builtin_function_or_method",
    "instance",
    "_Feature"
   ],
   "window_display": false
  }
 },
 "nbformat": 4,
 "nbformat_minor": 2
}
