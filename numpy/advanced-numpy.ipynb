{
 "cells": [
  {
   "cell_type": "markdown",
   "metadata": {},
   "source": [
    "深入NumPy库的数值计算，包含ndarray类型（type）更多的细节描述和更高级的数组操作和算法。"
   ]
  },
  {
   "cell_type": "markdown",
   "metadata": {},
   "source": [
    "**NumPymarkdown**\n",
    "\n",
    "NumPy (short for Numerical Python)是高性能科学计算和数据分析的基础包。其部分功能如下：\n",
    "+ ndarray，一个提供快速面向数组算术运算和复杂广播功能的高效多维数组\n",
    "+ 数学函数——可以对整个数组进行快速运算，而不用写循环\n",
    "+ 工具——读写磁盘数据以及操作内存映射文件\n",
    "+ 线性代数、随机数生成和傅里叶变换\n",
    "+ C API——用于将NumPy与用C、C++或者FORTRAN编写的库连接\n",
    "\n",
    "NumPy在Python中对数值计算如此重要的原因之一是designed for efficiency on large arrays of data，原因如下：\n",
    "+ NumPy internally stores data in a contiguous block of memeory, independent of other built-in Python objects. NumPy's library of algorithms written in the C language can operate on this memory without any type checking or other overhead.\n",
    "+ NumPy arrays also use much less memory than built-in Python sequences.与Python序列相比，占用更少的内存。\n",
    "+ Numpy operations perform complex computations on entire arrays without the need for Python for loops.对整个数组进行操作而不用写循环。"
   ]
  },
  {
   "cell_type": "markdown",
   "metadata": {},
   "source": [
    "# 1 ndarray对象的内部机制（ndarray object internals）\n",
    "NumPy的ndarray提供了一种将同质数据块（可以是连续或跨越的）解释为多维数组对象的方式。数据类型（dtype）决定了数据是怎样被解释为浮点数、整型、布尔型或其他任何类型。\n",
    "\n",
    "ndarray这么灵活的一个原因是每个数组对象是一个数据块的跨度视图（strided view）。为什么数组视图`arr[::2, ::-1]`没有复制数据呢？这是因为ndarray不只是一块内存和一个dtype，它还有跨度（striding）信息，这使得数组能以各种步幅（step size）在内存中移动。更加准确地讲，ndarray内部由一下部分组成：\n",
    "\n",
    "+ A *pointer* to data --that is, a block of data in RAM or in a memory-mapped file\n",
    "+ The *data type* or *dtype*, describing fixed-size value celss in the array\n",
    "+ A tuple indicating the array's shape\n",
    "+ A tuple of strides, integers indicating the number of types to 'step' in order to advance one element along a dimension一个跨度元组，其中的整数指的是为了前进到当前维度下一个元素需要“跨过”的字节数。\n",
    "\n",
    "下图简单地说明了ndarray内部结构：\n",
    "![ndarray内部结构](https://raw.githubusercontent.com/libingallin/python-for-data-anlysis/master/numpy/figs/numpy-ndarry-object.png)\n",
    "\n",
    "## 1.1 NumPy数据类型体系\n",
    "有时需要check一个数组是否包含整数、浮点数，字符串或其他Python对象。因为这里有多种浮点数类型，check dtype是否属于某个大类比较繁琐。幸运地是，dtype都有一个超级类（如`np.integer`和`np.floating`），这可以与函数`np.issubdtype`联合使用："
   ]
  },
  {
   "cell_type": "code",
   "execution_count": 1,
   "metadata": {
    "ExecuteTime": {
     "end_time": "2019-05-15T13:19:23.632113Z",
     "start_time": "2019-05-15T13:19:23.495464Z"
    }
   },
   "outputs": [],
   "source": [
    "import numpy as np"
   ]
  },
  {
   "cell_type": "code",
   "execution_count": 2,
   "metadata": {
    "ExecuteTime": {
     "end_time": "2019-05-15T13:19:23.644068Z",
     "start_time": "2019-05-15T13:19:23.637089Z"
    }
   },
   "outputs": [],
   "source": [
    "ints = np.ones(10, dtype=np.uint16)"
   ]
  },
  {
   "cell_type": "code",
   "execution_count": 3,
   "metadata": {
    "ExecuteTime": {
     "end_time": "2019-05-15T13:19:23.671012Z",
     "start_time": "2019-05-15T13:19:23.648055Z"
    }
   },
   "outputs": [
    {
     "data": {
      "text/plain": [
       "True"
      ]
     },
     "execution_count": 3,
     "metadata": {},
     "output_type": "execute_result"
    }
   ],
   "source": [
    "np.issubdtype(ints.dtype, np.integer)"
   ]
  },
  {
   "cell_type": "code",
   "execution_count": 4,
   "metadata": {
    "ExecuteTime": {
     "end_time": "2019-05-15T13:19:23.686952Z",
     "start_time": "2019-05-15T13:19:23.675981Z"
    }
   },
   "outputs": [],
   "source": [
    "floats = np.ones(10, dtype=np.float32)"
   ]
  },
  {
   "cell_type": "code",
   "execution_count": 5,
   "metadata": {
    "ExecuteTime": {
     "end_time": "2019-05-15T13:19:23.699917Z",
     "start_time": "2019-05-15T13:19:23.689943Z"
    }
   },
   "outputs": [
    {
     "data": {
      "text/plain": [
       "True"
      ]
     },
     "execution_count": 5,
     "metadata": {},
     "output_type": "execute_result"
    }
   ],
   "source": [
    "np.issubdtype(floats.dtype, np.floating)"
   ]
  },
  {
   "cell_type": "markdown",
   "metadata": {},
   "source": [
    "**可以调用dtype的`mro`方法查看该dtype的所有父类：**"
   ]
  },
  {
   "cell_type": "code",
   "execution_count": 6,
   "metadata": {
    "ExecuteTime": {
     "end_time": "2019-05-15T13:19:23.712885Z",
     "start_time": "2019-05-15T13:19:23.702911Z"
    }
   },
   "outputs": [
    {
     "data": {
      "text/plain": [
       "[numpy.float64,\n",
       " numpy.floating,\n",
       " numpy.inexact,\n",
       " numpy.number,\n",
       " numpy.generic,\n",
       " float,\n",
       " object]"
      ]
     },
     "execution_count": 6,
     "metadata": {},
     "output_type": "execute_result"
    }
   ],
   "source": [
    "np.float64.mro()"
   ]
  },
  {
   "cell_type": "code",
   "execution_count": 7,
   "metadata": {
    "ExecuteTime": {
     "end_time": "2019-05-15T13:19:23.731832Z",
     "start_time": "2019-05-15T13:19:23.715876Z"
    }
   },
   "outputs": [
    {
     "name": "stdout",
     "output_type": "stream",
     "text": [
      "mro() -> list\n",
      "return a type's method resolution order\n"
     ]
    }
   ],
   "source": [
    "np.info(np.float32.mro)"
   ]
  },
  {
   "cell_type": "markdown",
   "metadata": {},
   "source": [
    "这些知识（特定dtype的父类）不需要必须掌握，但偶尔还是能派上用场的：\n",
    "![dtype体系及其父子类关系](https://raw.githubusercontent.com/libingallin/python-for-data-anlysis/master/numpy/figs/numpy-dtype-class-hierarchy.png)"
   ]
  },
  {
   "cell_type": "markdown",
   "metadata": {},
   "source": [
    "# 2 高级数组操作\n",
    "有时需要编写现有库中找不到的数据算法。\n",
    "\n",
    "## 2.1 重塑数组\n",
    "很多时候需要**在不复制数据的同时，转换数组shape**。只需要向**`reshape`方法**传入一个新形状的元组即可："
   ]
  },
  {
   "cell_type": "code",
   "execution_count": 8,
   "metadata": {
    "ExecuteTime": {
     "end_time": "2019-05-15T13:19:23.779704Z",
     "start_time": "2019-05-15T13:19:23.772722Z"
    }
   },
   "outputs": [
    {
     "data": {
      "text/plain": [
       "array([0, 1, 2, 3, 4, 5, 6, 7])"
      ]
     },
     "execution_count": 8,
     "metadata": {},
     "output_type": "execute_result"
    }
   ],
   "source": [
    "arr = np.arange(8)\n",
    "arr"
   ]
  },
  {
   "cell_type": "code",
   "execution_count": 9,
   "metadata": {
    "ExecuteTime": {
     "end_time": "2019-05-15T13:19:23.792669Z",
     "start_time": "2019-05-15T13:19:23.782696Z"
    }
   },
   "outputs": [
    {
     "data": {
      "text/plain": [
       "array([[0, 1],\n",
       "       [2, 3],\n",
       "       [4, 5],\n",
       "       [6, 7]])"
      ]
     },
     "execution_count": 9,
     "metadata": {},
     "output_type": "execute_result"
    }
   ],
   "source": [
    "arr.reshape((4, 2))"
   ]
  },
  {
   "cell_type": "markdown",
   "metadata": {},
   "source": [
    "> 默认情况下，以C顺序。"
   ]
  },
  {
   "cell_type": "code",
   "execution_count": 10,
   "metadata": {
    "ExecuteTime": {
     "end_time": "2019-05-15T13:19:23.838550Z",
     "start_time": "2019-05-15T13:19:23.832563Z"
    }
   },
   "outputs": [
    {
     "data": {
      "text/plain": [
       "array([[0, 4],\n",
       "       [1, 5],\n",
       "       [2, 6],\n",
       "       [3, 7]])"
      ]
     },
     "execution_count": 10,
     "metadata": {},
     "output_type": "execute_result"
    }
   ],
   "source": [
    "arr.reshape((4, 2), order='F')"
   ]
  },
  {
   "cell_type": "markdown",
   "metadata": {},
   "source": [
    "**传入的shape中元素可为-1，表示该维度的大小由数据推断而来。**"
   ]
  },
  {
   "cell_type": "code",
   "execution_count": 11,
   "metadata": {
    "ExecuteTime": {
     "end_time": "2019-05-15T13:19:23.881433Z",
     "start_time": "2019-05-15T13:19:23.876446Z"
    }
   },
   "outputs": [],
   "source": [
    "arr = np.arange(15)"
   ]
  },
  {
   "cell_type": "code",
   "execution_count": 12,
   "metadata": {
    "ExecuteTime": {
     "end_time": "2019-05-15T13:19:23.895411Z",
     "start_time": "2019-05-15T13:19:23.883430Z"
    }
   },
   "outputs": [
    {
     "data": {
      "text/plain": [
       "array([[ 0,  1,  2],\n",
       "       [ 3,  4,  5],\n",
       "       [ 6,  7,  8],\n",
       "       [ 9, 10, 11],\n",
       "       [12, 13, 14]])"
      ]
     },
     "execution_count": 12,
     "metadata": {},
     "output_type": "execute_result"
    }
   ],
   "source": [
    "arr.reshape((5, -1))"
   ]
  },
  {
   "cell_type": "markdown",
   "metadata": {},
   "source": [
    "**数据的`shape`属性是一个元组，因此可作为参数传入`reshape`中：**"
   ]
  },
  {
   "cell_type": "code",
   "execution_count": 13,
   "metadata": {
    "ExecuteTime": {
     "end_time": "2019-05-15T13:19:23.932296Z",
     "start_time": "2019-05-15T13:19:23.927310Z"
    }
   },
   "outputs": [],
   "source": [
    "other_arr = np.ones((3, 5))"
   ]
  },
  {
   "cell_type": "code",
   "execution_count": 14,
   "metadata": {
    "ExecuteTime": {
     "end_time": "2019-05-15T13:19:23.944262Z",
     "start_time": "2019-05-15T13:19:23.935288Z"
    }
   },
   "outputs": [
    {
     "data": {
      "text/plain": [
       "(3, 5)"
      ]
     },
     "execution_count": 14,
     "metadata": {},
     "output_type": "execute_result"
    }
   ],
   "source": [
    "other_arr.shape"
   ]
  },
  {
   "cell_type": "code",
   "execution_count": 15,
   "metadata": {
    "ExecuteTime": {
     "end_time": "2019-05-15T13:19:23.954242Z",
     "start_time": "2019-05-15T13:19:23.946260Z"
    }
   },
   "outputs": [
    {
     "data": {
      "text/plain": [
       "array([[ 0,  1,  2,  3,  4],\n",
       "       [ 5,  6,  7,  8,  9],\n",
       "       [10, 11, 12, 13, 14]])"
      ]
     },
     "execution_count": 15,
     "metadata": {},
     "output_type": "execute_result"
    }
   ],
   "source": [
    "arr.reshape((other_arr.shape))"
   ]
  },
  {
   "cell_type": "markdown",
   "metadata": {},
   "source": [
    "**`reshape`的反向操作**——数组shape从多维到一维，称为**flattening/raveling。**"
   ]
  },
  {
   "cell_type": "code",
   "execution_count": 16,
   "metadata": {
    "ExecuteTime": {
     "end_time": "2019-05-15T13:19:23.982163Z",
     "start_time": "2019-05-15T13:19:23.976180Z"
    }
   },
   "outputs": [
    {
     "data": {
      "text/plain": [
       "array([[ 0,  1,  2],\n",
       "       [ 3,  4,  5],\n",
       "       [ 6,  7,  8],\n",
       "       [ 9, 10, 11],\n",
       "       [12, 13, 14]])"
      ]
     },
     "execution_count": 16,
     "metadata": {},
     "output_type": "execute_result"
    }
   ],
   "source": [
    "arr = np.arange(15).reshape((5, 3))\n",
    "arr"
   ]
  },
  {
   "cell_type": "code",
   "execution_count": 17,
   "metadata": {
    "ExecuteTime": {
     "end_time": "2019-05-15T13:19:23.994145Z",
     "start_time": "2019-05-15T13:19:23.985154Z"
    }
   },
   "outputs": [
    {
     "data": {
      "text/plain": [
       "array([ 0,  1,  2,  3,  4,  5,  6,  7,  8,  9, 10, 11, 12, 13, 14])"
      ]
     },
     "execution_count": 17,
     "metadata": {},
     "output_type": "execute_result"
    }
   ],
   "source": [
    "arr.ravel()"
   ]
  },
  {
   "cell_type": "code",
   "execution_count": 18,
   "metadata": {
    "ExecuteTime": {
     "end_time": "2019-05-15T13:19:24.008098Z",
     "start_time": "2019-05-15T13:19:23.997124Z"
    }
   },
   "outputs": [
    {
     "data": {
      "text/plain": [
       "array([ 0,  1,  2,  3,  4,  5,  6,  7,  8,  9, 10, 11, 12, 13, 14])"
      ]
     },
     "execution_count": 18,
     "metadata": {},
     "output_type": "execute_result"
    }
   ],
   "source": [
    "arr.flatten()"
   ]
  },
  {
   "cell_type": "markdown",
   "metadata": {},
   "source": [
    "**`ravel`不会产生源数据的副本，如果values in the result were contiguous in the original array。`flatten`和`ravel`类似，但总是会返回数据的副本。**"
   ]
  },
  {
   "cell_type": "markdown",
   "metadata": {},
   "source": [
    "## 2.2 C或Fortran顺序"
   ]
  },
  {
   "cell_type": "markdown",
   "metadata": {},
   "source": [
    "numpy在控制数据在内存中的layout时有很大的灵活性。默认情况下，numpy数组以行优先（row major order）顺序创建的，这意味着每行数据在是被存放在相邻内存位置上。另一种是列优先顺序（column major order），这意味着每列数据是被存放相邻内存位置上。\n",
    "\n",
    "因为一些历史的原因，行优先和列优先分别被称为C顺序和Fortran顺序。在FORTRAN77中，矩阵都是列优先的。\n",
    "\n",
    "像`reshape`和`ravel`这样的函数都有一个`order`参数来表示数组存放位置。通常是C或F（也可以是A或K，具体参见文档）。"
   ]
  },
  {
   "cell_type": "code",
   "execution_count": 19,
   "metadata": {
    "ExecuteTime": {
     "end_time": "2019-05-15T13:19:24.143731Z",
     "start_time": "2019-05-15T13:19:24.134756Z"
    }
   },
   "outputs": [
    {
     "data": {
      "text/plain": [
       "array([[ 0,  1,  2,  3],\n",
       "       [ 4,  5,  6,  7],\n",
       "       [ 8,  9, 10, 11]])"
      ]
     },
     "execution_count": 19,
     "metadata": {},
     "output_type": "execute_result"
    }
   ],
   "source": [
    "arr = np.arange(12).reshape((3, 4))\n",
    "arr"
   ]
  },
  {
   "cell_type": "code",
   "execution_count": 20,
   "metadata": {
    "ExecuteTime": {
     "end_time": "2019-05-15T13:19:24.162680Z",
     "start_time": "2019-05-15T13:19:24.147720Z"
    }
   },
   "outputs": [
    {
     "data": {
      "text/plain": [
       "array([ 0,  1,  2,  3,  4,  5,  6,  7,  8,  9, 10, 11])"
      ]
     },
     "execution_count": 20,
     "metadata": {},
     "output_type": "execute_result"
    }
   ],
   "source": [
    "arr.ravel()"
   ]
  },
  {
   "cell_type": "code",
   "execution_count": 21,
   "metadata": {
    "ExecuteTime": {
     "end_time": "2019-05-15T13:19:24.171693Z",
     "start_time": "2019-05-15T13:19:24.164674Z"
    }
   },
   "outputs": [
    {
     "data": {
      "text/plain": [
       "array([ 0,  4,  8,  1,  5,  9,  2,  6, 10,  3,  7, 11])"
      ]
     },
     "execution_count": 21,
     "metadata": {},
     "output_type": "execute_result"
    }
   ],
   "source": [
    "arr.ravel('F')"
   ]
  },
  {
   "cell_type": "markdown",
   "metadata": {},
   "source": [
    "二维或更多维数组的重塑有点难理解。C和Fortran关键的区别是在于维度的行进顺序：\n",
    "+ **C/row major order**：更高的维度优先（如轴1优先于轴0）\n",
    "+ **Fortran/column major order**：低维度的优先（如轴0在轴1前面）"
   ]
  },
  {
   "cell_type": "markdown",
   "metadata": {},
   "source": [
    "## 2.3 数组的合并和拆分（Concatenating and Splitting arrays）"
   ]
  },
  {
   "cell_type": "markdown",
   "metadata": {},
   "source": [
    "+ **`np.concatenate`**接收一个数组组成的sequence（tuple, list, etc.），然后沿着指定轴将他们连接到一起："
   ]
  },
  {
   "cell_type": "code",
   "execution_count": 22,
   "metadata": {
    "ExecuteTime": {
     "end_time": "2019-05-15T13:19:24.279394Z",
     "start_time": "2019-05-15T13:19:24.276401Z"
    }
   },
   "outputs": [],
   "source": [
    "arr1 = np.array([[1, 2, 3], [4, 5, 6]])\n",
    "arr2 = np.array([[7, 8, 9], [10, 11, 12]])"
   ]
  },
  {
   "cell_type": "code",
   "execution_count": 23,
   "metadata": {
    "ExecuteTime": {
     "end_time": "2019-05-15T13:19:24.294332Z",
     "start_time": "2019-05-15T13:19:24.282359Z"
    }
   },
   "outputs": [
    {
     "data": {
      "text/plain": [
       "array([[ 1,  2,  3],\n",
       "       [ 4,  5,  6],\n",
       "       [ 7,  8,  9],\n",
       "       [10, 11, 12]])"
      ]
     },
     "execution_count": 23,
     "metadata": {},
     "output_type": "execute_result"
    }
   ],
   "source": [
    "np.concatenate([arr1, arr2], axis=0)"
   ]
  },
  {
   "cell_type": "code",
   "execution_count": 24,
   "metadata": {
    "ExecuteTime": {
     "end_time": "2019-05-15T13:19:24.306295Z",
     "start_time": "2019-05-15T13:19:24.296324Z"
    }
   },
   "outputs": [
    {
     "data": {
      "text/plain": [
       "array([[ 1,  2,  3,  7,  8,  9],\n",
       "       [ 4,  5,  6, 10, 11, 12]])"
      ]
     },
     "execution_count": 24,
     "metadata": {},
     "output_type": "execute_result"
    }
   ],
   "source": [
    "np.concatenate([arr1, arr2], axis=1)"
   ]
  },
  {
   "cell_type": "markdown",
   "metadata": {},
   "source": [
    "+ 对于常见的连接方式，有一些方便的函数——**`np.vstack`**和**`np.hstack`**。"
   ]
  },
  {
   "cell_type": "code",
   "execution_count": 25,
   "metadata": {
    "ExecuteTime": {
     "end_time": "2019-05-15T13:19:24.333228Z",
     "start_time": "2019-05-15T13:19:24.327241Z"
    }
   },
   "outputs": [
    {
     "data": {
      "text/plain": [
       "array([[ 1,  2,  3],\n",
       "       [ 4,  5,  6],\n",
       "       [ 7,  8,  9],\n",
       "       [10, 11, 12]])"
      ]
     },
     "execution_count": 25,
     "metadata": {},
     "output_type": "execute_result"
    }
   ],
   "source": [
    "np.vstack((arr1, arr2))"
   ]
  },
  {
   "cell_type": "code",
   "execution_count": 26,
   "metadata": {
    "ExecuteTime": {
     "end_time": "2019-05-15T13:19:24.345200Z",
     "start_time": "2019-05-15T13:19:24.335244Z"
    }
   },
   "outputs": [
    {
     "data": {
      "text/plain": [
       "array([[ 1,  2,  3,  7,  8,  9],\n",
       "       [ 4,  5,  6, 10, 11, 12]])"
      ]
     },
     "execution_count": 26,
     "metadata": {},
     "output_type": "execute_result"
    }
   ],
   "source": [
    "np.hstack((arr1, arr2))"
   ]
  },
  {
   "cell_type": "markdown",
   "metadata": {
    "ExecuteTime": {
     "end_time": "2019-05-10T01:06:51.910854Z",
     "start_time": "2019-05-10T01:06:51.905397Z"
    }
   },
   "source": [
    "+ **`np.split`**可以将数组沿指定轴切分为多个数组。"
   ]
  },
  {
   "cell_type": "code",
   "execution_count": 27,
   "metadata": {
    "ExecuteTime": {
     "end_time": "2019-05-15T13:19:24.398050Z",
     "start_time": "2019-05-15T13:19:24.389075Z"
    }
   },
   "outputs": [
    {
     "data": {
      "text/plain": [
       "array([[-1.81237955,  0.85745931],\n",
       "       [ 1.56496973,  1.03947096],\n",
       "       [-0.90853661,  1.2534361 ],\n",
       "       [ 0.86707616, -1.57398313],\n",
       "       [ 0.130598  ,  2.38642552]])"
      ]
     },
     "execution_count": 27,
     "metadata": {},
     "output_type": "execute_result"
    }
   ],
   "source": [
    "arr = np.random.randn(5, 2)\n",
    "arr"
   ]
  },
  {
   "cell_type": "code",
   "execution_count": 28,
   "metadata": {
    "ExecuteTime": {
     "end_time": "2019-05-15T13:19:24.407027Z",
     "start_time": "2019-05-15T13:19:24.401046Z"
    }
   },
   "outputs": [],
   "source": [
    "first, second, third = np.split(arr, [1, 3])"
   ]
  },
  {
   "cell_type": "code",
   "execution_count": 29,
   "metadata": {
    "ExecuteTime": {
     "end_time": "2019-05-15T13:19:24.419992Z",
     "start_time": "2019-05-15T13:19:24.409022Z"
    }
   },
   "outputs": [
    {
     "data": {
      "text/plain": [
       "array([[-1.81237955,  0.85745931]])"
      ]
     },
     "execution_count": 29,
     "metadata": {},
     "output_type": "execute_result"
    }
   ],
   "source": [
    "first"
   ]
  },
  {
   "cell_type": "code",
   "execution_count": 30,
   "metadata": {
    "ExecuteTime": {
     "end_time": "2019-05-15T13:19:24.434953Z",
     "start_time": "2019-05-15T13:19:24.423982Z"
    }
   },
   "outputs": [
    {
     "data": {
      "text/plain": [
       "(1, 2)"
      ]
     },
     "execution_count": 30,
     "metadata": {},
     "output_type": "execute_result"
    }
   ],
   "source": [
    "first.shape"
   ]
  },
  {
   "cell_type": "code",
   "execution_count": 31,
   "metadata": {
    "ExecuteTime": {
     "end_time": "2019-05-15T13:19:24.449912Z",
     "start_time": "2019-05-15T13:19:24.438946Z"
    }
   },
   "outputs": [
    {
     "data": {
      "text/plain": [
       "array([[ 1.56496973,  1.03947096],\n",
       "       [-0.90853661,  1.2534361 ]])"
      ]
     },
     "execution_count": 31,
     "metadata": {},
     "output_type": "execute_result"
    }
   ],
   "source": [
    "second"
   ]
  },
  {
   "cell_type": "code",
   "execution_count": 32,
   "metadata": {
    "ExecuteTime": {
     "end_time": "2019-05-15T13:19:24.465869Z",
     "start_time": "2019-05-15T13:19:24.452905Z"
    }
   },
   "outputs": [
    {
     "data": {
      "text/plain": [
       "array([[ 0.86707616, -1.57398313],\n",
       "       [ 0.130598  ,  2.38642552]])"
      ]
     },
     "execution_count": 32,
     "metadata": {},
     "output_type": "execute_result"
    }
   ],
   "source": [
    "third"
   ]
  },
  {
   "cell_type": "markdown",
   "metadata": {},
   "source": [
    "传入的`[1, 3]`表示在哪个索引处切分数据。"
   ]
  },
  {
   "cell_type": "markdown",
   "metadata": {},
   "source": [
    "**数组concatenate函数**\n",
    "\n",
    "|函数|描述|\n",
    "| :--- | :---- |\n",
    "|concatenate|最常用的函数，沿指定轴连接一组数组|\n",
    "|vstack, row_stack|面向行的方式对数组进行连接（沿轴0）|\n",
    "|hstack, |面向列的方式对数组进行连接（沿轴1）|\n",
    "|column_stack|类似于hstack，但是会先将1维数组转换为2维列向量|\n",
    "|dstack|面向“深度”的方式对数组进行堆叠（沿轴2）\n",
    "|split|沿特定的轴在指定位置切分数组|\n",
    "|hsplit/vsplit|split的便捷化操作|"
   ]
  },
  {
   "cell_type": "markdown",
   "metadata": {},
   "source": [
    "**stacking辅助：`r_`和`c_`**，更为简便的堆叠数组。"
   ]
  },
  {
   "cell_type": "code",
   "execution_count": 33,
   "metadata": {
    "ExecuteTime": {
     "end_time": "2019-05-15T13:19:24.669325Z",
     "start_time": "2019-05-15T13:19:24.665336Z"
    }
   },
   "outputs": [],
   "source": [
    "arr = np.arange(6)"
   ]
  },
  {
   "cell_type": "code",
   "execution_count": 34,
   "metadata": {
    "ExecuteTime": {
     "end_time": "2019-05-15T13:19:24.679317Z",
     "start_time": "2019-05-15T13:19:24.674312Z"
    }
   },
   "outputs": [],
   "source": [
    "arr1 = arr.reshape((3, 2))"
   ]
  },
  {
   "cell_type": "code",
   "execution_count": 35,
   "metadata": {
    "ExecuteTime": {
     "end_time": "2019-05-15T13:19:24.689272Z",
     "start_time": "2019-05-15T13:19:24.681294Z"
    }
   },
   "outputs": [],
   "source": [
    "arr2 = np.random.randn(3, 2)"
   ]
  },
  {
   "cell_type": "code",
   "execution_count": 36,
   "metadata": {
    "ExecuteTime": {
     "end_time": "2019-05-15T13:19:24.700243Z",
     "start_time": "2019-05-15T13:19:24.692264Z"
    }
   },
   "outputs": [
    {
     "data": {
      "text/plain": [
       "array([[0, 1],\n",
       "       [2, 3],\n",
       "       [4, 5]])"
      ]
     },
     "execution_count": 36,
     "metadata": {},
     "output_type": "execute_result"
    }
   ],
   "source": [
    "arr1"
   ]
  },
  {
   "cell_type": "code",
   "execution_count": 37,
   "metadata": {
    "ExecuteTime": {
     "end_time": "2019-05-15T13:19:24.712213Z",
     "start_time": "2019-05-15T13:19:24.703236Z"
    }
   },
   "outputs": [
    {
     "data": {
      "text/plain": [
       "array([[-0.83116129, -0.39413926],\n",
       "       [ 0.13436007, -0.08740287],\n",
       "       [ 1.06983337, -1.77300967]])"
      ]
     },
     "execution_count": 37,
     "metadata": {},
     "output_type": "execute_result"
    }
   ],
   "source": [
    "arr2"
   ]
  },
  {
   "cell_type": "code",
   "execution_count": 38,
   "metadata": {
    "ExecuteTime": {
     "end_time": "2019-05-15T13:19:24.723183Z",
     "start_time": "2019-05-15T13:19:24.714207Z"
    }
   },
   "outputs": [
    {
     "data": {
      "text/plain": [
       "array([[ 0.        ,  1.        ],\n",
       "       [ 2.        ,  3.        ],\n",
       "       [ 4.        ,  5.        ],\n",
       "       [-0.83116129, -0.39413926],\n",
       "       [ 0.13436007, -0.08740287],\n",
       "       [ 1.06983337, -1.77300967]])"
      ]
     },
     "execution_count": 38,
     "metadata": {},
     "output_type": "execute_result"
    }
   ],
   "source": [
    "np.r_[arr1, arr2]"
   ]
  },
  {
   "cell_type": "code",
   "execution_count": 39,
   "metadata": {
    "ExecuteTime": {
     "end_time": "2019-05-15T13:19:24.736147Z",
     "start_time": "2019-05-15T13:19:24.726181Z"
    }
   },
   "outputs": [
    {
     "data": {
      "text/plain": [
       "array([[ 0.        ,  1.        , -0.83116129, -0.39413926],\n",
       "       [ 2.        ,  3.        ,  0.13436007, -0.08740287],\n",
       "       [ 4.        ,  5.        ,  1.06983337, -1.77300967]])"
      ]
     },
     "execution_count": 39,
     "metadata": {},
     "output_type": "execute_result"
    }
   ],
   "source": [
    "np.c_[arr1, arr2]"
   ]
  },
  {
   "cell_type": "code",
   "execution_count": 40,
   "metadata": {
    "ExecuteTime": {
     "end_time": "2019-05-15T13:19:24.750111Z",
     "start_time": "2019-05-15T13:19:24.741136Z"
    }
   },
   "outputs": [
    {
     "data": {
      "text/plain": [
       "array([[ 0.        ,  1.        ,  0.        ],\n",
       "       [ 2.        ,  3.        ,  1.        ],\n",
       "       [ 4.        ,  5.        ,  2.        ],\n",
       "       [-0.83116129, -0.39413926,  3.        ],\n",
       "       [ 0.13436007, -0.08740287,  4.        ],\n",
       "       [ 1.06983337, -1.77300967,  5.        ]])"
      ]
     },
     "execution_count": 40,
     "metadata": {},
     "output_type": "execute_result"
    }
   ],
   "source": [
    "np.c_[np.r_[arr1, arr2], arr]"
   ]
  },
  {
   "cell_type": "code",
   "execution_count": 41,
   "metadata": {
    "ExecuteTime": {
     "end_time": "2019-05-15T13:19:24.761118Z",
     "start_time": "2019-05-15T13:19:24.752105Z"
    }
   },
   "outputs": [
    {
     "data": {
      "text/plain": [
       "array([[  1, -10],\n",
       "       [  2,  -9],\n",
       "       [  3,  -8],\n",
       "       [  4,  -7],\n",
       "       [  5,  -6]])"
      ]
     },
     "execution_count": 41,
     "metadata": {},
     "output_type": "execute_result"
    }
   ],
   "source": [
    "np.c_[1:6, -10:-5]"
   ]
  },
  {
   "cell_type": "markdown",
   "metadata": {},
   "source": [
    "## 2.4 元素的重复操作：tile和repeat"
   ]
  },
  {
   "cell_type": "markdown",
   "metadata": {},
   "source": [
    "**title**和**tile**是两个最有用的函数——来重复数组以产生更大的数组。\n",
    "\n",
    "+ **title**将数组中的每个元素重复(replicate)一定的次数，来产生更大的数组："
   ]
  },
  {
   "cell_type": "code",
   "execution_count": 42,
   "metadata": {
    "ExecuteTime": {
     "end_time": "2019-05-15T13:19:24.840872Z",
     "start_time": "2019-05-15T13:19:24.832900Z"
    }
   },
   "outputs": [
    {
     "data": {
      "text/plain": [
       "array([0, 1, 2])"
      ]
     },
     "execution_count": 42,
     "metadata": {},
     "output_type": "execute_result"
    }
   ],
   "source": [
    "arr = np.arange(3)\n",
    "arr"
   ]
  },
  {
   "cell_type": "code",
   "execution_count": 43,
   "metadata": {
    "ExecuteTime": {
     "end_time": "2019-05-15T13:19:24.853834Z",
     "start_time": "2019-05-15T13:19:24.845854Z"
    }
   },
   "outputs": [
    {
     "data": {
      "text/plain": [
       "array([0, 0, 0, 1, 1, 1, 2, 2, 2])"
      ]
     },
     "execution_count": 43,
     "metadata": {},
     "output_type": "execute_result"
    }
   ],
   "source": [
    "arr.repeat(3)"
   ]
  },
  {
   "cell_type": "markdown",
   "metadata": {},
   "source": [
    "> NumPy中很少需要对数组进行重复，这是因为**broadcasting**可以更好的满足这一需求。"
   ]
  },
  {
   "cell_type": "markdown",
   "metadata": {},
   "source": [
    "默认情况下，如果传入一个整数，则数组中的每个元素都会被重复那么多次。如果传入一个整数数组（an array of integers），则各个元素会被重复不同的次数。"
   ]
  },
  {
   "cell_type": "code",
   "execution_count": 44,
   "metadata": {
    "ExecuteTime": {
     "end_time": "2019-05-15T13:19:25.037344Z",
     "start_time": "2019-05-15T13:19:25.030361Z"
    }
   },
   "outputs": [
    {
     "data": {
      "text/plain": [
       "array([0, 0, 1, 1, 1, 2, 2, 2, 2])"
      ]
     },
     "execution_count": 44,
     "metadata": {},
     "output_type": "execute_result"
    }
   ],
   "source": [
    "arr.repeat([2, 3, 4])"
   ]
  },
  {
   "cell_type": "markdown",
   "metadata": {},
   "source": [
    "对于多维数组，还可以沿指定轴对元素进行重复。"
   ]
  },
  {
   "cell_type": "code",
   "execution_count": 45,
   "metadata": {
    "ExecuteTime": {
     "end_time": "2019-05-15T13:19:25.087217Z",
     "start_time": "2019-05-15T13:19:25.081225Z"
    }
   },
   "outputs": [
    {
     "data": {
      "text/plain": [
       "array([[0, 1],\n",
       "       [2, 3]])"
      ]
     },
     "execution_count": 45,
     "metadata": {},
     "output_type": "execute_result"
    }
   ],
   "source": [
    "arr = np.arange(4).reshape((2, 2))\n",
    "arr"
   ]
  },
  {
   "cell_type": "code",
   "execution_count": 46,
   "metadata": {
    "ExecuteTime": {
     "end_time": "2019-05-15T13:19:25.103165Z",
     "start_time": "2019-05-15T13:19:25.092199Z"
    }
   },
   "outputs": [
    {
     "data": {
      "text/plain": [
       "array([[0, 1],\n",
       "       [0, 1],\n",
       "       [2, 3],\n",
       "       [2, 3]])"
      ]
     },
     "execution_count": 46,
     "metadata": {},
     "output_type": "execute_result"
    }
   ],
   "source": [
    "arr.repeat(2, axis=0)"
   ]
  },
  {
   "cell_type": "code",
   "execution_count": 47,
   "metadata": {
    "ExecuteTime": {
     "end_time": "2019-05-15T13:19:25.128098Z",
     "start_time": "2019-05-15T13:19:25.108154Z"
    }
   },
   "outputs": [
    {
     "data": {
      "text/plain": [
       "array([[0, 0, 1, 1],\n",
       "       [2, 2, 3, 3]])"
      ]
     },
     "execution_count": 47,
     "metadata": {},
     "output_type": "execute_result"
    }
   ],
   "source": [
    "arr.repeat(2, axis=1)"
   ]
  },
  {
   "cell_type": "markdown",
   "metadata": {},
   "source": [
    "如果没有指定轴，那么数组首先会被扁平化（flatten）。"
   ]
  },
  {
   "cell_type": "code",
   "execution_count": 48,
   "metadata": {
    "ExecuteTime": {
     "end_time": "2019-05-15T13:19:25.165000Z",
     "start_time": "2019-05-15T13:19:25.159018Z"
    }
   },
   "outputs": [
    {
     "data": {
      "text/plain": [
       "array([0, 0, 1, 1, 2, 2, 3, 3])"
      ]
     },
     "execution_count": 48,
     "metadata": {},
     "output_type": "execute_result"
    }
   ],
   "source": [
    "arr.repeat(2)"
   ]
  },
  {
   "cell_type": "markdown",
   "metadata": {},
   "source": [
    "对于多维数组重复时，也可以传入一组整数，这样的话就会使各切片重复不同的次数。"
   ]
  },
  {
   "cell_type": "code",
   "execution_count": 49,
   "metadata": {
    "ExecuteTime": {
     "end_time": "2019-05-15T13:19:25.218871Z",
     "start_time": "2019-05-15T13:19:25.212873Z"
    }
   },
   "outputs": [
    {
     "data": {
      "text/plain": [
       "array([[0, 1],\n",
       "       [0, 1],\n",
       "       [2, 3],\n",
       "       [2, 3],\n",
       "       [2, 3]])"
      ]
     },
     "execution_count": 49,
     "metadata": {},
     "output_type": "execute_result"
    }
   ],
   "source": [
    "arr.repeat([2, 3], axis=0)"
   ]
  },
  {
   "cell_type": "code",
   "execution_count": 50,
   "metadata": {
    "ExecuteTime": {
     "end_time": "2019-05-15T13:19:25.231824Z",
     "start_time": "2019-05-15T13:19:25.222855Z"
    }
   },
   "outputs": [
    {
     "data": {
      "text/plain": [
       "array([[0, 0, 1, 1, 1],\n",
       "       [2, 2, 3, 3, 3]])"
      ]
     },
     "execution_count": 50,
     "metadata": {},
     "output_type": "execute_result"
    }
   ],
   "source": [
    "arr.repeat([2, 3], axis=1)"
   ]
  },
  {
   "cell_type": "markdown",
   "metadata": {},
   "source": [
    "**tile**沿指定轴堆叠数组的副本。可以理解为“铺瓷砖”。"
   ]
  },
  {
   "cell_type": "code",
   "execution_count": 51,
   "metadata": {
    "ExecuteTime": {
     "end_time": "2019-05-15T13:19:25.272730Z",
     "start_time": "2019-05-15T13:19:25.267731Z"
    }
   },
   "outputs": [
    {
     "data": {
      "text/plain": [
       "array([[0, 1],\n",
       "       [2, 3]])"
      ]
     },
     "execution_count": 51,
     "metadata": {},
     "output_type": "execute_result"
    }
   ],
   "source": [
    "arr"
   ]
  },
  {
   "cell_type": "code",
   "execution_count": 52,
   "metadata": {
    "ExecuteTime": {
     "end_time": "2019-05-15T13:19:25.283710Z",
     "start_time": "2019-05-15T13:19:25.275732Z"
    }
   },
   "outputs": [
    {
     "data": {
      "text/plain": [
       "array([[0, 1, 0, 1],\n",
       "       [2, 3, 2, 3]])"
      ]
     },
     "execution_count": 52,
     "metadata": {},
     "output_type": "execute_result"
    }
   ],
   "source": [
    "np.tile(arr, 2)"
   ]
  },
  {
   "cell_type": "markdown",
   "metadata": {},
   "source": [
    "第二个元素是“瓷砖”的数量。如果是标量，则水平铺，而不是垂直。第二个参数也可以是表示铺设布局的元组。"
   ]
  },
  {
   "cell_type": "code",
   "execution_count": 53,
   "metadata": {
    "ExecuteTime": {
     "end_time": "2019-05-15T13:19:25.327600Z",
     "start_time": "2019-05-15T13:19:25.319625Z"
    }
   },
   "outputs": [
    {
     "data": {
      "text/plain": [
       "array([[0, 1],\n",
       "       [2, 3]])"
      ]
     },
     "execution_count": 53,
     "metadata": {},
     "output_type": "execute_result"
    }
   ],
   "source": [
    "arr"
   ]
  },
  {
   "cell_type": "code",
   "execution_count": 54,
   "metadata": {
    "ExecuteTime": {
     "end_time": "2019-05-15T13:19:25.347525Z",
     "start_time": "2019-05-15T13:19:25.330559Z"
    }
   },
   "outputs": [
    {
     "data": {
      "text/plain": [
       "array([[0, 1],\n",
       "       [2, 3],\n",
       "       [0, 1],\n",
       "       [2, 3]])"
      ]
     },
     "execution_count": 54,
     "metadata": {},
     "output_type": "execute_result"
    }
   ],
   "source": [
    "np.tile(arr, (2, 1))"
   ]
  },
  {
   "cell_type": "code",
   "execution_count": 55,
   "metadata": {
    "ExecuteTime": {
     "end_time": "2019-05-15T13:19:25.361507Z",
     "start_time": "2019-05-15T13:19:25.349537Z"
    }
   },
   "outputs": [
    {
     "data": {
      "text/plain": [
       "array([[0, 1, 0, 1],\n",
       "       [2, 3, 2, 3],\n",
       "       [0, 1, 0, 1],\n",
       "       [2, 3, 2, 3],\n",
       "       [0, 1, 0, 1],\n",
       "       [2, 3, 2, 3]])"
      ]
     },
     "execution_count": 55,
     "metadata": {},
     "output_type": "execute_result"
    }
   ],
   "source": [
    "np.tile(arr, (3, 2))"
   ]
  },
  {
   "cell_type": "markdown",
   "metadata": {},
   "source": [
    "> 沿轴0重复3次，沿轴1重复2次。元组的shape和数组的shape一样。"
   ]
  },
  {
   "cell_type": "markdown",
   "metadata": {},
   "source": [
    "## 2.5 花式索引的等价函数——`take`和`put`"
   ]
  },
  {
   "cell_type": "markdown",
   "metadata": {},
   "source": [
    "获取数组子集的一个方法是通过整数数组使用花式索引。"
   ]
  },
  {
   "cell_type": "code",
   "execution_count": 56,
   "metadata": {
    "ExecuteTime": {
     "end_time": "2019-05-15T13:19:25.469187Z",
     "start_time": "2019-05-15T13:19:25.463204Z"
    }
   },
   "outputs": [
    {
     "data": {
      "text/plain": [
       "array([  0, 100, 200, 300, 400, 500, 600, 700, 800, 900])"
      ]
     },
     "execution_count": 56,
     "metadata": {},
     "output_type": "execute_result"
    }
   ],
   "source": [
    "arr = np.arange(10) * 100\n",
    "arr"
   ]
  },
  {
   "cell_type": "code",
   "execution_count": 57,
   "metadata": {
    "ExecuteTime": {
     "end_time": "2019-05-15T13:19:25.477195Z",
     "start_time": "2019-05-15T13:19:25.472182Z"
    }
   },
   "outputs": [],
   "source": [
    "inds = [7, 1, 2, 6]"
   ]
  },
  {
   "cell_type": "code",
   "execution_count": 58,
   "metadata": {
    "ExecuteTime": {
     "end_time": "2019-05-15T13:19:25.489151Z",
     "start_time": "2019-05-15T13:19:25.479164Z"
    }
   },
   "outputs": [
    {
     "data": {
      "text/plain": [
       "array([700, 100, 200, 600])"
      ]
     },
     "execution_count": 58,
     "metadata": {},
     "output_type": "execute_result"
    }
   ],
   "source": [
    "arr[inds]"
   ]
  },
  {
   "cell_type": "markdown",
   "metadata": {},
   "source": [
    "+ `take`——沿单个轴选择数组子集："
   ]
  },
  {
   "cell_type": "code",
   "execution_count": 59,
   "metadata": {
    "ExecuteTime": {
     "end_time": "2019-05-15T13:21:29.823017Z",
     "start_time": "2019-05-15T13:21:29.686963Z"
    }
   },
   "outputs": [
    {
     "data": {
      "text/plain": [
       "array([700, 100, 200, 600])"
      ]
     },
     "execution_count": 59,
     "metadata": {},
     "output_type": "execute_result"
    }
   ],
   "source": [
    "arr.take(inds)"
   ]
  },
  {
   "cell_type": "markdown",
   "metadata": {},
   "source": [
    "+ `put`——给数组子集赋值："
   ]
  },
  {
   "cell_type": "code",
   "execution_count": 60,
   "metadata": {
    "ExecuteTime": {
     "end_time": "2019-05-15T13:21:40.421937Z",
     "start_time": "2019-05-15T13:21:40.416923Z"
    }
   },
   "outputs": [],
   "source": [
    "arr.put(inds, 42)"
   ]
  },
  {
   "cell_type": "code",
   "execution_count": 61,
   "metadata": {
    "ExecuteTime": {
     "end_time": "2019-05-15T13:21:45.356937Z",
     "start_time": "2019-05-15T13:21:45.351948Z"
    }
   },
   "outputs": [
    {
     "data": {
      "text/plain": [
       "array([  0,  42,  42, 300, 400, 500,  42,  42, 800, 900])"
      ]
     },
     "execution_count": 61,
     "metadata": {},
     "output_type": "execute_result"
    }
   ],
   "source": [
    "arr"
   ]
  },
  {
   "cell_type": "code",
   "execution_count": 62,
   "metadata": {
    "ExecuteTime": {
     "end_time": "2019-05-15T13:22:26.361318Z",
     "start_time": "2019-05-15T13:22:26.356320Z"
    }
   },
   "outputs": [
    {
     "data": {
      "text/plain": [
       "array([  0,  41,  42, 300, 400, 500,  43,  40, 800, 900])"
      ]
     },
     "execution_count": 62,
     "metadata": {},
     "output_type": "execute_result"
    }
   ],
   "source": [
    "arr.put(inds, [40, 41, 42, 43])\n",
    "arr"
   ]
  },
  {
   "cell_type": "markdown",
   "metadata": {},
   "source": [
    "> `put`原地操作。`put`没有`axis`参数，只会在扁平化的数组上进行索引。因此，需要在其他轴上进行设置元素时，最好还是使用花式索引。"
   ]
  },
  {
   "cell_type": "markdown",
   "metadata": {},
   "source": [
    "`take`沿其他轴进行操作："
   ]
  },
  {
   "cell_type": "code",
   "execution_count": 64,
   "metadata": {
    "ExecuteTime": {
     "end_time": "2019-05-15T13:24:11.551928Z",
     "start_time": "2019-05-15T13:24:11.546940Z"
    }
   },
   "outputs": [
    {
     "data": {
      "text/plain": [
       "array([[0, 1, 2, 3],\n",
       "       [4, 5, 6, 7]])"
      ]
     },
     "execution_count": 64,
     "metadata": {},
     "output_type": "execute_result"
    }
   ],
   "source": [
    "arr = np.arange(8).reshape((2, 4))\n",
    "arr"
   ]
  },
  {
   "cell_type": "code",
   "execution_count": 65,
   "metadata": {
    "ExecuteTime": {
     "end_time": "2019-05-15T13:25:14.700216Z",
     "start_time": "2019-05-15T13:25:14.695229Z"
    }
   },
   "outputs": [],
   "source": [
    "inds = [2, 0, 2, 1]"
   ]
  },
  {
   "cell_type": "code",
   "execution_count": 66,
   "metadata": {
    "ExecuteTime": {
     "end_time": "2019-05-15T13:25:17.379540Z",
     "start_time": "2019-05-15T13:25:17.374548Z"
    }
   },
   "outputs": [
    {
     "data": {
      "text/plain": [
       "array([[2, 0, 2, 1],\n",
       "       [6, 4, 6, 5]])"
      ]
     },
     "execution_count": 66,
     "metadata": {},
     "output_type": "execute_result"
    }
   ],
   "source": [
    "arr.take(inds, axis=1)"
   ]
  },
  {
   "cell_type": "markdown",
   "metadata": {},
   "source": [
    "# 3 广播（broadcasting）"
   ]
  },
  {
   "cell_type": "markdown",
   "metadata": {
    "ExecuteTime": {
     "end_time": "2019-05-15T13:37:44.266653Z",
     "start_time": "2019-05-15T13:37:44.261639Z"
    }
   },
   "source": [
    "广播是指不同shape的数组之间的算术运算执行方式。功能强大，但容易引起困惑。\n",
    "\n",
    "**最简单的广播发生在将标量和数组合并时。**"
   ]
  },
  {
   "cell_type": "code",
   "execution_count": 68,
   "metadata": {
    "ExecuteTime": {
     "end_time": "2019-05-15T13:37:54.758445Z",
     "start_time": "2019-05-15T13:37:54.753456Z"
    }
   },
   "outputs": [
    {
     "data": {
      "text/plain": [
       "array([0, 1, 2, 3, 4])"
      ]
     },
     "execution_count": 68,
     "metadata": {},
     "output_type": "execute_result"
    }
   ],
   "source": [
    "arr = np.arange(5)\n",
    "arr"
   ]
  },
  {
   "cell_type": "code",
   "execution_count": 69,
   "metadata": {
    "ExecuteTime": {
     "end_time": "2019-05-15T13:38:01.200838Z",
     "start_time": "2019-05-15T13:38:01.194853Z"
    }
   },
   "outputs": [
    {
     "data": {
      "text/plain": [
       "array([ 0,  4,  8, 12, 16])"
      ]
     },
     "execution_count": 69,
     "metadata": {},
     "output_type": "execute_result"
    }
   ],
   "source": [
    "arr * 4"
   ]
  },
  {
   "cell_type": "markdown",
   "metadata": {},
   "source": [
    "> 这里，可以说：在乘法操作中，标量值4被广播到其他所有元素上。"
   ]
  },
  {
   "cell_type": "markdown",
   "metadata": {},
   "source": [
    "可以通过减去列平均值的方式对数组的每一列进行距平化处理:"
   ]
  },
  {
   "cell_type": "code",
   "execution_count": 70,
   "metadata": {
    "ExecuteTime": {
     "end_time": "2019-05-16T00:55:00.150924Z",
     "start_time": "2019-05-16T00:55:00.139924Z"
    }
   },
   "outputs": [
    {
     "data": {
      "text/plain": [
       "array([[-0.75236963, -1.22186617, -0.15407726],\n",
       "       [-0.22739966,  1.2108285 ,  0.4724713 ],\n",
       "       [ 0.7535036 ,  0.465045  , -1.54424534],\n",
       "       [ 0.33225264, -1.95410008, -0.39267789]])"
      ]
     },
     "execution_count": 70,
     "metadata": {},
     "output_type": "execute_result"
    }
   ],
   "source": [
    "arr = np.random.randn(4, 3)\n",
    "arr"
   ]
  },
  {
   "cell_type": "code",
   "execution_count": 71,
   "metadata": {
    "ExecuteTime": {
     "end_time": "2019-05-16T00:55:04.720778Z",
     "start_time": "2019-05-16T00:55:04.713797Z"
    }
   },
   "outputs": [
    {
     "data": {
      "text/plain": [
       "array([ 0.02649674, -0.37502319, -0.4046323 ])"
      ]
     },
     "execution_count": 71,
     "metadata": {},
     "output_type": "execute_result"
    }
   ],
   "source": [
    "arr.mean(0)"
   ]
  },
  {
   "cell_type": "code",
   "execution_count": 72,
   "metadata": {
    "ExecuteTime": {
     "end_time": "2019-05-16T00:55:19.052755Z",
     "start_time": "2019-05-16T00:55:19.045769Z"
    }
   },
   "outputs": [
    {
     "data": {
      "text/plain": [
       "array([[-0.77886637, -0.84684298,  0.25055503],\n",
       "       [-0.2538964 ,  1.58585169,  0.8771036 ],\n",
       "       [ 0.72700687,  0.84006819, -1.13961304],\n",
       "       [ 0.3057559 , -1.5790769 ,  0.01195441]])"
      ]
     },
     "execution_count": 72,
     "metadata": {},
     "output_type": "execute_result"
    }
   ],
   "source": [
    "demeaned = arr - arr.mean(0)\n",
    "demeaned"
   ]
  },
  {
   "cell_type": "code",
   "execution_count": 73,
   "metadata": {
    "ExecuteTime": {
     "end_time": "2019-05-16T00:56:17.103307Z",
     "start_time": "2019-05-16T00:56:17.096309Z"
    }
   },
   "outputs": [
    {
     "data": {
      "text/plain": [
       "array([-2.77555756e-17,  0.00000000e+00,  8.32667268e-17])"
      ]
     },
     "execution_count": 73,
     "metadata": {},
     "output_type": "execute_result"
    }
   ],
   "source": [
    "demeaned.mean(0)"
   ]
  },
  {
   "cell_type": "code",
   "execution_count": null,
   "metadata": {},
   "outputs": [],
   "source": [
    "只要遵循一定的规则，低维度的值可以"
   ]
  }
 ],
 "metadata": {
  "hide_input": false,
  "kernelspec": {
   "display_name": "Python 3",
   "language": "python",
   "name": "python3"
  },
  "language_info": {
   "codemirror_mode": {
    "name": "ipython",
    "version": 3
   },
   "file_extension": ".py",
   "mimetype": "text/x-python",
   "name": "python",
   "nbconvert_exporter": "python",
   "pygments_lexer": "ipython3",
   "version": "3.6.8"
  },
  "latex_envs": {
   "LaTeX_envs_menu_present": true,
   "autoclose": false,
   "autocomplete": true,
   "bibliofile": "biblio.bib",
   "cite_by": "apalike",
   "current_citInitial": 1,
   "eqLabelWithNumbers": true,
   "eqNumInitial": 1,
   "hotkeys": {
    "equation": "Ctrl-E",
    "itemize": "Ctrl-I"
   },
   "labels_anchors": false,
   "latex_user_defs": false,
   "report_style_numbering": false,
   "user_envs_cfg": false
  },
  "nbTranslate": {
   "displayLangs": [
    "*"
   ],
   "hotkey": "alt-t",
   "langInMainMenu": true,
   "sourceLang": "en",
   "targetLang": "fr",
   "useGoogleTranslate": true
  },
  "toc": {
   "base_numbering": 1,
   "nav_menu": {},
   "number_sections": true,
   "sideBar": true,
   "skip_h1_title": false,
   "title_cell": "Table of Contents",
   "title_sidebar": "Contents",
   "toc_cell": false,
   "toc_position": {},
   "toc_section_display": true,
   "toc_window_display": false
  },
  "varInspector": {
   "cols": {
    "lenName": 16,
    "lenType": 16,
    "lenVar": 40
   },
   "kernels_config": {
    "python": {
     "delete_cmd_postfix": "",
     "delete_cmd_prefix": "del ",
     "library": "var_list.py",
     "varRefreshCmd": "print(var_dic_list())"
    },
    "r": {
     "delete_cmd_postfix": ") ",
     "delete_cmd_prefix": "rm(",
     "library": "var_list.r",
     "varRefreshCmd": "cat(var_dic_list()) "
    }
   },
   "types_to_exclude": [
    "module",
    "function",
    "builtin_function_or_method",
    "instance",
    "_Feature"
   ],
   "window_display": false
  }
 },
 "nbformat": 4,
 "nbformat_minor": 2
}
